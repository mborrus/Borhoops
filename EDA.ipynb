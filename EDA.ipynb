{
 "cells": [
  {
   "cell_type": "markdown",
   "metadata": {},
   "source": [
    "# EDA for March Learning Mania\n",
    "\n",
    "### Goal: \n",
    "We want to create a model which can provide predictions in the format of YEAR_TEAM1ID_TEAM2ID_WINCHANCE\n",
    "\n",
    "where the winchance is a value from 0->1 representing the probability that the team with the higher team ID will win. \n",
    "\n",
    "\"For example, \"2025_1101_1102\" indicates a hypothetical matchup between team 1101 and 1102 in the year 2025. You must predict the probability that the team with the lower TeamId beats the team with the higher TeamId\"\n",
    "\n",
    "Output should look like this:\n",
    "```\n",
    "ID,Pred\n",
    "2025_1101_1102,0.5\n",
    "2025_1101_1103,0.5\n",
    "2025_1101_1104,0.5\n",
    "...\n",
    "```\n",
    "\n",
    "### Data files:\n",
    "They give you a suffocating amount of data, including: \n",
    "- Basic Team & Season Data\n",
    "- Detailed Game Statistics\n",
    "- Geographical Data\n",
    "- Ranking & Rating Systems\n",
    "- Tournament Bracket Structure\n",
    "- Supplementary Data\n",
    "- Data for Submissions\n",
    "- Miscellaneous\n",
    "\n",
    "GPT summarized them in the blob below. The key point is that you should probably be able to build a basic model with the basic team and season data. \n",
    "\n",
    "Based on historical matches between teams, how will they perform in the future?\n",
    "\n",
    "The first steps will to get the data into basic form"
   ]
  },
  {
   "cell_type": "markdown",
   "metadata": {},
   "source": [
    "#### **Basic Team & Season Data**\n",
    "- **MTeams.csv / WTeams.csv** – Lists all NCAA teams with unique Team IDs and historical Division-I participation details.\n",
    "- **MSeasons.csv / WSeasons.csv** – Details past seasons, including season start dates and region assignments.\n",
    "- **MNCAATourneySeeds.csv / WNCAATourneySeeds.csv** – Provides historical NCAA tournament seedings for teams since 1985 (men) and 1998 (women).\n",
    "- **MRegularSeasonCompactResults.csv / WRegularSeasonCompactResults.csv** – Contains game results (winner, loser, score, location) for regular season games since 1985 (men) and 1998 (women).\n",
    "- **MNCAATourneyCompactResults.csv / WNCAATourneyCompactResults.csv** – Similar to above but specific to NCAA tournament games.\n",
    "\n",
    "#### **Detailed Game Statistics**\n",
    "- **MRegularSeasonDetailedResults.csv / WRegularSeasonDetailedResults.csv** – Contains extended game stats like field goals, rebounds, assists, etc., since 2003 (men) and 2010 (women).\n",
    "- **MNCAATourneyDetailedResults.csv / WNCAATourneyDetailedResults.csv** – Similar to above but specific to NCAA tournament games.\n",
    "\n",
    "#### **Geographical Data**\n",
    "- **Cities.csv** – Lists cities where games were played, including city IDs, names, and state abbreviations.\n",
    "- **MGameCities.csv / WGameCities.csv** – Maps each game to its city, starting from 2010.\n",
    "\n",
    "#### **Ranking & Rating Systems**\n",
    "- **MMasseyOrdinals.csv** – Weekly rankings of men's teams across various rating systems since 2003.\n",
    "\n",
    "#### **Tournament Bracket Structure**\n",
    "- **MNCAATourneySlots.csv / WNCAATourneySlots.csv** – Defines how teams progress through the tournament based on seed matchups.\n",
    "- **MNCAATourneySeedRoundSlots.csv** – Maps tournament seeds to their expected bracket slots and game rounds (men only).\n",
    "\n",
    "#### **Supplementary Data**\n",
    "- **MTeamCoaches.csv** – Lists head coaches for teams per season, including mid-season changes.\n",
    "- **Conferences.csv** – Contains NCAA conference names and abbreviations.\n",
    "- **MTeamConferences.csv / WTeamConferences.csv** – Tracks which teams belonged to which conferences each season.\n",
    "- **MConferenceTourneyGames.csv / WConferenceTourneyGames.csv** – Identifies games from conference tournaments before the NCAA tournament.\n",
    "- **MSecondaryTourneyTeams.csv / WSecondaryTourneyTeams.csv** – Lists teams that participated in secondary postseason tournaments (e.g., NIT).\n",
    "- **MSecondaryTourneyCompactResults.csv / WSecondaryTourneyCompactResults.csv** – Contains results for games in secondary tournaments.\n",
    "\n",
    "#### **Data for Submissions**\n",
    "- **SampleSubmissionStage1.csv / SampleSubmissionStage2.csv** – Example submission files showing expected format.\n",
    "- **SeedBenchmarkStage1.csv** – Baseline model predictions based on seed matchups.\n",
    "\n",
    "#### **Miscellaneous**\n",
    "- **MTeamSpellings.csv / WTeamSpellings.csv** – Helps map external team name variations to standardized Team IDs.\n"
   ]
  },
  {
   "cell_type": "markdown",
   "metadata": {},
   "source": [
    "## Organize data"
   ]
  },
  {
   "cell_type": "code",
   "execution_count": 32,
   "metadata": {},
   "outputs": [],
   "source": [
    "import pandas as pd\n",
    "import yaml\n",
    "\n",
    "with open('config.yaml', 'r') as file:\n",
    "    config_file = yaml.safe_load(file)\n",
    "data_dir = config_file.get(\"data_dir\")\n",
    "\n",
    "def peek(file_name):\n",
    "    df = pd.read_csv(f\"{data_dir}/{file_name}.csv\").head()\n",
    "    return(df)"
   ]
  },
  {
   "cell_type": "code",
   "execution_count": null,
   "metadata": {},
   "outputs": [
    {
     "data": {
      "application/vnd.microsoft.datawrangler.viewer.v0+json": {
       "columns": [
        {
         "name": "index",
         "rawType": "int64",
         "type": "integer"
        },
        {
         "name": "TeamID",
         "rawType": "int64",
         "type": "integer"
        },
        {
         "name": "TeamName",
         "rawType": "object",
         "type": "string"
        },
        {
         "name": "FirstD1Season",
         "rawType": "int64",
         "type": "integer"
        },
        {
         "name": "LastD1Season",
         "rawType": "int64",
         "type": "integer"
        }
       ],
       "conversionMethod": "pd.DataFrame",
       "ref": "9eab119d-a900-44bb-b053-d2a6e1fe78e1",
       "rows": [
        [
         "0",
         "1101",
         "Abilene Chr",
         "2014",
         "2025"
        ],
        [
         "1",
         "1102",
         "Air Force",
         "1985",
         "2025"
        ],
        [
         "2",
         "1103",
         "Akron",
         "1985",
         "2025"
        ],
        [
         "3",
         "1104",
         "Alabama",
         "1985",
         "2025"
        ],
        [
         "4",
         "1105",
         "Alabama A&M",
         "2000",
         "2025"
        ]
       ],
       "shape": {
        "columns": 4,
        "rows": 5
       }
      },
      "text/html": [
       "<div>\n",
       "<style scoped>\n",
       "    .dataframe tbody tr th:only-of-type {\n",
       "        vertical-align: middle;\n",
       "    }\n",
       "\n",
       "    .dataframe tbody tr th {\n",
       "        vertical-align: top;\n",
       "    }\n",
       "\n",
       "    .dataframe thead th {\n",
       "        text-align: right;\n",
       "    }\n",
       "</style>\n",
       "<table border=\"1\" class=\"dataframe\">\n",
       "  <thead>\n",
       "    <tr style=\"text-align: right;\">\n",
       "      <th></th>\n",
       "      <th>TeamID</th>\n",
       "      <th>TeamName</th>\n",
       "      <th>FirstD1Season</th>\n",
       "      <th>LastD1Season</th>\n",
       "    </tr>\n",
       "  </thead>\n",
       "  <tbody>\n",
       "    <tr>\n",
       "      <th>0</th>\n",
       "      <td>1101</td>\n",
       "      <td>Abilene Chr</td>\n",
       "      <td>2014</td>\n",
       "      <td>2025</td>\n",
       "    </tr>\n",
       "    <tr>\n",
       "      <th>1</th>\n",
       "      <td>1102</td>\n",
       "      <td>Air Force</td>\n",
       "      <td>1985</td>\n",
       "      <td>2025</td>\n",
       "    </tr>\n",
       "    <tr>\n",
       "      <th>2</th>\n",
       "      <td>1103</td>\n",
       "      <td>Akron</td>\n",
       "      <td>1985</td>\n",
       "      <td>2025</td>\n",
       "    </tr>\n",
       "    <tr>\n",
       "      <th>3</th>\n",
       "      <td>1104</td>\n",
       "      <td>Alabama</td>\n",
       "      <td>1985</td>\n",
       "      <td>2025</td>\n",
       "    </tr>\n",
       "    <tr>\n",
       "      <th>4</th>\n",
       "      <td>1105</td>\n",
       "      <td>Alabama A&amp;M</td>\n",
       "      <td>2000</td>\n",
       "      <td>2025</td>\n",
       "    </tr>\n",
       "  </tbody>\n",
       "</table>\n",
       "</div>"
      ],
      "text/plain": [
       "   TeamID     TeamName  FirstD1Season  LastD1Season\n",
       "0    1101  Abilene Chr           2014          2025\n",
       "1    1102    Air Force           1985          2025\n",
       "2    1103        Akron           1985          2025\n",
       "3    1104      Alabama           1985          2025\n",
       "4    1105  Alabama A&M           2000          2025"
      ]
     },
     "execution_count": 33,
     "metadata": {},
     "output_type": "execute_result"
    }
   ],
   "source": [
    "# Straight forward, mostly a lookup table. \n",
    "peek(\"MTeams\")"
   ]
  },
  {
   "cell_type": "code",
   "execution_count": null,
   "metadata": {},
   "outputs": [
    {
     "data": {
      "application/vnd.microsoft.datawrangler.viewer.v0+json": {
       "columns": [
        {
         "name": "index",
         "rawType": "int64",
         "type": "integer"
        },
        {
         "name": "Season",
         "rawType": "int64",
         "type": "integer"
        },
        {
         "name": "Seed",
         "rawType": "object",
         "type": "string"
        },
        {
         "name": "TeamID",
         "rawType": "int64",
         "type": "integer"
        }
       ],
       "conversionMethod": "pd.DataFrame",
       "ref": "9a6c30e0-d98e-47bf-9d91-d9f844b1bd4a",
       "rows": [
        [
         "0",
         "1985",
         "W01",
         "1207"
        ],
        [
         "1",
         "1985",
         "W02",
         "1210"
        ],
        [
         "2",
         "1985",
         "W03",
         "1228"
        ],
        [
         "3",
         "1985",
         "W04",
         "1260"
        ],
        [
         "4",
         "1985",
         "W05",
         "1374"
        ]
       ],
       "shape": {
        "columns": 3,
        "rows": 5
       }
      },
      "text/html": [
       "<div>\n",
       "<style scoped>\n",
       "    .dataframe tbody tr th:only-of-type {\n",
       "        vertical-align: middle;\n",
       "    }\n",
       "\n",
       "    .dataframe tbody tr th {\n",
       "        vertical-align: top;\n",
       "    }\n",
       "\n",
       "    .dataframe thead th {\n",
       "        text-align: right;\n",
       "    }\n",
       "</style>\n",
       "<table border=\"1\" class=\"dataframe\">\n",
       "  <thead>\n",
       "    <tr style=\"text-align: right;\">\n",
       "      <th></th>\n",
       "      <th>Season</th>\n",
       "      <th>Seed</th>\n",
       "      <th>TeamID</th>\n",
       "    </tr>\n",
       "  </thead>\n",
       "  <tbody>\n",
       "    <tr>\n",
       "      <th>0</th>\n",
       "      <td>1985</td>\n",
       "      <td>W01</td>\n",
       "      <td>1207</td>\n",
       "    </tr>\n",
       "    <tr>\n",
       "      <th>1</th>\n",
       "      <td>1985</td>\n",
       "      <td>W02</td>\n",
       "      <td>1210</td>\n",
       "    </tr>\n",
       "    <tr>\n",
       "      <th>2</th>\n",
       "      <td>1985</td>\n",
       "      <td>W03</td>\n",
       "      <td>1228</td>\n",
       "    </tr>\n",
       "    <tr>\n",
       "      <th>3</th>\n",
       "      <td>1985</td>\n",
       "      <td>W04</td>\n",
       "      <td>1260</td>\n",
       "    </tr>\n",
       "    <tr>\n",
       "      <th>4</th>\n",
       "      <td>1985</td>\n",
       "      <td>W05</td>\n",
       "      <td>1374</td>\n",
       "    </tr>\n",
       "  </tbody>\n",
       "</table>\n",
       "</div>"
      ],
      "text/plain": [
       "   Season Seed  TeamID\n",
       "0    1985  W01    1207\n",
       "1    1985  W02    1210\n",
       "2    1985  W03    1228\n",
       "3    1985  W04    1260\n",
       "4    1985  W05    1374"
      ]
     },
     "execution_count": 36,
     "metadata": {},
     "output_type": "execute_result"
    }
   ],
   "source": [
    "# A bit confusing, will take a bit of work to get the seeds lined up, but maybed they've already done it for us\n",
    "peek(\"MNCAATourneySeeds\")"
   ]
  },
  {
   "cell_type": "code",
   "execution_count": 41,
   "metadata": {},
   "outputs": [
    {
     "data": {
      "application/vnd.microsoft.datawrangler.viewer.v0+json": {
       "columns": [
        {
         "name": "index",
         "rawType": "int64",
         "type": "integer"
        },
        {
         "name": "Season",
         "rawType": "int64",
         "type": "integer"
        },
        {
         "name": "DayNum",
         "rawType": "int64",
         "type": "integer"
        },
        {
         "name": "WTeamID",
         "rawType": "int64",
         "type": "integer"
        },
        {
         "name": "WScore",
         "rawType": "int64",
         "type": "integer"
        },
        {
         "name": "LTeamID",
         "rawType": "int64",
         "type": "integer"
        },
        {
         "name": "LScore",
         "rawType": "int64",
         "type": "integer"
        },
        {
         "name": "WLoc",
         "rawType": "object",
         "type": "string"
        },
        {
         "name": "NumOT",
         "rawType": "int64",
         "type": "integer"
        }
       ],
       "conversionMethod": "pd.DataFrame",
       "ref": "cf3527b0-3623-45c9-a2f3-d521ad66313c",
       "rows": [
        [
         "0",
         "1985",
         "20",
         "1228",
         "81",
         "1328",
         "64",
         "N",
         "0"
        ],
        [
         "1",
         "1985",
         "25",
         "1106",
         "77",
         "1354",
         "70",
         "H",
         "0"
        ],
        [
         "2",
         "1985",
         "25",
         "1112",
         "63",
         "1223",
         "56",
         "H",
         "0"
        ],
        [
         "3",
         "1985",
         "25",
         "1165",
         "70",
         "1432",
         "54",
         "H",
         "0"
        ],
        [
         "4",
         "1985",
         "25",
         "1192",
         "86",
         "1447",
         "74",
         "H",
         "0"
        ]
       ],
       "shape": {
        "columns": 8,
        "rows": 5
       }
      },
      "text/html": [
       "<div>\n",
       "<style scoped>\n",
       "    .dataframe tbody tr th:only-of-type {\n",
       "        vertical-align: middle;\n",
       "    }\n",
       "\n",
       "    .dataframe tbody tr th {\n",
       "        vertical-align: top;\n",
       "    }\n",
       "\n",
       "    .dataframe thead th {\n",
       "        text-align: right;\n",
       "    }\n",
       "</style>\n",
       "<table border=\"1\" class=\"dataframe\">\n",
       "  <thead>\n",
       "    <tr style=\"text-align: right;\">\n",
       "      <th></th>\n",
       "      <th>Season</th>\n",
       "      <th>DayNum</th>\n",
       "      <th>WTeamID</th>\n",
       "      <th>WScore</th>\n",
       "      <th>LTeamID</th>\n",
       "      <th>LScore</th>\n",
       "      <th>WLoc</th>\n",
       "      <th>NumOT</th>\n",
       "    </tr>\n",
       "  </thead>\n",
       "  <tbody>\n",
       "    <tr>\n",
       "      <th>0</th>\n",
       "      <td>1985</td>\n",
       "      <td>20</td>\n",
       "      <td>1228</td>\n",
       "      <td>81</td>\n",
       "      <td>1328</td>\n",
       "      <td>64</td>\n",
       "      <td>N</td>\n",
       "      <td>0</td>\n",
       "    </tr>\n",
       "    <tr>\n",
       "      <th>1</th>\n",
       "      <td>1985</td>\n",
       "      <td>25</td>\n",
       "      <td>1106</td>\n",
       "      <td>77</td>\n",
       "      <td>1354</td>\n",
       "      <td>70</td>\n",
       "      <td>H</td>\n",
       "      <td>0</td>\n",
       "    </tr>\n",
       "    <tr>\n",
       "      <th>2</th>\n",
       "      <td>1985</td>\n",
       "      <td>25</td>\n",
       "      <td>1112</td>\n",
       "      <td>63</td>\n",
       "      <td>1223</td>\n",
       "      <td>56</td>\n",
       "      <td>H</td>\n",
       "      <td>0</td>\n",
       "    </tr>\n",
       "    <tr>\n",
       "      <th>3</th>\n",
       "      <td>1985</td>\n",
       "      <td>25</td>\n",
       "      <td>1165</td>\n",
       "      <td>70</td>\n",
       "      <td>1432</td>\n",
       "      <td>54</td>\n",
       "      <td>H</td>\n",
       "      <td>0</td>\n",
       "    </tr>\n",
       "    <tr>\n",
       "      <th>4</th>\n",
       "      <td>1985</td>\n",
       "      <td>25</td>\n",
       "      <td>1192</td>\n",
       "      <td>86</td>\n",
       "      <td>1447</td>\n",
       "      <td>74</td>\n",
       "      <td>H</td>\n",
       "      <td>0</td>\n",
       "    </tr>\n",
       "  </tbody>\n",
       "</table>\n",
       "</div>"
      ],
      "text/plain": [
       "   Season  DayNum  WTeamID  WScore  LTeamID  LScore WLoc  NumOT\n",
       "0    1985      20     1228      81     1328      64    N      0\n",
       "1    1985      25     1106      77     1354      70    H      0\n",
       "2    1985      25     1112      63     1223      56    H      0\n",
       "3    1985      25     1165      70     1432      54    H      0\n",
       "4    1985      25     1192      86     1447      74    H      0"
      ]
     },
     "execution_count": 41,
     "metadata": {},
     "output_type": "execute_result"
    }
   ],
   "source": [
    "## So this has a lot of potential. \n",
    "# You could get a better sense of a probability of a win based on team-by-team point differentials. \n",
    "# The model should also see how \"good\" the team is that season, based on this differential.\n",
    "peek(\"MRegularSeasonCompactResults\")"
   ]
  },
  {
   "cell_type": "code",
   "execution_count": null,
   "metadata": {},
   "outputs": [
    {
     "data": {
      "application/vnd.microsoft.datawrangler.viewer.v0+json": {
       "columns": [
        {
         "name": "index",
         "rawType": "int64",
         "type": "integer"
        },
        {
         "name": "Season",
         "rawType": "int64",
         "type": "integer"
        },
        {
         "name": "DayNum",
         "rawType": "int64",
         "type": "integer"
        },
        {
         "name": "WTeamID",
         "rawType": "int64",
         "type": "integer"
        },
        {
         "name": "WScore",
         "rawType": "int64",
         "type": "integer"
        },
        {
         "name": "LTeamID",
         "rawType": "int64",
         "type": "integer"
        },
        {
         "name": "LScore",
         "rawType": "int64",
         "type": "integer"
        },
        {
         "name": "WLoc",
         "rawType": "object",
         "type": "string"
        },
        {
         "name": "NumOT",
         "rawType": "int64",
         "type": "integer"
        }
       ],
       "conversionMethod": "pd.DataFrame",
       "ref": "a87f146b-6c63-4644-9b05-d7be74d8d0a3",
       "rows": [
        [
         "0",
         "1985",
         "136",
         "1116",
         "63",
         "1234",
         "54",
         "N",
         "0"
        ],
        [
         "1",
         "1985",
         "136",
         "1120",
         "59",
         "1345",
         "58",
         "N",
         "0"
        ],
        [
         "2",
         "1985",
         "136",
         "1207",
         "68",
         "1250",
         "43",
         "N",
         "0"
        ],
        [
         "3",
         "1985",
         "136",
         "1229",
         "58",
         "1425",
         "55",
         "N",
         "0"
        ],
        [
         "4",
         "1985",
         "136",
         "1242",
         "49",
         "1325",
         "38",
         "N",
         "0"
        ]
       ],
       "shape": {
        "columns": 8,
        "rows": 5
       }
      },
      "text/html": [
       "<div>\n",
       "<style scoped>\n",
       "    .dataframe tbody tr th:only-of-type {\n",
       "        vertical-align: middle;\n",
       "    }\n",
       "\n",
       "    .dataframe tbody tr th {\n",
       "        vertical-align: top;\n",
       "    }\n",
       "\n",
       "    .dataframe thead th {\n",
       "        text-align: right;\n",
       "    }\n",
       "</style>\n",
       "<table border=\"1\" class=\"dataframe\">\n",
       "  <thead>\n",
       "    <tr style=\"text-align: right;\">\n",
       "      <th></th>\n",
       "      <th>Season</th>\n",
       "      <th>DayNum</th>\n",
       "      <th>WTeamID</th>\n",
       "      <th>WScore</th>\n",
       "      <th>LTeamID</th>\n",
       "      <th>LScore</th>\n",
       "      <th>WLoc</th>\n",
       "      <th>NumOT</th>\n",
       "    </tr>\n",
       "  </thead>\n",
       "  <tbody>\n",
       "    <tr>\n",
       "      <th>0</th>\n",
       "      <td>1985</td>\n",
       "      <td>136</td>\n",
       "      <td>1116</td>\n",
       "      <td>63</td>\n",
       "      <td>1234</td>\n",
       "      <td>54</td>\n",
       "      <td>N</td>\n",
       "      <td>0</td>\n",
       "    </tr>\n",
       "    <tr>\n",
       "      <th>1</th>\n",
       "      <td>1985</td>\n",
       "      <td>136</td>\n",
       "      <td>1120</td>\n",
       "      <td>59</td>\n",
       "      <td>1345</td>\n",
       "      <td>58</td>\n",
       "      <td>N</td>\n",
       "      <td>0</td>\n",
       "    </tr>\n",
       "    <tr>\n",
       "      <th>2</th>\n",
       "      <td>1985</td>\n",
       "      <td>136</td>\n",
       "      <td>1207</td>\n",
       "      <td>68</td>\n",
       "      <td>1250</td>\n",
       "      <td>43</td>\n",
       "      <td>N</td>\n",
       "      <td>0</td>\n",
       "    </tr>\n",
       "    <tr>\n",
       "      <th>3</th>\n",
       "      <td>1985</td>\n",
       "      <td>136</td>\n",
       "      <td>1229</td>\n",
       "      <td>58</td>\n",
       "      <td>1425</td>\n",
       "      <td>55</td>\n",
       "      <td>N</td>\n",
       "      <td>0</td>\n",
       "    </tr>\n",
       "    <tr>\n",
       "      <th>4</th>\n",
       "      <td>1985</td>\n",
       "      <td>136</td>\n",
       "      <td>1242</td>\n",
       "      <td>49</td>\n",
       "      <td>1325</td>\n",
       "      <td>38</td>\n",
       "      <td>N</td>\n",
       "      <td>0</td>\n",
       "    </tr>\n",
       "  </tbody>\n",
       "</table>\n",
       "</div>"
      ],
      "text/plain": [
       "   Season  DayNum  WTeamID  WScore  LTeamID  LScore WLoc  NumOT\n",
       "0    1985     136     1116      63     1234      54    N      0\n",
       "1    1985     136     1120      59     1345      58    N      0\n",
       "2    1985     136     1207      68     1250      43    N      0\n",
       "3    1985     136     1229      58     1425      55    N      0\n",
       "4    1985     136     1242      49     1325      38    N      0"
      ]
     },
     "execution_count": 40,
     "metadata": {},
     "output_type": "execute_result"
    }
   ],
   "source": [
    "# Exact same as above, but for the tournament.\n",
    "# Still not sure how to use the daynumber to understand which game it is in the tournament.\n",
    "# I'd like to include some \"heating up\" factor, becuase it seems teams go on runs, but maybe that's just a function of media\n",
    "# aspirational if anything\n",
    "peek(\"MNCAATourneyCompactResults\")"
   ]
  },
  {
   "cell_type": "code",
   "execution_count": 44,
   "metadata": {},
   "outputs": [
    {
     "data": {
      "application/vnd.microsoft.datawrangler.viewer.v0+json": {
       "columns": [
        {
         "name": "index",
         "rawType": "int64",
         "type": "integer"
        },
        {
         "name": "Season",
         "rawType": "int64",
         "type": "integer"
        },
        {
         "name": "DayNum",
         "rawType": "int64",
         "type": "integer"
        },
        {
         "name": "WTeamID",
         "rawType": "int64",
         "type": "integer"
        },
        {
         "name": "WScore",
         "rawType": "int64",
         "type": "integer"
        },
        {
         "name": "LTeamID",
         "rawType": "int64",
         "type": "integer"
        },
        {
         "name": "LScore",
         "rawType": "int64",
         "type": "integer"
        },
        {
         "name": "WLoc",
         "rawType": "object",
         "type": "string"
        },
        {
         "name": "NumOT",
         "rawType": "int64",
         "type": "integer"
        },
        {
         "name": "WFGM",
         "rawType": "int64",
         "type": "integer"
        },
        {
         "name": "WFGA",
         "rawType": "int64",
         "type": "integer"
        },
        {
         "name": "WFGM3",
         "rawType": "int64",
         "type": "integer"
        },
        {
         "name": "WFGA3",
         "rawType": "int64",
         "type": "integer"
        },
        {
         "name": "WFTM",
         "rawType": "int64",
         "type": "integer"
        },
        {
         "name": "WFTA",
         "rawType": "int64",
         "type": "integer"
        },
        {
         "name": "WOR",
         "rawType": "int64",
         "type": "integer"
        },
        {
         "name": "WDR",
         "rawType": "int64",
         "type": "integer"
        },
        {
         "name": "WAst",
         "rawType": "int64",
         "type": "integer"
        },
        {
         "name": "WTO",
         "rawType": "int64",
         "type": "integer"
        },
        {
         "name": "WStl",
         "rawType": "int64",
         "type": "integer"
        },
        {
         "name": "WBlk",
         "rawType": "int64",
         "type": "integer"
        },
        {
         "name": "WPF",
         "rawType": "int64",
         "type": "integer"
        },
        {
         "name": "LFGM",
         "rawType": "int64",
         "type": "integer"
        },
        {
         "name": "LFGA",
         "rawType": "int64",
         "type": "integer"
        },
        {
         "name": "LFGM3",
         "rawType": "int64",
         "type": "integer"
        },
        {
         "name": "LFGA3",
         "rawType": "int64",
         "type": "integer"
        },
        {
         "name": "LFTM",
         "rawType": "int64",
         "type": "integer"
        },
        {
         "name": "LFTA",
         "rawType": "int64",
         "type": "integer"
        },
        {
         "name": "LOR",
         "rawType": "int64",
         "type": "integer"
        },
        {
         "name": "LDR",
         "rawType": "int64",
         "type": "integer"
        },
        {
         "name": "LAst",
         "rawType": "int64",
         "type": "integer"
        },
        {
         "name": "LTO",
         "rawType": "int64",
         "type": "integer"
        },
        {
         "name": "LStl",
         "rawType": "int64",
         "type": "integer"
        },
        {
         "name": "LBlk",
         "rawType": "int64",
         "type": "integer"
        },
        {
         "name": "LPF",
         "rawType": "int64",
         "type": "integer"
        }
       ],
       "conversionMethod": "pd.DataFrame",
       "ref": "671a3cd6-fb35-4d09-b500-fd42d27b75e6",
       "rows": [
        [
         "0",
         "2003",
         "10",
         "1104",
         "68",
         "1328",
         "62",
         "N",
         "0",
         "27",
         "58",
         "3",
         "14",
         "11",
         "18",
         "14",
         "24",
         "13",
         "23",
         "7",
         "1",
         "22",
         "22",
         "53",
         "2",
         "10",
         "16",
         "22",
         "10",
         "22",
         "8",
         "18",
         "9",
         "2",
         "20"
        ],
        [
         "1",
         "2003",
         "10",
         "1272",
         "70",
         "1393",
         "63",
         "N",
         "0",
         "26",
         "62",
         "8",
         "20",
         "10",
         "19",
         "15",
         "28",
         "16",
         "13",
         "4",
         "4",
         "18",
         "24",
         "67",
         "6",
         "24",
         "9",
         "20",
         "20",
         "25",
         "7",
         "12",
         "8",
         "6",
         "16"
        ],
        [
         "2",
         "2003",
         "11",
         "1266",
         "73",
         "1437",
         "61",
         "N",
         "0",
         "24",
         "58",
         "8",
         "18",
         "17",
         "29",
         "17",
         "26",
         "15",
         "10",
         "5",
         "2",
         "25",
         "22",
         "73",
         "3",
         "26",
         "14",
         "23",
         "31",
         "22",
         "9",
         "12",
         "2",
         "5",
         "23"
        ],
        [
         "3",
         "2003",
         "11",
         "1296",
         "56",
         "1457",
         "50",
         "N",
         "0",
         "18",
         "38",
         "3",
         "9",
         "17",
         "31",
         "6",
         "19",
         "11",
         "12",
         "14",
         "2",
         "18",
         "18",
         "49",
         "6",
         "22",
         "8",
         "15",
         "17",
         "20",
         "9",
         "19",
         "4",
         "3",
         "23"
        ],
        [
         "4",
         "2003",
         "11",
         "1400",
         "77",
         "1208",
         "71",
         "N",
         "0",
         "30",
         "61",
         "6",
         "14",
         "11",
         "13",
         "17",
         "22",
         "12",
         "14",
         "4",
         "4",
         "20",
         "24",
         "62",
         "6",
         "16",
         "17",
         "27",
         "21",
         "15",
         "12",
         "10",
         "7",
         "1",
         "14"
        ]
       ],
       "shape": {
        "columns": 34,
        "rows": 5
       }
      },
      "text/html": [
       "<div>\n",
       "<style scoped>\n",
       "    .dataframe tbody tr th:only-of-type {\n",
       "        vertical-align: middle;\n",
       "    }\n",
       "\n",
       "    .dataframe tbody tr th {\n",
       "        vertical-align: top;\n",
       "    }\n",
       "\n",
       "    .dataframe thead th {\n",
       "        text-align: right;\n",
       "    }\n",
       "</style>\n",
       "<table border=\"1\" class=\"dataframe\">\n",
       "  <thead>\n",
       "    <tr style=\"text-align: right;\">\n",
       "      <th></th>\n",
       "      <th>Season</th>\n",
       "      <th>DayNum</th>\n",
       "      <th>WTeamID</th>\n",
       "      <th>WScore</th>\n",
       "      <th>LTeamID</th>\n",
       "      <th>LScore</th>\n",
       "      <th>WLoc</th>\n",
       "      <th>NumOT</th>\n",
       "      <th>WFGM</th>\n",
       "      <th>WFGA</th>\n",
       "      <th>...</th>\n",
       "      <th>LFGA3</th>\n",
       "      <th>LFTM</th>\n",
       "      <th>LFTA</th>\n",
       "      <th>LOR</th>\n",
       "      <th>LDR</th>\n",
       "      <th>LAst</th>\n",
       "      <th>LTO</th>\n",
       "      <th>LStl</th>\n",
       "      <th>LBlk</th>\n",
       "      <th>LPF</th>\n",
       "    </tr>\n",
       "  </thead>\n",
       "  <tbody>\n",
       "    <tr>\n",
       "      <th>0</th>\n",
       "      <td>2003</td>\n",
       "      <td>10</td>\n",
       "      <td>1104</td>\n",
       "      <td>68</td>\n",
       "      <td>1328</td>\n",
       "      <td>62</td>\n",
       "      <td>N</td>\n",
       "      <td>0</td>\n",
       "      <td>27</td>\n",
       "      <td>58</td>\n",
       "      <td>...</td>\n",
       "      <td>10</td>\n",
       "      <td>16</td>\n",
       "      <td>22</td>\n",
       "      <td>10</td>\n",
       "      <td>22</td>\n",
       "      <td>8</td>\n",
       "      <td>18</td>\n",
       "      <td>9</td>\n",
       "      <td>2</td>\n",
       "      <td>20</td>\n",
       "    </tr>\n",
       "    <tr>\n",
       "      <th>1</th>\n",
       "      <td>2003</td>\n",
       "      <td>10</td>\n",
       "      <td>1272</td>\n",
       "      <td>70</td>\n",
       "      <td>1393</td>\n",
       "      <td>63</td>\n",
       "      <td>N</td>\n",
       "      <td>0</td>\n",
       "      <td>26</td>\n",
       "      <td>62</td>\n",
       "      <td>...</td>\n",
       "      <td>24</td>\n",
       "      <td>9</td>\n",
       "      <td>20</td>\n",
       "      <td>20</td>\n",
       "      <td>25</td>\n",
       "      <td>7</td>\n",
       "      <td>12</td>\n",
       "      <td>8</td>\n",
       "      <td>6</td>\n",
       "      <td>16</td>\n",
       "    </tr>\n",
       "    <tr>\n",
       "      <th>2</th>\n",
       "      <td>2003</td>\n",
       "      <td>11</td>\n",
       "      <td>1266</td>\n",
       "      <td>73</td>\n",
       "      <td>1437</td>\n",
       "      <td>61</td>\n",
       "      <td>N</td>\n",
       "      <td>0</td>\n",
       "      <td>24</td>\n",
       "      <td>58</td>\n",
       "      <td>...</td>\n",
       "      <td>26</td>\n",
       "      <td>14</td>\n",
       "      <td>23</td>\n",
       "      <td>31</td>\n",
       "      <td>22</td>\n",
       "      <td>9</td>\n",
       "      <td>12</td>\n",
       "      <td>2</td>\n",
       "      <td>5</td>\n",
       "      <td>23</td>\n",
       "    </tr>\n",
       "    <tr>\n",
       "      <th>3</th>\n",
       "      <td>2003</td>\n",
       "      <td>11</td>\n",
       "      <td>1296</td>\n",
       "      <td>56</td>\n",
       "      <td>1457</td>\n",
       "      <td>50</td>\n",
       "      <td>N</td>\n",
       "      <td>0</td>\n",
       "      <td>18</td>\n",
       "      <td>38</td>\n",
       "      <td>...</td>\n",
       "      <td>22</td>\n",
       "      <td>8</td>\n",
       "      <td>15</td>\n",
       "      <td>17</td>\n",
       "      <td>20</td>\n",
       "      <td>9</td>\n",
       "      <td>19</td>\n",
       "      <td>4</td>\n",
       "      <td>3</td>\n",
       "      <td>23</td>\n",
       "    </tr>\n",
       "    <tr>\n",
       "      <th>4</th>\n",
       "      <td>2003</td>\n",
       "      <td>11</td>\n",
       "      <td>1400</td>\n",
       "      <td>77</td>\n",
       "      <td>1208</td>\n",
       "      <td>71</td>\n",
       "      <td>N</td>\n",
       "      <td>0</td>\n",
       "      <td>30</td>\n",
       "      <td>61</td>\n",
       "      <td>...</td>\n",
       "      <td>16</td>\n",
       "      <td>17</td>\n",
       "      <td>27</td>\n",
       "      <td>21</td>\n",
       "      <td>15</td>\n",
       "      <td>12</td>\n",
       "      <td>10</td>\n",
       "      <td>7</td>\n",
       "      <td>1</td>\n",
       "      <td>14</td>\n",
       "    </tr>\n",
       "  </tbody>\n",
       "</table>\n",
       "<p>5 rows × 34 columns</p>\n",
       "</div>"
      ],
      "text/plain": [
       "   Season  DayNum  WTeamID  WScore  LTeamID  LScore WLoc  NumOT  WFGM  WFGA  \\\n",
       "0    2003      10     1104      68     1328      62    N      0    27    58   \n",
       "1    2003      10     1272      70     1393      63    N      0    26    62   \n",
       "2    2003      11     1266      73     1437      61    N      0    24    58   \n",
       "3    2003      11     1296      56     1457      50    N      0    18    38   \n",
       "4    2003      11     1400      77     1208      71    N      0    30    61   \n",
       "\n",
       "   ...  LFGA3  LFTM  LFTA  LOR  LDR  LAst  LTO  LStl  LBlk  LPF  \n",
       "0  ...     10    16    22   10   22     8   18     9     2   20  \n",
       "1  ...     24     9    20   20   25     7   12     8     6   16  \n",
       "2  ...     26    14    23   31   22     9   12     2     5   23  \n",
       "3  ...     22     8    15   17   20     9   19     4     3   23  \n",
       "4  ...     16    17    27   21   15    12   10     7     1   14  \n",
       "\n",
       "[5 rows x 34 columns]"
      ]
     },
     "execution_count": 44,
     "metadata": {},
     "output_type": "execute_result"
    }
   ],
   "source": [
    "# More data than I know what to do with...\n",
    "peek(\"MRegularSeasonDetailedResults\")"
   ]
  },
  {
   "cell_type": "markdown",
   "metadata": {},
   "source": [
    "## Model Development!\n",
    "\n",
    "I liked this approach to splitting up the submission to get the exact teams you'll need: [notebook](https://www.kaggle.com/code/paultimothymooney/simple-starter-notebook-for-march-mania-2025)\n"
   ]
  },
  {
   "cell_type": "code",
   "execution_count": null,
   "metadata": {},
   "outputs": [],
   "source": [
    "import numpy as np\n",
    "w_seed = pd.read_csv(f'{data_dir}/WNCAATourneySeeds.csv')\n",
    "m_seed = pd.read_csv(f'{data_dir}/MNCAATourneySeeds.csv')\n",
    "seed_df = pd.concat([m_seed, w_seed], axis=0).fillna(0.05)\n",
    "submission_df = pd.read_csv(f'{data_dir}/SampleSubmissionStage2.csv')"
   ]
  },
  {
   "cell_type": "code",
   "execution_count": null,
   "metadata": {},
   "outputs": [],
   "source": []
  }
 ],
 "metadata": {
  "kernelspec": {
   "display_name": "ballenvy",
   "language": "python",
   "name": "python3"
  },
  "language_info": {
   "codemirror_mode": {
    "name": "ipython",
    "version": 3
   },
   "file_extension": ".py",
   "mimetype": "text/x-python",
   "name": "python",
   "nbconvert_exporter": "python",
   "pygments_lexer": "ipython3",
   "version": "3.11.11"
  }
 },
 "nbformat": 4,
 "nbformat_minor": 2
}
