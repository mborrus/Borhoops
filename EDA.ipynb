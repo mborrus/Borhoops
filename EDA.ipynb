{
 "cells": [
  {
   "cell_type": "markdown",
   "metadata": {},
   "source": [
    "# EDA for March Learning Mania\n",
    "\n",
    "### Goal: \n",
    "We want to create a model which can provide predictions in the format of YEAR_TEAM1ID_TEAM2ID_WINCHANCE\n",
    "\n",
    "where the winchance is a value from 0->1 representing the probability that the team with the higher team ID will win. \n",
    "\n",
    "\"For example, \"2025_1101_1102\" indicates a hypothetical matchup between team 1101 and 1102 in the year 2025. You must predict the probability that the team with the lower TeamId beats the team with the higher TeamId\"\n",
    "\n",
    "Output should look like this:\n",
    "```\n",
    "ID,Pred\n",
    "2025_1101_1102,0.5\n",
    "2025_1101_1103,0.5\n",
    "2025_1101_1104,0.5\n",
    "...\n",
    "```\n",
    "\n",
    "### Data files:\n",
    "They give you a suffocating amount of data, including: \n",
    "- Basic Team & Season Data\n",
    "- Detailed Game Statistics\n",
    "- Geographical Data\n",
    "- Ranking & Rating Systems\n",
    "- Tournament Bracket Structure\n",
    "- Supplementary Data\n",
    "- Data for Submissions\n",
    "- Miscellaneous\n",
    "\n",
    "GPT summarized them in the blob below. The key point is that you should probably be able to build a basic model with the basic team and season data. \n",
    "\n",
    "Based on historical matches between teams, how will they perform in the future?\n",
    "\n",
    "The first steps will to get the data into basic form"
   ]
  },
  {
   "cell_type": "markdown",
   "metadata": {},
   "source": [
    "#### **Basic Team & Season Data**\n",
    "- **MTeams.csv / WTeams.csv** – Lists all NCAA teams with unique Team IDs and historical Division-I participation details.\n",
    "- **MSeasons.csv / WSeasons.csv** – Details past seasons, including season start dates and region assignments.\n",
    "- **MNCAATourneySeeds.csv / WNCAATourneySeeds.csv** – Provides historical NCAA tournament seedings for teams since 1985 (men) and 1998 (women).\n",
    "- **MRegularSeasonCompactResults.csv / WRegularSeasonCompactResults.csv** – Contains game results (winner, loser, score, location) for regular season games since 1985 (men) and 1998 (women).\n",
    "- **MNCAATourneyCompactResults.csv / WNCAATourneyCompactResults.csv** – Similar to above but specific to NCAA tournament games.\n",
    "\n",
    "#### **Detailed Game Statistics**\n",
    "- **MRegularSeasonDetailedResults.csv / WRegularSeasonDetailedResults.csv** – Contains extended game stats like field goals, rebounds, assists, etc., since 2003 (men) and 2010 (women).\n",
    "- **MNCAATourneyDetailedResults.csv / WNCAATourneyDetailedResults.csv** – Similar to above but specific to NCAA tournament games.\n",
    "\n",
    "#### **Geographical Data**\n",
    "- **Cities.csv** – Lists cities where games were played, including city IDs, names, and state abbreviations.\n",
    "- **MGameCities.csv / WGameCities.csv** – Maps each game to its city, starting from 2010.\n",
    "\n",
    "#### **Ranking & Rating Systems**\n",
    "- **MMasseyOrdinals.csv** – Weekly rankings of men's teams across various rating systems since 2003.\n",
    "\n",
    "#### **Tournament Bracket Structure**\n",
    "- **MNCAATourneySlots.csv / WNCAATourneySlots.csv** – Defines how teams progress through the tournament based on seed matchups.\n",
    "- **MNCAATourneySeedRoundSlots.csv** – Maps tournament seeds to their expected bracket slots and game rounds (men only).\n",
    "\n",
    "#### **Supplementary Data**\n",
    "- **MTeamCoaches.csv** – Lists head coaches for teams per season, including mid-season changes.\n",
    "- **Conferences.csv** – Contains NCAA conference names and abbreviations.\n",
    "- **MTeamConferences.csv / WTeamConferences.csv** – Tracks which teams belonged to which conferences each season.\n",
    "- **MConferenceTourneyGames.csv / WConferenceTourneyGames.csv** – Identifies games from conference tournaments before the NCAA tournament.\n",
    "- **MSecondaryTourneyTeams.csv / WSecondaryTourneyTeams.csv** – Lists teams that participated in secondary postseason tournaments (e.g., NIT).\n",
    "- **MSecondaryTourneyCompactResults.csv / WSecondaryTourneyCompactResults.csv** – Contains results for games in secondary tournaments.\n",
    "\n",
    "#### **Data for Submissions**\n",
    "- **SampleSubmissionStage1.csv / SampleSubmissionStage2.csv** – Example submission files showing expected format.\n",
    "- **SeedBenchmarkStage1.csv** – Baseline model predictions based on seed matchups.\n",
    "\n",
    "#### **Miscellaneous**\n",
    "- **MTeamSpellings.csv / WTeamSpellings.csv** – Helps map external team name variations to standardized Team IDs.\n"
   ]
  },
  {
   "cell_type": "markdown",
   "metadata": {},
   "source": [
    "## Organize data"
   ]
  },
  {
   "cell_type": "code",
   "execution_count": 21,
   "metadata": {},
   "outputs": [],
   "source": [
    "import pandas as pd\n",
    "import yaml\n",
    "\n",
    "with open('config.yaml', 'r') as file:\n",
    "    config_file = yaml.safe_load(file)\n",
    "data_dir = config_file.get(\"data_dir\")\n",
    "\n",
    "def peek(file_name):\n",
    "    df = pd.read_csv(f\"{data_dir}/{file_name}.csv\").head()\n",
    "    return(df)"
   ]
  },
  {
   "cell_type": "code",
   "execution_count": 22,
   "metadata": {},
   "outputs": [
    {
     "data": {
      "application/vnd.microsoft.datawrangler.viewer.v0+json": {
       "columns": [
        {
         "name": "index",
         "rawType": "int64",
         "type": "integer"
        },
        {
         "name": "TeamID",
         "rawType": "int64",
         "type": "integer"
        },
        {
         "name": "TeamName",
         "rawType": "object",
         "type": "string"
        },
        {
         "name": "FirstD1Season",
         "rawType": "int64",
         "type": "integer"
        },
        {
         "name": "LastD1Season",
         "rawType": "int64",
         "type": "integer"
        }
       ],
       "conversionMethod": "pd.DataFrame",
       "ref": "9b95d87b-e281-43fd-8255-dc0494973b61",
       "rows": [
        [
         "0",
         "1101",
         "Abilene Chr",
         "2014",
         "2025"
        ],
        [
         "1",
         "1102",
         "Air Force",
         "1985",
         "2025"
        ],
        [
         "2",
         "1103",
         "Akron",
         "1985",
         "2025"
        ],
        [
         "3",
         "1104",
         "Alabama",
         "1985",
         "2025"
        ],
        [
         "4",
         "1105",
         "Alabama A&M",
         "2000",
         "2025"
        ]
       ],
       "shape": {
        "columns": 4,
        "rows": 5
       }
      },
      "text/html": [
       "<div>\n",
       "<style scoped>\n",
       "    .dataframe tbody tr th:only-of-type {\n",
       "        vertical-align: middle;\n",
       "    }\n",
       "\n",
       "    .dataframe tbody tr th {\n",
       "        vertical-align: top;\n",
       "    }\n",
       "\n",
       "    .dataframe thead th {\n",
       "        text-align: right;\n",
       "    }\n",
       "</style>\n",
       "<table border=\"1\" class=\"dataframe\">\n",
       "  <thead>\n",
       "    <tr style=\"text-align: right;\">\n",
       "      <th></th>\n",
       "      <th>TeamID</th>\n",
       "      <th>TeamName</th>\n",
       "      <th>FirstD1Season</th>\n",
       "      <th>LastD1Season</th>\n",
       "    </tr>\n",
       "  </thead>\n",
       "  <tbody>\n",
       "    <tr>\n",
       "      <th>0</th>\n",
       "      <td>1101</td>\n",
       "      <td>Abilene Chr</td>\n",
       "      <td>2014</td>\n",
       "      <td>2025</td>\n",
       "    </tr>\n",
       "    <tr>\n",
       "      <th>1</th>\n",
       "      <td>1102</td>\n",
       "      <td>Air Force</td>\n",
       "      <td>1985</td>\n",
       "      <td>2025</td>\n",
       "    </tr>\n",
       "    <tr>\n",
       "      <th>2</th>\n",
       "      <td>1103</td>\n",
       "      <td>Akron</td>\n",
       "      <td>1985</td>\n",
       "      <td>2025</td>\n",
       "    </tr>\n",
       "    <tr>\n",
       "      <th>3</th>\n",
       "      <td>1104</td>\n",
       "      <td>Alabama</td>\n",
       "      <td>1985</td>\n",
       "      <td>2025</td>\n",
       "    </tr>\n",
       "    <tr>\n",
       "      <th>4</th>\n",
       "      <td>1105</td>\n",
       "      <td>Alabama A&amp;M</td>\n",
       "      <td>2000</td>\n",
       "      <td>2025</td>\n",
       "    </tr>\n",
       "  </tbody>\n",
       "</table>\n",
       "</div>"
      ],
      "text/plain": [
       "   TeamID     TeamName  FirstD1Season  LastD1Season\n",
       "0    1101  Abilene Chr           2014          2025\n",
       "1    1102    Air Force           1985          2025\n",
       "2    1103        Akron           1985          2025\n",
       "3    1104      Alabama           1985          2025\n",
       "4    1105  Alabama A&M           2000          2025"
      ]
     },
     "execution_count": 22,
     "metadata": {},
     "output_type": "execute_result"
    }
   ],
   "source": [
    "# Straight forward, mostly a lookup table. \n",
    "peek(\"/Kaggle/MTeams\")"
   ]
  },
  {
   "cell_type": "code",
   "execution_count": 23,
   "metadata": {},
   "outputs": [
    {
     "data": {
      "application/vnd.microsoft.datawrangler.viewer.v0+json": {
       "columns": [
        {
         "name": "index",
         "rawType": "int64",
         "type": "integer"
        },
        {
         "name": "Season",
         "rawType": "int64",
         "type": "integer"
        },
        {
         "name": "Seed",
         "rawType": "object",
         "type": "string"
        },
        {
         "name": "TeamID",
         "rawType": "int64",
         "type": "integer"
        }
       ],
       "conversionMethod": "pd.DataFrame",
       "ref": "a67dc6f8-19bf-4b7a-9b56-76a7c67867d6",
       "rows": [
        [
         "0",
         "1985",
         "W01",
         "1207"
        ],
        [
         "1",
         "1985",
         "W02",
         "1210"
        ],
        [
         "2",
         "1985",
         "W03",
         "1228"
        ],
        [
         "3",
         "1985",
         "W04",
         "1260"
        ],
        [
         "4",
         "1985",
         "W05",
         "1374"
        ]
       ],
       "shape": {
        "columns": 3,
        "rows": 5
       }
      },
      "text/html": [
       "<div>\n",
       "<style scoped>\n",
       "    .dataframe tbody tr th:only-of-type {\n",
       "        vertical-align: middle;\n",
       "    }\n",
       "\n",
       "    .dataframe tbody tr th {\n",
       "        vertical-align: top;\n",
       "    }\n",
       "\n",
       "    .dataframe thead th {\n",
       "        text-align: right;\n",
       "    }\n",
       "</style>\n",
       "<table border=\"1\" class=\"dataframe\">\n",
       "  <thead>\n",
       "    <tr style=\"text-align: right;\">\n",
       "      <th></th>\n",
       "      <th>Season</th>\n",
       "      <th>Seed</th>\n",
       "      <th>TeamID</th>\n",
       "    </tr>\n",
       "  </thead>\n",
       "  <tbody>\n",
       "    <tr>\n",
       "      <th>0</th>\n",
       "      <td>1985</td>\n",
       "      <td>W01</td>\n",
       "      <td>1207</td>\n",
       "    </tr>\n",
       "    <tr>\n",
       "      <th>1</th>\n",
       "      <td>1985</td>\n",
       "      <td>W02</td>\n",
       "      <td>1210</td>\n",
       "    </tr>\n",
       "    <tr>\n",
       "      <th>2</th>\n",
       "      <td>1985</td>\n",
       "      <td>W03</td>\n",
       "      <td>1228</td>\n",
       "    </tr>\n",
       "    <tr>\n",
       "      <th>3</th>\n",
       "      <td>1985</td>\n",
       "      <td>W04</td>\n",
       "      <td>1260</td>\n",
       "    </tr>\n",
       "    <tr>\n",
       "      <th>4</th>\n",
       "      <td>1985</td>\n",
       "      <td>W05</td>\n",
       "      <td>1374</td>\n",
       "    </tr>\n",
       "  </tbody>\n",
       "</table>\n",
       "</div>"
      ],
      "text/plain": [
       "   Season Seed  TeamID\n",
       "0    1985  W01    1207\n",
       "1    1985  W02    1210\n",
       "2    1985  W03    1228\n",
       "3    1985  W04    1260\n",
       "4    1985  W05    1374"
      ]
     },
     "execution_count": 23,
     "metadata": {},
     "output_type": "execute_result"
    }
   ],
   "source": [
    "# A bit confusing, will take a bit of work to get the seeds lined up, but maybed they've already done it for us\n",
    "peek(\"/Kaggle/MNCAATourneySeeds\")"
   ]
  },
  {
   "cell_type": "code",
   "execution_count": 24,
   "metadata": {},
   "outputs": [
    {
     "data": {
      "application/vnd.microsoft.datawrangler.viewer.v0+json": {
       "columns": [
        {
         "name": "index",
         "rawType": "int64",
         "type": "integer"
        },
        {
         "name": "Season",
         "rawType": "int64",
         "type": "integer"
        },
        {
         "name": "DayNum",
         "rawType": "int64",
         "type": "integer"
        },
        {
         "name": "WTeamID",
         "rawType": "int64",
         "type": "integer"
        },
        {
         "name": "WScore",
         "rawType": "int64",
         "type": "integer"
        },
        {
         "name": "LTeamID",
         "rawType": "int64",
         "type": "integer"
        },
        {
         "name": "LScore",
         "rawType": "int64",
         "type": "integer"
        },
        {
         "name": "WLoc",
         "rawType": "object",
         "type": "string"
        },
        {
         "name": "NumOT",
         "rawType": "int64",
         "type": "integer"
        }
       ],
       "conversionMethod": "pd.DataFrame",
       "ref": "a04ca807-2b83-4b1c-a49f-18d21667137d",
       "rows": [
        [
         "0",
         "1985",
         "20",
         "1228",
         "81",
         "1328",
         "64",
         "N",
         "0"
        ],
        [
         "1",
         "1985",
         "25",
         "1106",
         "77",
         "1354",
         "70",
         "H",
         "0"
        ],
        [
         "2",
         "1985",
         "25",
         "1112",
         "63",
         "1223",
         "56",
         "H",
         "0"
        ],
        [
         "3",
         "1985",
         "25",
         "1165",
         "70",
         "1432",
         "54",
         "H",
         "0"
        ],
        [
         "4",
         "1985",
         "25",
         "1192",
         "86",
         "1447",
         "74",
         "H",
         "0"
        ]
       ],
       "shape": {
        "columns": 8,
        "rows": 5
       }
      },
      "text/html": [
       "<div>\n",
       "<style scoped>\n",
       "    .dataframe tbody tr th:only-of-type {\n",
       "        vertical-align: middle;\n",
       "    }\n",
       "\n",
       "    .dataframe tbody tr th {\n",
       "        vertical-align: top;\n",
       "    }\n",
       "\n",
       "    .dataframe thead th {\n",
       "        text-align: right;\n",
       "    }\n",
       "</style>\n",
       "<table border=\"1\" class=\"dataframe\">\n",
       "  <thead>\n",
       "    <tr style=\"text-align: right;\">\n",
       "      <th></th>\n",
       "      <th>Season</th>\n",
       "      <th>DayNum</th>\n",
       "      <th>WTeamID</th>\n",
       "      <th>WScore</th>\n",
       "      <th>LTeamID</th>\n",
       "      <th>LScore</th>\n",
       "      <th>WLoc</th>\n",
       "      <th>NumOT</th>\n",
       "    </tr>\n",
       "  </thead>\n",
       "  <tbody>\n",
       "    <tr>\n",
       "      <th>0</th>\n",
       "      <td>1985</td>\n",
       "      <td>20</td>\n",
       "      <td>1228</td>\n",
       "      <td>81</td>\n",
       "      <td>1328</td>\n",
       "      <td>64</td>\n",
       "      <td>N</td>\n",
       "      <td>0</td>\n",
       "    </tr>\n",
       "    <tr>\n",
       "      <th>1</th>\n",
       "      <td>1985</td>\n",
       "      <td>25</td>\n",
       "      <td>1106</td>\n",
       "      <td>77</td>\n",
       "      <td>1354</td>\n",
       "      <td>70</td>\n",
       "      <td>H</td>\n",
       "      <td>0</td>\n",
       "    </tr>\n",
       "    <tr>\n",
       "      <th>2</th>\n",
       "      <td>1985</td>\n",
       "      <td>25</td>\n",
       "      <td>1112</td>\n",
       "      <td>63</td>\n",
       "      <td>1223</td>\n",
       "      <td>56</td>\n",
       "      <td>H</td>\n",
       "      <td>0</td>\n",
       "    </tr>\n",
       "    <tr>\n",
       "      <th>3</th>\n",
       "      <td>1985</td>\n",
       "      <td>25</td>\n",
       "      <td>1165</td>\n",
       "      <td>70</td>\n",
       "      <td>1432</td>\n",
       "      <td>54</td>\n",
       "      <td>H</td>\n",
       "      <td>0</td>\n",
       "    </tr>\n",
       "    <tr>\n",
       "      <th>4</th>\n",
       "      <td>1985</td>\n",
       "      <td>25</td>\n",
       "      <td>1192</td>\n",
       "      <td>86</td>\n",
       "      <td>1447</td>\n",
       "      <td>74</td>\n",
       "      <td>H</td>\n",
       "      <td>0</td>\n",
       "    </tr>\n",
       "  </tbody>\n",
       "</table>\n",
       "</div>"
      ],
      "text/plain": [
       "   Season  DayNum  WTeamID  WScore  LTeamID  LScore WLoc  NumOT\n",
       "0    1985      20     1228      81     1328      64    N      0\n",
       "1    1985      25     1106      77     1354      70    H      0\n",
       "2    1985      25     1112      63     1223      56    H      0\n",
       "3    1985      25     1165      70     1432      54    H      0\n",
       "4    1985      25     1192      86     1447      74    H      0"
      ]
     },
     "execution_count": 24,
     "metadata": {},
     "output_type": "execute_result"
    }
   ],
   "source": [
    "## So this has a lot of potential. \n",
    "# You could get a better sense of a probability of a win based on team-by-team point differentials. \n",
    "# The model should also see how \"good\" the team is that season, based on this differential.\n",
    "peek(\"/Kaggle/MRegularSeasonCompactResults\")"
   ]
  },
  {
   "cell_type": "code",
   "execution_count": null,
   "metadata": {},
   "outputs": [
    {
     "data": {
      "application/vnd.microsoft.datawrangler.viewer.v0+json": {
       "columns": [
        {
         "name": "index",
         "rawType": "int64",
         "type": "integer"
        },
        {
         "name": "Season",
         "rawType": "int64",
         "type": "integer"
        },
        {
         "name": "DayNum",
         "rawType": "int64",
         "type": "integer"
        },
        {
         "name": "WTeamID",
         "rawType": "int64",
         "type": "integer"
        },
        {
         "name": "WScore",
         "rawType": "int64",
         "type": "integer"
        },
        {
         "name": "LTeamID",
         "rawType": "int64",
         "type": "integer"
        },
        {
         "name": "LScore",
         "rawType": "int64",
         "type": "integer"
        },
        {
         "name": "WLoc",
         "rawType": "object",
         "type": "string"
        },
        {
         "name": "NumOT",
         "rawType": "int64",
         "type": "integer"
        }
       ],
       "conversionMethod": "pd.DataFrame",
       "ref": "b80e71b4-fe56-449a-8911-15858a855905",
       "rows": [
        [
         "0",
         "1985",
         "136",
         "1116",
         "63",
         "1234",
         "54",
         "N",
         "0"
        ],
        [
         "1",
         "1985",
         "136",
         "1120",
         "59",
         "1345",
         "58",
         "N",
         "0"
        ],
        [
         "2",
         "1985",
         "136",
         "1207",
         "68",
         "1250",
         "43",
         "N",
         "0"
        ],
        [
         "3",
         "1985",
         "136",
         "1229",
         "58",
         "1425",
         "55",
         "N",
         "0"
        ],
        [
         "4",
         "1985",
         "136",
         "1242",
         "49",
         "1325",
         "38",
         "N",
         "0"
        ]
       ],
       "shape": {
        "columns": 8,
        "rows": 5
       }
      },
      "text/html": [
       "<div>\n",
       "<style scoped>\n",
       "    .dataframe tbody tr th:only-of-type {\n",
       "        vertical-align: middle;\n",
       "    }\n",
       "\n",
       "    .dataframe tbody tr th {\n",
       "        vertical-align: top;\n",
       "    }\n",
       "\n",
       "    .dataframe thead th {\n",
       "        text-align: right;\n",
       "    }\n",
       "</style>\n",
       "<table border=\"1\" class=\"dataframe\">\n",
       "  <thead>\n",
       "    <tr style=\"text-align: right;\">\n",
       "      <th></th>\n",
       "      <th>Season</th>\n",
       "      <th>DayNum</th>\n",
       "      <th>WTeamID</th>\n",
       "      <th>WScore</th>\n",
       "      <th>LTeamID</th>\n",
       "      <th>LScore</th>\n",
       "      <th>WLoc</th>\n",
       "      <th>NumOT</th>\n",
       "    </tr>\n",
       "  </thead>\n",
       "  <tbody>\n",
       "    <tr>\n",
       "      <th>0</th>\n",
       "      <td>1985</td>\n",
       "      <td>136</td>\n",
       "      <td>1116</td>\n",
       "      <td>63</td>\n",
       "      <td>1234</td>\n",
       "      <td>54</td>\n",
       "      <td>N</td>\n",
       "      <td>0</td>\n",
       "    </tr>\n",
       "    <tr>\n",
       "      <th>1</th>\n",
       "      <td>1985</td>\n",
       "      <td>136</td>\n",
       "      <td>1120</td>\n",
       "      <td>59</td>\n",
       "      <td>1345</td>\n",
       "      <td>58</td>\n",
       "      <td>N</td>\n",
       "      <td>0</td>\n",
       "    </tr>\n",
       "    <tr>\n",
       "      <th>2</th>\n",
       "      <td>1985</td>\n",
       "      <td>136</td>\n",
       "      <td>1207</td>\n",
       "      <td>68</td>\n",
       "      <td>1250</td>\n",
       "      <td>43</td>\n",
       "      <td>N</td>\n",
       "      <td>0</td>\n",
       "    </tr>\n",
       "    <tr>\n",
       "      <th>3</th>\n",
       "      <td>1985</td>\n",
       "      <td>136</td>\n",
       "      <td>1229</td>\n",
       "      <td>58</td>\n",
       "      <td>1425</td>\n",
       "      <td>55</td>\n",
       "      <td>N</td>\n",
       "      <td>0</td>\n",
       "    </tr>\n",
       "    <tr>\n",
       "      <th>4</th>\n",
       "      <td>1985</td>\n",
       "      <td>136</td>\n",
       "      <td>1242</td>\n",
       "      <td>49</td>\n",
       "      <td>1325</td>\n",
       "      <td>38</td>\n",
       "      <td>N</td>\n",
       "      <td>0</td>\n",
       "    </tr>\n",
       "  </tbody>\n",
       "</table>\n",
       "</div>"
      ],
      "text/plain": [
       "   Season  DayNum  WTeamID  WScore  LTeamID  LScore WLoc  NumOT\n",
       "0    1985     136     1116      63     1234      54    N      0\n",
       "1    1985     136     1120      59     1345      58    N      0\n",
       "2    1985     136     1207      68     1250      43    N      0\n",
       "3    1985     136     1229      58     1425      55    N      0\n",
       "4    1985     136     1242      49     1325      38    N      0"
      ]
     },
     "execution_count": 6,
     "metadata": {},
     "output_type": "execute_result"
    }
   ],
   "source": [
    "# Exact same as above, but for the tournament.\n",
    "# Still not sure how to use the daynumber to understand which game it is in the tournament.\n",
    "# I'd like to include some \"heating up\" factor, becuase it seems teams go on runs, but maybe that's just a function of media\n",
    "# aspirational if anything\n",
    "peek(\"/Kaggle/MNCAATourneyCompactResults\")"
   ]
  },
  {
   "cell_type": "code",
   "execution_count": 25,
   "metadata": {},
   "outputs": [
    {
     "data": {
      "application/vnd.microsoft.datawrangler.viewer.v0+json": {
       "columns": [
        {
         "name": "index",
         "rawType": "int64",
         "type": "integer"
        },
        {
         "name": "Season",
         "rawType": "int64",
         "type": "integer"
        },
        {
         "name": "DayNum",
         "rawType": "int64",
         "type": "integer"
        },
        {
         "name": "WTeamID",
         "rawType": "int64",
         "type": "integer"
        },
        {
         "name": "WScore",
         "rawType": "int64",
         "type": "integer"
        },
        {
         "name": "LTeamID",
         "rawType": "int64",
         "type": "integer"
        },
        {
         "name": "LScore",
         "rawType": "int64",
         "type": "integer"
        },
        {
         "name": "WLoc",
         "rawType": "object",
         "type": "string"
        },
        {
         "name": "NumOT",
         "rawType": "int64",
         "type": "integer"
        },
        {
         "name": "WFGM",
         "rawType": "int64",
         "type": "integer"
        },
        {
         "name": "WFGA",
         "rawType": "int64",
         "type": "integer"
        },
        {
         "name": "WFGM3",
         "rawType": "int64",
         "type": "integer"
        },
        {
         "name": "WFGA3",
         "rawType": "int64",
         "type": "integer"
        },
        {
         "name": "WFTM",
         "rawType": "int64",
         "type": "integer"
        },
        {
         "name": "WFTA",
         "rawType": "int64",
         "type": "integer"
        },
        {
         "name": "WOR",
         "rawType": "int64",
         "type": "integer"
        },
        {
         "name": "WDR",
         "rawType": "int64",
         "type": "integer"
        },
        {
         "name": "WAst",
         "rawType": "int64",
         "type": "integer"
        },
        {
         "name": "WTO",
         "rawType": "int64",
         "type": "integer"
        },
        {
         "name": "WStl",
         "rawType": "int64",
         "type": "integer"
        },
        {
         "name": "WBlk",
         "rawType": "int64",
         "type": "integer"
        },
        {
         "name": "WPF",
         "rawType": "int64",
         "type": "integer"
        },
        {
         "name": "LFGM",
         "rawType": "int64",
         "type": "integer"
        },
        {
         "name": "LFGA",
         "rawType": "int64",
         "type": "integer"
        },
        {
         "name": "LFGM3",
         "rawType": "int64",
         "type": "integer"
        },
        {
         "name": "LFGA3",
         "rawType": "int64",
         "type": "integer"
        },
        {
         "name": "LFTM",
         "rawType": "int64",
         "type": "integer"
        },
        {
         "name": "LFTA",
         "rawType": "int64",
         "type": "integer"
        },
        {
         "name": "LOR",
         "rawType": "int64",
         "type": "integer"
        },
        {
         "name": "LDR",
         "rawType": "int64",
         "type": "integer"
        },
        {
         "name": "LAst",
         "rawType": "int64",
         "type": "integer"
        },
        {
         "name": "LTO",
         "rawType": "int64",
         "type": "integer"
        },
        {
         "name": "LStl",
         "rawType": "int64",
         "type": "integer"
        },
        {
         "name": "LBlk",
         "rawType": "int64",
         "type": "integer"
        },
        {
         "name": "LPF",
         "rawType": "int64",
         "type": "integer"
        }
       ],
       "conversionMethod": "pd.DataFrame",
       "ref": "de046683-09e1-48f6-b9cc-a21035862138",
       "rows": [
        [
         "0",
         "2003",
         "10",
         "1104",
         "68",
         "1328",
         "62",
         "N",
         "0",
         "27",
         "58",
         "3",
         "14",
         "11",
         "18",
         "14",
         "24",
         "13",
         "23",
         "7",
         "1",
         "22",
         "22",
         "53",
         "2",
         "10",
         "16",
         "22",
         "10",
         "22",
         "8",
         "18",
         "9",
         "2",
         "20"
        ],
        [
         "1",
         "2003",
         "10",
         "1272",
         "70",
         "1393",
         "63",
         "N",
         "0",
         "26",
         "62",
         "8",
         "20",
         "10",
         "19",
         "15",
         "28",
         "16",
         "13",
         "4",
         "4",
         "18",
         "24",
         "67",
         "6",
         "24",
         "9",
         "20",
         "20",
         "25",
         "7",
         "12",
         "8",
         "6",
         "16"
        ],
        [
         "2",
         "2003",
         "11",
         "1266",
         "73",
         "1437",
         "61",
         "N",
         "0",
         "24",
         "58",
         "8",
         "18",
         "17",
         "29",
         "17",
         "26",
         "15",
         "10",
         "5",
         "2",
         "25",
         "22",
         "73",
         "3",
         "26",
         "14",
         "23",
         "31",
         "22",
         "9",
         "12",
         "2",
         "5",
         "23"
        ],
        [
         "3",
         "2003",
         "11",
         "1296",
         "56",
         "1457",
         "50",
         "N",
         "0",
         "18",
         "38",
         "3",
         "9",
         "17",
         "31",
         "6",
         "19",
         "11",
         "12",
         "14",
         "2",
         "18",
         "18",
         "49",
         "6",
         "22",
         "8",
         "15",
         "17",
         "20",
         "9",
         "19",
         "4",
         "3",
         "23"
        ],
        [
         "4",
         "2003",
         "11",
         "1400",
         "77",
         "1208",
         "71",
         "N",
         "0",
         "30",
         "61",
         "6",
         "14",
         "11",
         "13",
         "17",
         "22",
         "12",
         "14",
         "4",
         "4",
         "20",
         "24",
         "62",
         "6",
         "16",
         "17",
         "27",
         "21",
         "15",
         "12",
         "10",
         "7",
         "1",
         "14"
        ]
       ],
       "shape": {
        "columns": 34,
        "rows": 5
       }
      },
      "text/html": [
       "<div>\n",
       "<style scoped>\n",
       "    .dataframe tbody tr th:only-of-type {\n",
       "        vertical-align: middle;\n",
       "    }\n",
       "\n",
       "    .dataframe tbody tr th {\n",
       "        vertical-align: top;\n",
       "    }\n",
       "\n",
       "    .dataframe thead th {\n",
       "        text-align: right;\n",
       "    }\n",
       "</style>\n",
       "<table border=\"1\" class=\"dataframe\">\n",
       "  <thead>\n",
       "    <tr style=\"text-align: right;\">\n",
       "      <th></th>\n",
       "      <th>Season</th>\n",
       "      <th>DayNum</th>\n",
       "      <th>WTeamID</th>\n",
       "      <th>WScore</th>\n",
       "      <th>LTeamID</th>\n",
       "      <th>LScore</th>\n",
       "      <th>WLoc</th>\n",
       "      <th>NumOT</th>\n",
       "      <th>WFGM</th>\n",
       "      <th>WFGA</th>\n",
       "      <th>...</th>\n",
       "      <th>LFGA3</th>\n",
       "      <th>LFTM</th>\n",
       "      <th>LFTA</th>\n",
       "      <th>LOR</th>\n",
       "      <th>LDR</th>\n",
       "      <th>LAst</th>\n",
       "      <th>LTO</th>\n",
       "      <th>LStl</th>\n",
       "      <th>LBlk</th>\n",
       "      <th>LPF</th>\n",
       "    </tr>\n",
       "  </thead>\n",
       "  <tbody>\n",
       "    <tr>\n",
       "      <th>0</th>\n",
       "      <td>2003</td>\n",
       "      <td>10</td>\n",
       "      <td>1104</td>\n",
       "      <td>68</td>\n",
       "      <td>1328</td>\n",
       "      <td>62</td>\n",
       "      <td>N</td>\n",
       "      <td>0</td>\n",
       "      <td>27</td>\n",
       "      <td>58</td>\n",
       "      <td>...</td>\n",
       "      <td>10</td>\n",
       "      <td>16</td>\n",
       "      <td>22</td>\n",
       "      <td>10</td>\n",
       "      <td>22</td>\n",
       "      <td>8</td>\n",
       "      <td>18</td>\n",
       "      <td>9</td>\n",
       "      <td>2</td>\n",
       "      <td>20</td>\n",
       "    </tr>\n",
       "    <tr>\n",
       "      <th>1</th>\n",
       "      <td>2003</td>\n",
       "      <td>10</td>\n",
       "      <td>1272</td>\n",
       "      <td>70</td>\n",
       "      <td>1393</td>\n",
       "      <td>63</td>\n",
       "      <td>N</td>\n",
       "      <td>0</td>\n",
       "      <td>26</td>\n",
       "      <td>62</td>\n",
       "      <td>...</td>\n",
       "      <td>24</td>\n",
       "      <td>9</td>\n",
       "      <td>20</td>\n",
       "      <td>20</td>\n",
       "      <td>25</td>\n",
       "      <td>7</td>\n",
       "      <td>12</td>\n",
       "      <td>8</td>\n",
       "      <td>6</td>\n",
       "      <td>16</td>\n",
       "    </tr>\n",
       "    <tr>\n",
       "      <th>2</th>\n",
       "      <td>2003</td>\n",
       "      <td>11</td>\n",
       "      <td>1266</td>\n",
       "      <td>73</td>\n",
       "      <td>1437</td>\n",
       "      <td>61</td>\n",
       "      <td>N</td>\n",
       "      <td>0</td>\n",
       "      <td>24</td>\n",
       "      <td>58</td>\n",
       "      <td>...</td>\n",
       "      <td>26</td>\n",
       "      <td>14</td>\n",
       "      <td>23</td>\n",
       "      <td>31</td>\n",
       "      <td>22</td>\n",
       "      <td>9</td>\n",
       "      <td>12</td>\n",
       "      <td>2</td>\n",
       "      <td>5</td>\n",
       "      <td>23</td>\n",
       "    </tr>\n",
       "    <tr>\n",
       "      <th>3</th>\n",
       "      <td>2003</td>\n",
       "      <td>11</td>\n",
       "      <td>1296</td>\n",
       "      <td>56</td>\n",
       "      <td>1457</td>\n",
       "      <td>50</td>\n",
       "      <td>N</td>\n",
       "      <td>0</td>\n",
       "      <td>18</td>\n",
       "      <td>38</td>\n",
       "      <td>...</td>\n",
       "      <td>22</td>\n",
       "      <td>8</td>\n",
       "      <td>15</td>\n",
       "      <td>17</td>\n",
       "      <td>20</td>\n",
       "      <td>9</td>\n",
       "      <td>19</td>\n",
       "      <td>4</td>\n",
       "      <td>3</td>\n",
       "      <td>23</td>\n",
       "    </tr>\n",
       "    <tr>\n",
       "      <th>4</th>\n",
       "      <td>2003</td>\n",
       "      <td>11</td>\n",
       "      <td>1400</td>\n",
       "      <td>77</td>\n",
       "      <td>1208</td>\n",
       "      <td>71</td>\n",
       "      <td>N</td>\n",
       "      <td>0</td>\n",
       "      <td>30</td>\n",
       "      <td>61</td>\n",
       "      <td>...</td>\n",
       "      <td>16</td>\n",
       "      <td>17</td>\n",
       "      <td>27</td>\n",
       "      <td>21</td>\n",
       "      <td>15</td>\n",
       "      <td>12</td>\n",
       "      <td>10</td>\n",
       "      <td>7</td>\n",
       "      <td>1</td>\n",
       "      <td>14</td>\n",
       "    </tr>\n",
       "  </tbody>\n",
       "</table>\n",
       "<p>5 rows × 34 columns</p>\n",
       "</div>"
      ],
      "text/plain": [
       "   Season  DayNum  WTeamID  WScore  LTeamID  LScore WLoc  NumOT  WFGM  WFGA  \\\n",
       "0    2003      10     1104      68     1328      62    N      0    27    58   \n",
       "1    2003      10     1272      70     1393      63    N      0    26    62   \n",
       "2    2003      11     1266      73     1437      61    N      0    24    58   \n",
       "3    2003      11     1296      56     1457      50    N      0    18    38   \n",
       "4    2003      11     1400      77     1208      71    N      0    30    61   \n",
       "\n",
       "   ...  LFGA3  LFTM  LFTA  LOR  LDR  LAst  LTO  LStl  LBlk  LPF  \n",
       "0  ...     10    16    22   10   22     8   18     9     2   20  \n",
       "1  ...     24     9    20   20   25     7   12     8     6   16  \n",
       "2  ...     26    14    23   31   22     9   12     2     5   23  \n",
       "3  ...     22     8    15   17   20     9   19     4     3   23  \n",
       "4  ...     16    17    27   21   15    12   10     7     1   14  \n",
       "\n",
       "[5 rows x 34 columns]"
      ]
     },
     "execution_count": 25,
     "metadata": {},
     "output_type": "execute_result"
    }
   ],
   "source": [
    "# More data than I know what to do with...\n",
    "peek(\"/Kaggle/MRegularSeasonDetailedResults\")"
   ]
  },
  {
   "cell_type": "markdown",
   "metadata": {},
   "source": [
    "### Actual EDA\n",
    "On the topic of actual EDA and looking at the shape of the data, this person has already done a lot of it:\n",
    "[BBall EDA Tutorial](https://www.kaggle.com/code/clehmann10/bball-eda-tutorial)"
   ]
  },
  {
   "cell_type": "markdown",
   "metadata": {},
   "source": [
    "## Model Development!\n",
    "\n",
    "I liked this approach to splitting up the submission to get the exact teams you'll need: [notebook](https://www.kaggle.com/code/paultimothymooney/simple-starter-notebook-for-march-mania-2025)\n",
    "\n",
    "However, the model is very basic (just a function of difference_in_seed*.03+.5 to affect probability.), this [notebook is a bit better and shows building a random forest model](https://www.kaggle.com/code/jocelyndumlao/march-ml-mania-2025-brier-score-prediction)"
   ]
  },
  {
   "cell_type": "code",
   "execution_count": 67,
   "metadata": {},
   "outputs": [
    {
     "data": {
      "application/vnd.microsoft.datawrangler.viewer.v0+json": {
       "columns": [
        {
         "name": "index",
         "rawType": "int64",
         "type": "integer"
        },
        {
         "name": "ID",
         "rawType": "object",
         "type": "string"
        },
        {
         "name": "Pred",
         "rawType": "float64",
         "type": "float"
        }
       ],
       "conversionMethod": "pd.DataFrame",
       "ref": "27373531-80fd-41fc-a6e2-3b8ec9a2245e",
       "rows": [
        [
         "0",
         "2025_1101_1102",
         "0.5"
        ],
        [
         "1",
         "2025_1101_1103",
         "0.5"
        ],
        [
         "2",
         "2025_1101_1104",
         "0.5"
        ],
        [
         "3",
         "2025_1101_1105",
         "0.5"
        ],
        [
         "4",
         "2025_1101_1106",
         "0.5"
        ]
       ],
       "shape": {
        "columns": 2,
        "rows": 5
       }
      },
      "text/html": [
       "<div>\n",
       "<style scoped>\n",
       "    .dataframe tbody tr th:only-of-type {\n",
       "        vertical-align: middle;\n",
       "    }\n",
       "\n",
       "    .dataframe tbody tr th {\n",
       "        vertical-align: top;\n",
       "    }\n",
       "\n",
       "    .dataframe thead th {\n",
       "        text-align: right;\n",
       "    }\n",
       "</style>\n",
       "<table border=\"1\" class=\"dataframe\">\n",
       "  <thead>\n",
       "    <tr style=\"text-align: right;\">\n",
       "      <th></th>\n",
       "      <th>ID</th>\n",
       "      <th>Pred</th>\n",
       "    </tr>\n",
       "  </thead>\n",
       "  <tbody>\n",
       "    <tr>\n",
       "      <th>0</th>\n",
       "      <td>2025_1101_1102</td>\n",
       "      <td>0.5</td>\n",
       "    </tr>\n",
       "    <tr>\n",
       "      <th>1</th>\n",
       "      <td>2025_1101_1103</td>\n",
       "      <td>0.5</td>\n",
       "    </tr>\n",
       "    <tr>\n",
       "      <th>2</th>\n",
       "      <td>2025_1101_1104</td>\n",
       "      <td>0.5</td>\n",
       "    </tr>\n",
       "    <tr>\n",
       "      <th>3</th>\n",
       "      <td>2025_1101_1105</td>\n",
       "      <td>0.5</td>\n",
       "    </tr>\n",
       "    <tr>\n",
       "      <th>4</th>\n",
       "      <td>2025_1101_1106</td>\n",
       "      <td>0.5</td>\n",
       "    </tr>\n",
       "  </tbody>\n",
       "</table>\n",
       "</div>"
      ],
      "text/plain": [
       "               ID  Pred\n",
       "0  2025_1101_1102   0.5\n",
       "1  2025_1101_1103   0.5\n",
       "2  2025_1101_1104   0.5\n",
       "3  2025_1101_1105   0.5\n",
       "4  2025_1101_1106   0.5"
      ]
     },
     "execution_count": 67,
     "metadata": {},
     "output_type": "execute_result"
    }
   ],
   "source": [
    "import numpy as np\n",
    "\n",
    "# Load the seeds, make them into one dataframe, and fill in the missing values with 0.05 (not sure why not 0)\n",
    "# w_seed = pd.read_csv(f'{data_dir}/Kaggle/WNCAATourneySeeds.csv')\n",
    "# m_seed = pd.read_csv(f'{data_dir}/Kaggle/MNCAATourneySeeds.csv')\n",
    "\n",
    "# Import the submission file\n",
    "submission_df = pd.read_csv(f'{data_dir}/Kaggle/SampleSubmissionStage2.csv')\n",
    "submission_df.head()"
   ]
  },
  {
   "cell_type": "code",
   "execution_count": 68,
   "metadata": {},
   "outputs": [],
   "source": [
    "def extract_game_info(id_str):\n",
    "    # Extract year and team_ids\n",
    "    parts = id_str.split('_')\n",
    "    year = int(parts[0])\n",
    "    teamID1 = int(parts[1])\n",
    "    teamID2 = int(parts[2])\n",
    "    return year, teamID1, teamID2\n",
    "\n",
    "def extract_seed_value(seed_str):\n",
    "    # Extract seed value\n",
    "    try:\n",
    "        return int(seed_str[1:])\n",
    "    # Set seed to 16 for unselected teams and errors\n",
    "    except ValueError:\n",
    "        return 16"
   ]
  },
  {
   "cell_type": "code",
   "execution_count": 69,
   "metadata": {},
   "outputs": [],
   "source": [
    "# Reformat the data\n",
    "submission_df[['Season', 'TeamID1', 'TeamID2']] = submission_df['ID'].apply(extract_game_info).tolist()"
   ]
  },
  {
   "cell_type": "code",
   "execution_count": null,
   "metadata": {},
   "outputs": [
    {
     "data": {
      "application/vnd.microsoft.datawrangler.viewer.v0+json": {
       "columns": [
        {
         "name": "index",
         "rawType": "int64",
         "type": "integer"
        },
        {
         "name": "ID",
         "rawType": "object",
         "type": "string"
        },
        {
         "name": "Pred",
         "rawType": "float64",
         "type": "float"
        },
        {
         "name": "Season",
         "rawType": "int64",
         "type": "integer"
        },
        {
         "name": "TeamID1",
         "rawType": "int64",
         "type": "integer"
        },
        {
         "name": "TeamID2",
         "rawType": "int64",
         "type": "integer"
        }
       ],
       "conversionMethod": "pd.DataFrame",
       "ref": "c853b94a-1a1f-4c0d-ba3e-57cb5d9f1a1b",
       "rows": [
        [
         "0",
         "2025_1101_1102",
         "0.5",
         "2025",
         "1101",
         "1102"
        ],
        [
         "1",
         "2025_1101_1103",
         "0.5",
         "2025",
         "1101",
         "1103"
        ],
        [
         "2",
         "2025_1101_1104",
         "0.5",
         "2025",
         "1101",
         "1104"
        ],
        [
         "3",
         "2025_1101_1105",
         "0.5",
         "2025",
         "1101",
         "1105"
        ],
        [
         "4",
         "2025_1101_1106",
         "0.5",
         "2025",
         "1101",
         "1106"
        ],
        [
         "5",
         "2025_1101_1107",
         "0.5",
         "2025",
         "1101",
         "1107"
        ],
        [
         "6",
         "2025_1101_1108",
         "0.5",
         "2025",
         "1101",
         "1108"
        ],
        [
         "7",
         "2025_1101_1110",
         "0.5",
         "2025",
         "1101",
         "1110"
        ],
        [
         "8",
         "2025_1101_1111",
         "0.5",
         "2025",
         "1101",
         "1111"
        ],
        [
         "9",
         "2025_1101_1112",
         "0.5",
         "2025",
         "1101",
         "1112"
        ],
        [
         "10",
         "2025_1101_1113",
         "0.5",
         "2025",
         "1101",
         "1113"
        ],
        [
         "11",
         "2025_1101_1114",
         "0.5",
         "2025",
         "1101",
         "1114"
        ],
        [
         "12",
         "2025_1101_1115",
         "0.5",
         "2025",
         "1101",
         "1115"
        ],
        [
         "13",
         "2025_1101_1116",
         "0.5",
         "2025",
         "1101",
         "1116"
        ],
        [
         "14",
         "2025_1101_1117",
         "0.5",
         "2025",
         "1101",
         "1117"
        ],
        [
         "15",
         "2025_1101_1119",
         "0.5",
         "2025",
         "1101",
         "1119"
        ],
        [
         "16",
         "2025_1101_1120",
         "0.5",
         "2025",
         "1101",
         "1120"
        ],
        [
         "17",
         "2025_1101_1122",
         "0.5",
         "2025",
         "1101",
         "1122"
        ],
        [
         "18",
         "2025_1101_1123",
         "0.5",
         "2025",
         "1101",
         "1123"
        ],
        [
         "19",
         "2025_1101_1124",
         "0.5",
         "2025",
         "1101",
         "1124"
        ],
        [
         "20",
         "2025_1101_1125",
         "0.5",
         "2025",
         "1101",
         "1125"
        ],
        [
         "21",
         "2025_1101_1126",
         "0.5",
         "2025",
         "1101",
         "1126"
        ],
        [
         "22",
         "2025_1101_1127",
         "0.5",
         "2025",
         "1101",
         "1127"
        ],
        [
         "23",
         "2025_1101_1129",
         "0.5",
         "2025",
         "1101",
         "1129"
        ],
        [
         "24",
         "2025_1101_1130",
         "0.5",
         "2025",
         "1101",
         "1130"
        ],
        [
         "25",
         "2025_1101_1131",
         "0.5",
         "2025",
         "1101",
         "1131"
        ],
        [
         "26",
         "2025_1101_1132",
         "0.5",
         "2025",
         "1101",
         "1132"
        ],
        [
         "27",
         "2025_1101_1133",
         "0.5",
         "2025",
         "1101",
         "1133"
        ],
        [
         "28",
         "2025_1101_1135",
         "0.5",
         "2025",
         "1101",
         "1135"
        ],
        [
         "29",
         "2025_1101_1136",
         "0.5",
         "2025",
         "1101",
         "1136"
        ],
        [
         "30",
         "2025_1101_1137",
         "0.5",
         "2025",
         "1101",
         "1137"
        ],
        [
         "31",
         "2025_1101_1138",
         "0.5",
         "2025",
         "1101",
         "1138"
        ],
        [
         "32",
         "2025_1101_1139",
         "0.5",
         "2025",
         "1101",
         "1139"
        ],
        [
         "33",
         "2025_1101_1140",
         "0.5",
         "2025",
         "1101",
         "1140"
        ],
        [
         "34",
         "2025_1101_1141",
         "0.5",
         "2025",
         "1101",
         "1141"
        ],
        [
         "35",
         "2025_1101_1142",
         "0.5",
         "2025",
         "1101",
         "1142"
        ],
        [
         "36",
         "2025_1101_1143",
         "0.5",
         "2025",
         "1101",
         "1143"
        ],
        [
         "37",
         "2025_1101_1144",
         "0.5",
         "2025",
         "1101",
         "1144"
        ],
        [
         "38",
         "2025_1101_1145",
         "0.5",
         "2025",
         "1101",
         "1145"
        ],
        [
         "39",
         "2025_1101_1146",
         "0.5",
         "2025",
         "1101",
         "1146"
        ],
        [
         "40",
         "2025_1101_1148",
         "0.5",
         "2025",
         "1101",
         "1148"
        ],
        [
         "41",
         "2025_1101_1149",
         "0.5",
         "2025",
         "1101",
         "1149"
        ],
        [
         "42",
         "2025_1101_1150",
         "0.5",
         "2025",
         "1101",
         "1150"
        ],
        [
         "43",
         "2025_1101_1151",
         "0.5",
         "2025",
         "1101",
         "1151"
        ],
        [
         "44",
         "2025_1101_1152",
         "0.5",
         "2025",
         "1101",
         "1152"
        ],
        [
         "45",
         "2025_1101_1153",
         "0.5",
         "2025",
         "1101",
         "1153"
        ],
        [
         "46",
         "2025_1101_1154",
         "0.5",
         "2025",
         "1101",
         "1154"
        ],
        [
         "47",
         "2025_1101_1155",
         "0.5",
         "2025",
         "1101",
         "1155"
        ],
        [
         "48",
         "2025_1101_1156",
         "0.5",
         "2025",
         "1101",
         "1156"
        ],
        [
         "49",
         "2025_1101_1157",
         "0.5",
         "2025",
         "1101",
         "1157"
        ]
       ],
       "shape": {
        "columns": 5,
        "rows": 131407
       }
      },
      "text/html": [
       "<div>\n",
       "<style scoped>\n",
       "    .dataframe tbody tr th:only-of-type {\n",
       "        vertical-align: middle;\n",
       "    }\n",
       "\n",
       "    .dataframe tbody tr th {\n",
       "        vertical-align: top;\n",
       "    }\n",
       "\n",
       "    .dataframe thead th {\n",
       "        text-align: right;\n",
       "    }\n",
       "</style>\n",
       "<table border=\"1\" class=\"dataframe\">\n",
       "  <thead>\n",
       "    <tr style=\"text-align: right;\">\n",
       "      <th></th>\n",
       "      <th>ID</th>\n",
       "      <th>Pred</th>\n",
       "      <th>Season</th>\n",
       "      <th>TeamID1</th>\n",
       "      <th>TeamID2</th>\n",
       "    </tr>\n",
       "  </thead>\n",
       "  <tbody>\n",
       "    <tr>\n",
       "      <th>0</th>\n",
       "      <td>2025_1101_1102</td>\n",
       "      <td>0.5</td>\n",
       "      <td>2025</td>\n",
       "      <td>1101</td>\n",
       "      <td>1102</td>\n",
       "    </tr>\n",
       "    <tr>\n",
       "      <th>1</th>\n",
       "      <td>2025_1101_1103</td>\n",
       "      <td>0.5</td>\n",
       "      <td>2025</td>\n",
       "      <td>1101</td>\n",
       "      <td>1103</td>\n",
       "    </tr>\n",
       "    <tr>\n",
       "      <th>2</th>\n",
       "      <td>2025_1101_1104</td>\n",
       "      <td>0.5</td>\n",
       "      <td>2025</td>\n",
       "      <td>1101</td>\n",
       "      <td>1104</td>\n",
       "    </tr>\n",
       "    <tr>\n",
       "      <th>3</th>\n",
       "      <td>2025_1101_1105</td>\n",
       "      <td>0.5</td>\n",
       "      <td>2025</td>\n",
       "      <td>1101</td>\n",
       "      <td>1105</td>\n",
       "    </tr>\n",
       "    <tr>\n",
       "      <th>4</th>\n",
       "      <td>2025_1101_1106</td>\n",
       "      <td>0.5</td>\n",
       "      <td>2025</td>\n",
       "      <td>1101</td>\n",
       "      <td>1106</td>\n",
       "    </tr>\n",
       "    <tr>\n",
       "      <th>...</th>\n",
       "      <td>...</td>\n",
       "      <td>...</td>\n",
       "      <td>...</td>\n",
       "      <td>...</td>\n",
       "      <td>...</td>\n",
       "    </tr>\n",
       "    <tr>\n",
       "      <th>131402</th>\n",
       "      <td>2025_3477_3479</td>\n",
       "      <td>0.5</td>\n",
       "      <td>2025</td>\n",
       "      <td>3477</td>\n",
       "      <td>3479</td>\n",
       "    </tr>\n",
       "    <tr>\n",
       "      <th>131403</th>\n",
       "      <td>2025_3477_3480</td>\n",
       "      <td>0.5</td>\n",
       "      <td>2025</td>\n",
       "      <td>3477</td>\n",
       "      <td>3480</td>\n",
       "    </tr>\n",
       "    <tr>\n",
       "      <th>131404</th>\n",
       "      <td>2025_3478_3479</td>\n",
       "      <td>0.5</td>\n",
       "      <td>2025</td>\n",
       "      <td>3478</td>\n",
       "      <td>3479</td>\n",
       "    </tr>\n",
       "    <tr>\n",
       "      <th>131405</th>\n",
       "      <td>2025_3478_3480</td>\n",
       "      <td>0.5</td>\n",
       "      <td>2025</td>\n",
       "      <td>3478</td>\n",
       "      <td>3480</td>\n",
       "    </tr>\n",
       "    <tr>\n",
       "      <th>131406</th>\n",
       "      <td>2025_3479_3480</td>\n",
       "      <td>0.5</td>\n",
       "      <td>2025</td>\n",
       "      <td>3479</td>\n",
       "      <td>3480</td>\n",
       "    </tr>\n",
       "  </tbody>\n",
       "</table>\n",
       "<p>131407 rows × 5 columns</p>\n",
       "</div>"
      ],
      "text/plain": [
       "                    ID  Pred  Season  TeamID1  TeamID2\n",
       "0       2025_1101_1102   0.5    2025     1101     1102\n",
       "1       2025_1101_1103   0.5    2025     1101     1103\n",
       "2       2025_1101_1104   0.5    2025     1101     1104\n",
       "3       2025_1101_1105   0.5    2025     1101     1105\n",
       "4       2025_1101_1106   0.5    2025     1101     1106\n",
       "...                ...   ...     ...      ...      ...\n",
       "131402  2025_3477_3479   0.5    2025     3477     3479\n",
       "131403  2025_3477_3480   0.5    2025     3477     3480\n",
       "131404  2025_3478_3479   0.5    2025     3478     3479\n",
       "131405  2025_3478_3480   0.5    2025     3478     3480\n",
       "131406  2025_3479_3480   0.5    2025     3479     3480\n",
       "\n",
       "[131407 rows x 5 columns]"
      ]
     },
     "execution_count": 14,
     "metadata": {},
     "output_type": "execute_result"
    }
   ],
   "source": [
    "# Now we have the data in a more usable format, we can merge it with elo to get the expected outcome\n",
    "submission_df"
   ]
  },
  {
   "cell_type": "markdown",
   "metadata": {},
   "source": [
    "## Get Nate Data\n",
    "https://www.natesilver.net/p/sbcb-college-basketball-ratings-men"
   ]
  },
  {
   "cell_type": "code",
   "execution_count": 103,
   "metadata": {},
   "outputs": [
    {
     "data": {
      "application/vnd.microsoft.datawrangler.viewer.v0+json": {
       "columns": [
        {
         "name": "index",
         "rawType": "int64",
         "type": "integer"
        },
        {
         "name": "Team",
         "rawType": "object",
         "type": "string"
        },
        {
         "name": "Conf.",
         "rawType": "object",
         "type": "string"
        },
        {
         "name": "Current Elo",
         "rawType": "float64",
         "type": "float"
        },
        {
         "name": "Last",
         "rawType": "object",
         "type": "string"
        },
        {
         "name": "Season Min.",
         "rawType": "float64",
         "type": "float"
        },
        {
         "name": "Season Max.",
         "rawType": "float64",
         "type": "float"
        },
        {
         "name": "Home Court*",
         "rawType": "float64",
         "type": "float"
        }
       ],
       "conversionMethod": "pd.DataFrame",
       "ref": "4f331dab-3d7a-4bdb-8608-e8a79c2c13ef",
       "rows": [
        [
         "1",
         "Duke",
         "ACC",
         "2089.303",
         "+14 🟢@@13.77758789",
         "1842.133",
         "2089.303",
         "83.04591"
        ],
        [
         "2",
         "Houston",
         "Big 12",
         "2074.552",
         "+7 🟢@@6.890441895",
         "1863.668",
         "2074.552",
         "84.47469"
        ],
        [
         "3",
         "Auburn",
         "SEC",
         "2049.707",
         "-18 🟠@@-17.93383789",
         "1863.583",
         "2105.443",
         "67.584"
        ],
        [
         "4",
         "Florida",
         "SEC",
         "2040.319",
         "+7 🟢@@6.597717285",
         "1799.165",
         "2040.319",
         "62.82391"
        ],
        [
         "5",
         "Alabama",
         "SEC",
         "2031.764",
         "+18 🟢@@17.93389893",
         "1903.559",
         "2086.004",
         "100.502"
        ]
       ],
       "shape": {
        "columns": 7,
        "rows": 5
       }
      },
      "text/html": [
       "<div>\n",
       "<style scoped>\n",
       "    .dataframe tbody tr th:only-of-type {\n",
       "        vertical-align: middle;\n",
       "    }\n",
       "\n",
       "    .dataframe tbody tr th {\n",
       "        vertical-align: top;\n",
       "    }\n",
       "\n",
       "    .dataframe thead th {\n",
       "        text-align: right;\n",
       "    }\n",
       "</style>\n",
       "<table border=\"1\" class=\"dataframe\">\n",
       "  <thead>\n",
       "    <tr style=\"text-align: right;\">\n",
       "      <th></th>\n",
       "      <th>Team</th>\n",
       "      <th>Conf.</th>\n",
       "      <th>Current Elo</th>\n",
       "      <th>Last</th>\n",
       "      <th>Season Min.</th>\n",
       "      <th>Season Max.</th>\n",
       "      <th>Home Court*</th>\n",
       "    </tr>\n",
       "  </thead>\n",
       "  <tbody>\n",
       "    <tr>\n",
       "      <th>1</th>\n",
       "      <td>Duke</td>\n",
       "      <td>ACC</td>\n",
       "      <td>2089.303</td>\n",
       "      <td>+14 🟢@@13.77758789</td>\n",
       "      <td>1842.133</td>\n",
       "      <td>2089.303</td>\n",
       "      <td>83.04591</td>\n",
       "    </tr>\n",
       "    <tr>\n",
       "      <th>2</th>\n",
       "      <td>Houston</td>\n",
       "      <td>Big 12</td>\n",
       "      <td>2074.552</td>\n",
       "      <td>+7 🟢@@6.890441895</td>\n",
       "      <td>1863.668</td>\n",
       "      <td>2074.552</td>\n",
       "      <td>84.47469</td>\n",
       "    </tr>\n",
       "    <tr>\n",
       "      <th>3</th>\n",
       "      <td>Auburn</td>\n",
       "      <td>SEC</td>\n",
       "      <td>2049.707</td>\n",
       "      <td>-18 🟠@@-17.93383789</td>\n",
       "      <td>1863.583</td>\n",
       "      <td>2105.443</td>\n",
       "      <td>67.58400</td>\n",
       "    </tr>\n",
       "    <tr>\n",
       "      <th>4</th>\n",
       "      <td>Florida</td>\n",
       "      <td>SEC</td>\n",
       "      <td>2040.319</td>\n",
       "      <td>+7 🟢@@6.597717285</td>\n",
       "      <td>1799.165</td>\n",
       "      <td>2040.319</td>\n",
       "      <td>62.82391</td>\n",
       "    </tr>\n",
       "    <tr>\n",
       "      <th>5</th>\n",
       "      <td>Alabama</td>\n",
       "      <td>SEC</td>\n",
       "      <td>2031.764</td>\n",
       "      <td>+18 🟢@@17.93389893</td>\n",
       "      <td>1903.559</td>\n",
       "      <td>2086.004</td>\n",
       "      <td>100.50200</td>\n",
       "    </tr>\n",
       "  </tbody>\n",
       "</table>\n",
       "</div>"
      ],
      "text/plain": [
       "      Team   Conf.  Current Elo                 Last  Season Min.  \\\n",
       "1     Duke     ACC     2089.303   +14 🟢@@13.77758789     1842.133   \n",
       "2  Houston  Big 12     2074.552    +7 🟢@@6.890441895     1863.668   \n",
       "3   Auburn     SEC     2049.707  -18 🟠@@-17.93383789     1863.583   \n",
       "4  Florida     SEC     2040.319    +7 🟢@@6.597717285     1799.165   \n",
       "5  Alabama     SEC     2031.764   +18 🟢@@17.93389893     1903.559   \n",
       "\n",
       "   Season Max.  Home Court*  \n",
       "1     2089.303     83.04591  \n",
       "2     2074.552     84.47469  \n",
       "3     2105.443     67.58400  \n",
       "4     2040.319     62.82391  \n",
       "5     2086.004    100.50200  "
      ]
     },
     "execution_count": 103,
     "metadata": {},
     "output_type": "execute_result"
    }
   ],
   "source": [
    "nate = pd.read_csv(f'{data_dir}/Nate/data-nO2M0.csv', index_col=0)\n",
    "nate.head()"
   ]
  },
  {
   "cell_type": "markdown",
   "metadata": {},
   "source": [
    "I'll need to match the nate table to the kaggle names, and I'll use fuzzywuzzy for that\n",
    "Right now he only has mens teams, so for womens I'll need to derive ELO myself using a simple historic win-loss calculator I think"
   ]
  },
  {
   "cell_type": "code",
   "execution_count": 104,
   "metadata": {},
   "outputs": [],
   "source": [
    "from fuzzywuzzy import fuzz\n",
    "from fuzzywuzzy import process"
   ]
  },
  {
   "cell_type": "code",
   "execution_count": 105,
   "metadata": {},
   "outputs": [
    {
     "data": {
      "text/plain": [
       "('duke', 100)"
      ]
     },
     "execution_count": 105,
     "metadata": {},
     "output_type": "execute_result"
    }
   ],
   "source": [
    "MTeamSpellings = pd.read_csv(f\"{data_dir}/Kaggle/MTeamSpellings.csv\")\n",
    "choices = list(MTeamSpellings[\"TeamNameSpelling\"])\n",
    "# Example of how this will work:\n",
    "process.extractOne(nate['Team'][1], choices)"
   ]
  },
  {
   "cell_type": "code",
   "execution_count": 106,
   "metadata": {},
   "outputs": [
    {
     "data": {
      "application/vnd.microsoft.datawrangler.viewer.v0+json": {
       "columns": [
        {
         "name": "index",
         "rawType": "int64",
         "type": "integer"
        },
        {
         "name": "kaggle_name",
         "rawType": "object",
         "type": "string"
        },
        {
         "name": "Team",
         "rawType": "object",
         "type": "string"
        },
        {
         "name": "fuzz_score",
         "rawType": "int64",
         "type": "integer"
        }
       ],
       "conversionMethod": "pd.DataFrame",
       "ref": "3e40a504-41e0-4dcc-a468-aae37436a27e",
       "rows": [
        [
         "300",
         "texas rio grande valley",
         "UT Rio Grande Valley",
         "88"
        ],
        [
         "211",
         "umass",
         "UMass (Amherst)",
         "90"
        ],
        [
         "167",
         "uni",
         "Miami University (OH)",
         "90"
        ],
        [
         "215",
         "queens (nc)",
         "Queens",
         "90"
        ],
        [
         "364",
         "mississippi valley state",
         "Mississippi Valley St.",
         "93"
        ],
        [
         "208",
         "southeast missouri state",
         "Southeast Missouri St.",
         "93"
        ],
        [
         "297",
         "saint francis (ny)",
         "Saint Francis",
         "95"
        ],
        [
         "216",
         "mount st. mary's",
         "Mount St. Mary's (MD)",
         "95"
        ],
        [
         "242",
         "miami (fl)",
         "U Miami (FL)",
         "95"
        ],
        [
         "303",
         "louisiana-lafayette",
         "Louisiana (Lafayette)",
         "97"
        ],
        [
         "356",
         "md. eastern shore",
         "MD Eastern Shore",
         "97"
        ],
        [
         "241",
         "georgia southern",
         "Georgia Southern",
         "100"
        ],
        [
         "239",
         "northwestern st.",
         "Northwestern St.",
         "100"
        ],
        [
         "238",
         "william & mary",
         "William & Mary",
         "100"
        ],
        [
         "237",
         "little rock",
         "Little Rock",
         "100"
        ],
        [
         "236",
         "albany",
         "Albany",
         "100"
        ],
        [
         "243",
         "uc davis",
         "UC Davis",
         "100"
        ],
        [
         "235",
         "presbyterian",
         "Presbyterian",
         "100"
        ],
        [
         "244",
         "central michigan",
         "Central Michigan",
         "100"
        ],
        [
         "234",
         "richmond",
         "Richmond",
         "100"
        ],
        [
         "245",
         "tarleton st",
         "Tarleton St.",
         "100"
        ],
        [
         "233",
         "evansville",
         "Evansville",
         "100"
        ],
        [
         "240",
         "georgia st",
         "Georgia St.",
         "100"
        ],
        [
         "246",
         "south dakota",
         "South Dakota",
         "100"
        ],
        [
         "248",
         "hawaii",
         "Hawaii",
         "100"
        ],
        [
         "232",
         "portland",
         "Portland",
         "100"
        ],
        [
         "268",
         "austin peay",
         "Austin Peay",
         "100"
        ],
        [
         "267",
         "texas southern",
         "Texas Southern",
         "100"
        ],
        [
         "266",
         "penn",
         "Penn",
         "100"
        ],
        [
         "265",
         "fordham",
         "Fordham",
         "100"
        ],
        [
         "264",
         "fiu",
         "FIU",
         "100"
        ],
        [
         "263",
         "old dominion",
         "Old Dominion",
         "100"
        ],
        [
         "262",
         "toledo",
         "Toledo",
         "100"
        ],
        [
         "261",
         "se louisiana",
         "SE Louisiana",
         "100"
        ],
        [
         "260",
         "jackson st",
         "Jackson St.",
         "100"
        ],
        [
         "247",
         "la salle",
         "La Salle",
         "100"
        ],
        [
         "259",
         "wright st",
         "Wright St.",
         "100"
        ],
        [
         "257",
         "tulsa",
         "Tulsa",
         "100"
        ],
        [
         "256",
         "eastern michigan",
         "Eastern Michigan",
         "100"
        ],
        [
         "255",
         "seton hall",
         "Seton Hall",
         "100"
        ],
        [
         "254",
         "longwood",
         "Longwood",
         "100"
        ],
        [
         "253",
         "idaho",
         "Idaho",
         "100"
        ],
        [
         "252",
         "cal state bakersfield",
         "Cal State Bakersfield",
         "100"
        ],
        [
         "251",
         "tennessee st",
         "Tennessee St.",
         "100"
        ],
        [
         "250",
         "marist",
         "Marist",
         "100"
        ],
        [
         "249",
         "sacred heart",
         "Sacred Heart",
         "100"
        ],
        [
         "258",
         "siena",
         "Siena",
         "100"
        ],
        [
         "231",
         "hofstra",
         "Hofstra",
         "100"
        ],
        [
         "227",
         "campbell",
         "Campbell",
         "100"
        ],
        [
         "229",
         "rice",
         "Rice",
         "100"
        ]
       ],
       "shape": {
        "columns": 3,
        "rows": 364
       }
      },
      "text/html": [
       "<div>\n",
       "<style scoped>\n",
       "    .dataframe tbody tr th:only-of-type {\n",
       "        vertical-align: middle;\n",
       "    }\n",
       "\n",
       "    .dataframe tbody tr th {\n",
       "        vertical-align: top;\n",
       "    }\n",
       "\n",
       "    .dataframe thead th {\n",
       "        text-align: right;\n",
       "    }\n",
       "</style>\n",
       "<table border=\"1\" class=\"dataframe\">\n",
       "  <thead>\n",
       "    <tr style=\"text-align: right;\">\n",
       "      <th></th>\n",
       "      <th>kaggle_name</th>\n",
       "      <th>Team</th>\n",
       "      <th>fuzz_score</th>\n",
       "    </tr>\n",
       "  </thead>\n",
       "  <tbody>\n",
       "    <tr>\n",
       "      <th>300</th>\n",
       "      <td>texas rio grande valley</td>\n",
       "      <td>UT Rio Grande Valley</td>\n",
       "      <td>88</td>\n",
       "    </tr>\n",
       "    <tr>\n",
       "      <th>211</th>\n",
       "      <td>umass</td>\n",
       "      <td>UMass (Amherst)</td>\n",
       "      <td>90</td>\n",
       "    </tr>\n",
       "    <tr>\n",
       "      <th>167</th>\n",
       "      <td>uni</td>\n",
       "      <td>Miami University (OH)</td>\n",
       "      <td>90</td>\n",
       "    </tr>\n",
       "    <tr>\n",
       "      <th>215</th>\n",
       "      <td>queens (nc)</td>\n",
       "      <td>Queens</td>\n",
       "      <td>90</td>\n",
       "    </tr>\n",
       "    <tr>\n",
       "      <th>364</th>\n",
       "      <td>mississippi valley state</td>\n",
       "      <td>Mississippi Valley St.</td>\n",
       "      <td>93</td>\n",
       "    </tr>\n",
       "    <tr>\n",
       "      <th>...</th>\n",
       "      <td>...</td>\n",
       "      <td>...</td>\n",
       "      <td>...</td>\n",
       "    </tr>\n",
       "    <tr>\n",
       "      <th>118</th>\n",
       "      <td>middle tennessee</td>\n",
       "      <td>Middle Tennessee</td>\n",
       "      <td>100</td>\n",
       "    </tr>\n",
       "    <tr>\n",
       "      <th>117</th>\n",
       "      <td>tcu</td>\n",
       "      <td>TCU</td>\n",
       "      <td>100</td>\n",
       "    </tr>\n",
       "    <tr>\n",
       "      <th>116</th>\n",
       "      <td>uab</td>\n",
       "      <td>UAB</td>\n",
       "      <td>100</td>\n",
       "    </tr>\n",
       "    <tr>\n",
       "      <th>114</th>\n",
       "      <td>furman</td>\n",
       "      <td>Furman</td>\n",
       "      <td>100</td>\n",
       "    </tr>\n",
       "    <tr>\n",
       "      <th>182</th>\n",
       "      <td>maine</td>\n",
       "      <td>Maine</td>\n",
       "      <td>100</td>\n",
       "    </tr>\n",
       "  </tbody>\n",
       "</table>\n",
       "<p>364 rows × 3 columns</p>\n",
       "</div>"
      ],
      "text/plain": [
       "                  kaggle_name                    Team  fuzz_score\n",
       "300   texas rio grande valley    UT Rio Grande Valley          88\n",
       "211                     umass         UMass (Amherst)          90\n",
       "167                       uni   Miami University (OH)          90\n",
       "215               queens (nc)                  Queens          90\n",
       "364  mississippi valley state  Mississippi Valley St.          93\n",
       "..                        ...                     ...         ...\n",
       "118          middle tennessee        Middle Tennessee         100\n",
       "117                       tcu                     TCU         100\n",
       "116                       uab                     UAB         100\n",
       "114                    furman                  Furman         100\n",
       "182                     maine                   Maine         100\n",
       "\n",
       "[364 rows x 3 columns]"
      ]
     },
     "metadata": {},
     "output_type": "display_data"
    }
   ],
   "source": [
    "nate['kaggle_name'] = nate['Team'].apply(lambda x: process.extractOne(x, choices)[0])\n",
    "nate['fuzz_score'] = nate['Team'].apply(lambda x: process.extractOne(x, choices)[1])\n",
    "# check for erroneous matches by going worst to best\n",
    "display(nate[['kaggle_name','Team','fuzz_score']].sort_values(by='fuzz_score', ascending=True))\n",
    "# In my case, the only error was Miami University (OH), which got matches with 'uni'\n",
    "nate.loc[nate['kaggle_name'] == 'uni', 'kaggle_name'] = 'miami (oh)'"
   ]
  },
  {
   "cell_type": "code",
   "execution_count": 107,
   "metadata": {},
   "outputs": [
    {
     "data": {
      "application/vnd.microsoft.datawrangler.viewer.v0+json": {
       "columns": [
        {
         "name": "index",
         "rawType": "int64",
         "type": "integer"
        },
        {
         "name": "Team",
         "rawType": "object",
         "type": "string"
        },
        {
         "name": "Conf.",
         "rawType": "object",
         "type": "string"
        },
        {
         "name": "Current Elo",
         "rawType": "float64",
         "type": "float"
        },
        {
         "name": "Last",
         "rawType": "object",
         "type": "string"
        },
        {
         "name": "Season Min.",
         "rawType": "float64",
         "type": "float"
        },
        {
         "name": "Season Max.",
         "rawType": "float64",
         "type": "float"
        },
        {
         "name": "Home Court*",
         "rawType": "float64",
         "type": "float"
        },
        {
         "name": "kaggle_name",
         "rawType": "object",
         "type": "string"
        },
        {
         "name": "fuzz_score",
         "rawType": "int64",
         "type": "integer"
        }
       ],
       "conversionMethod": "pd.DataFrame",
       "ref": "1c28faef-6e67-4ddf-9fb3-994dafc4d591",
       "rows": [
        [
         "1",
         "Duke",
         "ACC",
         "2089.303",
         "+14 🟢@@13.77758789",
         "1842.133",
         "2089.303",
         "83.04591",
         "duke",
         "100"
        ],
        [
         "2",
         "Houston",
         "Big 12",
         "2074.552",
         "+7 🟢@@6.890441895",
         "1863.668",
         "2074.552",
         "84.47469",
         "houston",
         "100"
        ],
        [
         "3",
         "Auburn",
         "SEC",
         "2049.707",
         "-18 🟠@@-17.93383789",
         "1863.583",
         "2105.443",
         "67.584",
         "auburn",
         "100"
        ],
        [
         "4",
         "Florida",
         "SEC",
         "2040.319",
         "+7 🟢@@6.597717285",
         "1799.165",
         "2040.319",
         "62.82391",
         "florida",
         "100"
        ],
        [
         "5",
         "Alabama",
         "SEC",
         "2031.764",
         "+18 🟢@@17.93389893",
         "1903.559",
         "2086.004",
         "100.502",
         "alabama",
         "100"
        ],
        [
         "6",
         "Michigan St.",
         "Big Ten",
         "2009.002",
         "+7 🟢@@6.729248047",
         "1757.601",
         "2009.002",
         "81.57139",
         "michigan st",
         "100"
        ],
        [
         "7",
         "St. John's",
         "Big East",
         "1987.206",
         "+11 🟢@@10.93847656",
         "1791.322",
         "1987.206",
         "43.39108",
         "st. john's",
         "100"
        ],
        [
         "8",
         "Tennessee",
         "SEC",
         "1977.244",
         "+2 🟢@@2.040161133",
         "1847.643",
         "1987.138",
         "86.19893",
         "tennessee",
         "100"
        ],
        [
         "9",
         "Texas Tech",
         "Big 12",
         "1952.853",
         "+20 🟢@@20.43499756",
         "1770.406",
         "1952.853",
         "80.30434",
         "texas tech",
         "100"
        ],
        [
         "10",
         "Gonzaga",
         "WCC",
         "1952.656",
         "+4 🟢@@3.786499023",
         "1826.891",
         "1952.656",
         "71.56569",
         "gonzaga",
         "100"
        ],
        [
         "11",
         "Louisville",
         "ACC",
         "1950.435",
         "+4 🟢@@3.525756836",
         "1534.851",
         "1950.435",
         "66.29934",
         "louisville",
         "100"
        ],
        [
         "12",
         "Maryland",
         "Big Ten",
         "1940.398",
         "+7 🟢@@6.720581055",
         "1706.66",
         "1940.398",
         "74.57055",
         "maryland",
         "100"
        ],
        [
         "13",
         "Saint Mary's (CA)",
         "WCC",
         "1936.807",
         "+2 🟢@@1.791687012",
         "1715.689",
         "1936.807",
         "51.3288",
         "saint mary's (ca)",
         "100"
        ],
        [
         "14",
         "Clemson",
         "ACC",
         "1916.291",
         "+2 🟢@@1.703186035",
         "1736.343",
         "1916.291",
         "81.81437",
         "clemson",
         "100"
        ],
        [
         "15",
         "Kansas",
         "Big 12",
         "1911.125",
         "+12 🟢@@11.94195557",
         "1885.905",
         "2033.955",
         "89.09142",
         "kansas",
         "100"
        ],
        [
         "16",
         "Arizona",
         "Big 12",
         "1906.818",
         "-12 🟠@@-11.94195557",
         "1730.804",
         "1959.279",
         "83.74467",
         "arizona",
         "100"
        ],
        [
         "17",
         "UConn",
         "Big East",
         "1899.5",
         "+2 🟢@@1.915405273",
         "1844.808",
         "1984.536",
         "54.18959",
         "uconn",
         "100"
        ],
        [
         "18",
         "Iowa St.",
         "Big 12",
         "1895.161",
         "+28 🟢@@28.11676025",
         "1866.029",
         "2030.798",
         "77.82376",
         "iowa st",
         "100"
        ],
        [
         "19",
         "Texas A&M",
         "SEC",
         "1892.981",
         "+14 🟢@@13.61828613",
         "1800.151",
         "1927.092",
         "66.2533",
         "texas a&m",
         "100"
        ],
        [
         "20",
         "BYU",
         "Big 12",
         "1884.394",
         "+4 🟢@@3.813232422",
         "1711.876",
         "1884.394",
         "98.47079",
         "byu",
         "100"
        ],
        [
         "21",
         "Wisconsin",
         "Big Ten",
         "1863.745",
         "-64 🟠@@-63.91217041",
         "1749.993",
         "1961.771",
         "76.58871",
         "wisconsin",
         "100"
        ],
        [
         "22",
         "UCLA",
         "Big Ten",
         "1863.713",
         "+19 🟢@@19.2868042",
         "1709.99",
         "1863.713",
         "77.12961",
         "ucla",
         "100"
        ],
        [
         "23",
         "Illinois",
         "Big Ten",
         "1861.005",
         "+13 🟢@@13.4743042",
         "1763.383",
         "1939.585",
         "71.86468",
         "illinois",
         "100"
        ],
        [
         "24",
         "Ole Miss",
         "SEC",
         "1857.475",
         "-7 🟠@@-6.597717285",
         "1713.98",
         "1943.781",
         "73.00755",
         "ole miss",
         "100"
        ],
        [
         "25",
         "VCU",
         "A-10",
         "1857.215",
         "-25 🟠@@-25.11437988",
         "1673.667",
         "1882.33",
         "71.68198",
         "vcu",
         "100"
        ],
        [
         "26",
         "Drake",
         "MVC",
         "1854.651",
         "+16 🟢@@15.56347656",
         "1677.405",
         "1854.651",
         "59.36783",
         "drake",
         "100"
        ],
        [
         "27",
         "Marquette",
         "Big East",
         "1851.853",
         "-11 🟠@@-10.93847656",
         "1825.318",
         "1944.018",
         "67.61778",
         "marquette",
         "100"
        ],
        [
         "28",
         "Kentucky",
         "SEC",
         "1851.058",
         "+32 🟢@@32.34118652",
         "1775.307",
         "1851.058",
         "82.12686",
         "kentucky",
         "100"
        ],
        [
         "29",
         "New Mexico",
         "MWC",
         "1848.354",
         "+5 🟢@@5.30657959",
         "1669.645",
         "1865.114",
         "89.07415",
         "new mexico",
         "100"
        ],
        [
         "30",
         "UC San Diego",
         "Big West",
         "1844.898",
         "+5 🟢@@4.62902832",
         "1487.085",
         "1844.898",
         "59.54225",
         "uc san diego",
         "100"
        ],
        [
         "31",
         "Baylor",
         "Big 12",
         "1836.109",
         "-7 🟠@@-6.890441895",
         "1791.445",
         "1886.188",
         "47.48352",
         "baylor",
         "100"
        ],
        [
         "32",
         "Memphis",
         "AAC",
         "1834.618",
         "+2 🟢@@1.798217773",
         "1658.72",
         "1836.823",
         "86.32083",
         "memphis",
         "100"
        ],
        [
         "33",
         "Purdue",
         "Big Ten",
         "1833.051",
         "-13 🟠@@-13.4743042",
         "1812.358",
         "1930.823",
         "109.2156",
         "purdue",
         "100"
        ],
        [
         "34",
         "Xavier",
         "Big East",
         "1832.013",
         "+2 🟢@@2.465270996",
         "1666.344",
         "1832.013",
         "84.81494",
         "xavier",
         "100"
        ],
        [
         "35",
         "Arkansas",
         "SEC",
         "1828.403",
         "+5 🟢@@4.746154785",
         "1709.021",
         "1828.403",
         "85.48567",
         "arkansas",
         "100"
        ],
        [
         "36",
         "Creighton",
         "Big East",
         "1827.128",
         "+5 🟢@@4.983703613",
         "1702.338",
         "1863.698",
         "74.16709",
         "creighton",
         "100"
        ],
        [
         "37",
         "Colorado St.",
         "MWC",
         "1819.753",
         "+36 🟢@@36.07061768",
         "1613.687",
         "1819.753",
         "60.36858",
         "colorado st",
         "100"
        ],
        [
         "38",
         "Georgia",
         "SEC",
         "1815.588",
         "+10 🟢@@9.731262207",
         "1674.266",
         "1815.588",
         "58.92334",
         "georgia",
         "100"
        ],
        [
         "39",
         "North Carolina",
         "ACC",
         "1814.202",
         "-14 🟠@@-13.77752686",
         "1746.949",
         "1874.644",
         "64.50067",
         "north carolina",
         "100"
        ],
        [
         "40",
         "Michigan",
         "Big Ten",
         "1812.236",
         "-7 🟠@@-6.729248047",
         "1618.011",
         "1928.393",
         "74.46034",
         "michigan",
         "100"
        ],
        [
         "41",
         "Oregon",
         "Big Ten",
         "1810.116",
         "+8 🟢@@7.779174805",
         "1708.411",
         "1877.787",
         "51.82573",
         "oregon",
         "100"
        ],
        [
         "42",
         "Missouri",
         "SEC",
         "1803.644",
         "-32 🟠@@-32.34118652",
         "1531.511",
         "1886.499",
         "85.52576",
         "missouri",
         "100"
        ],
        [
         "43",
         "Indiana",
         "Big Ten",
         "1792.548",
         "+9 🟢@@9.36328125",
         "1652.479",
         "1792.548",
         "86.79526",
         "indiana",
         "100"
        ],
        [
         "44",
         "San Diego St.",
         "MWC",
         "1790.632",
         "+8 🟢@@7.839660645",
         "1705.179",
         "1809.336",
         "62.84991",
         "san diego st",
         "100"
        ],
        [
         "45",
         "Boise St.",
         "MWC",
         "1775.204",
         "-36 🟠@@-36.07061768",
         "1703.89",
         "1811.275",
         "67.10416",
         "boise st",
         "100"
        ],
        [
         "46",
         "Mississippi St.",
         "SEC",
         "1771.446",
         "-5 🟠@@-4.746154785",
         "1747.031",
         "1913.99",
         "65.56918",
         "mississippi st",
         "100"
        ],
        [
         "47",
         "Liberty",
         "CUSA",
         "1760.209",
         "+32 🟢@@31.84851074",
         "1471.788",
         "1760.209",
         "51.31514",
         "liberty",
         "100"
        ],
        [
         "48",
         "Yale",
         "Ivy",
         "1754.658",
         "+10 🟢@@9.705505371",
         "1601.448",
         "1779.087",
         "53.00887",
         "yale",
         "100"
        ],
        [
         "49",
         "Wake Forest",
         "ACC",
         "1754.622",
         "+15 🟢@@14.92687988",
         "1703.164",
         "1830.949",
         "75.85943",
         "wake forest",
         "100"
        ],
        [
         "50",
         "High Point",
         "Big South",
         "1753.002",
         "+15 🟢@@14.96960449",
         "1561.615",
         "1753.002",
         "64.58089",
         "high point",
         "100"
        ]
       ],
       "shape": {
        "columns": 9,
        "rows": 364
       }
      },
      "text/html": [
       "<div>\n",
       "<style scoped>\n",
       "    .dataframe tbody tr th:only-of-type {\n",
       "        vertical-align: middle;\n",
       "    }\n",
       "\n",
       "    .dataframe tbody tr th {\n",
       "        vertical-align: top;\n",
       "    }\n",
       "\n",
       "    .dataframe thead th {\n",
       "        text-align: right;\n",
       "    }\n",
       "</style>\n",
       "<table border=\"1\" class=\"dataframe\">\n",
       "  <thead>\n",
       "    <tr style=\"text-align: right;\">\n",
       "      <th></th>\n",
       "      <th>Team</th>\n",
       "      <th>Conf.</th>\n",
       "      <th>Current Elo</th>\n",
       "      <th>Last</th>\n",
       "      <th>Season Min.</th>\n",
       "      <th>Season Max.</th>\n",
       "      <th>Home Court*</th>\n",
       "      <th>kaggle_name</th>\n",
       "      <th>fuzz_score</th>\n",
       "    </tr>\n",
       "  </thead>\n",
       "  <tbody>\n",
       "    <tr>\n",
       "      <th>1</th>\n",
       "      <td>Duke</td>\n",
       "      <td>ACC</td>\n",
       "      <td>2089.3030</td>\n",
       "      <td>+14 🟢@@13.77758789</td>\n",
       "      <td>1842.1330</td>\n",
       "      <td>2089.303</td>\n",
       "      <td>83.04591</td>\n",
       "      <td>duke</td>\n",
       "      <td>100</td>\n",
       "    </tr>\n",
       "    <tr>\n",
       "      <th>2</th>\n",
       "      <td>Houston</td>\n",
       "      <td>Big 12</td>\n",
       "      <td>2074.5520</td>\n",
       "      <td>+7 🟢@@6.890441895</td>\n",
       "      <td>1863.6680</td>\n",
       "      <td>2074.552</td>\n",
       "      <td>84.47469</td>\n",
       "      <td>houston</td>\n",
       "      <td>100</td>\n",
       "    </tr>\n",
       "    <tr>\n",
       "      <th>3</th>\n",
       "      <td>Auburn</td>\n",
       "      <td>SEC</td>\n",
       "      <td>2049.7070</td>\n",
       "      <td>-18 🟠@@-17.93383789</td>\n",
       "      <td>1863.5830</td>\n",
       "      <td>2105.443</td>\n",
       "      <td>67.58400</td>\n",
       "      <td>auburn</td>\n",
       "      <td>100</td>\n",
       "    </tr>\n",
       "    <tr>\n",
       "      <th>4</th>\n",
       "      <td>Florida</td>\n",
       "      <td>SEC</td>\n",
       "      <td>2040.3190</td>\n",
       "      <td>+7 🟢@@6.597717285</td>\n",
       "      <td>1799.1650</td>\n",
       "      <td>2040.319</td>\n",
       "      <td>62.82391</td>\n",
       "      <td>florida</td>\n",
       "      <td>100</td>\n",
       "    </tr>\n",
       "    <tr>\n",
       "      <th>5</th>\n",
       "      <td>Alabama</td>\n",
       "      <td>SEC</td>\n",
       "      <td>2031.7640</td>\n",
       "      <td>+18 🟢@@17.93389893</td>\n",
       "      <td>1903.5590</td>\n",
       "      <td>2086.004</td>\n",
       "      <td>100.50200</td>\n",
       "      <td>alabama</td>\n",
       "      <td>100</td>\n",
       "    </tr>\n",
       "    <tr>\n",
       "      <th>...</th>\n",
       "      <td>...</td>\n",
       "      <td>...</td>\n",
       "      <td>...</td>\n",
       "      <td>...</td>\n",
       "      <td>...</td>\n",
       "      <td>...</td>\n",
       "      <td>...</td>\n",
       "      <td>...</td>\n",
       "      <td>...</td>\n",
       "    </tr>\n",
       "    <tr>\n",
       "      <th>360</th>\n",
       "      <td>Chicago St.</td>\n",
       "      <td>NSEC</td>\n",
       "      <td>1082.9020</td>\n",
       "      <td>-3 🟠@@-2.836730957</td>\n",
       "      <td>1082.9020</td>\n",
       "      <td>1293.097</td>\n",
       "      <td>23.51743</td>\n",
       "      <td>chicago st</td>\n",
       "      <td>100</td>\n",
       "    </tr>\n",
       "    <tr>\n",
       "      <th>361</th>\n",
       "      <td>Arkansas-Pine Bluff</td>\n",
       "      <td>SWAC</td>\n",
       "      <td>1055.6120</td>\n",
       "      <td>-7 🟠@@-6.626464844</td>\n",
       "      <td>995.7072</td>\n",
       "      <td>1209.382</td>\n",
       "      <td>29.78964</td>\n",
       "      <td>arkansas-pine bluff</td>\n",
       "      <td>100</td>\n",
       "    </tr>\n",
       "    <tr>\n",
       "      <th>362</th>\n",
       "      <td>New Orleans</td>\n",
       "      <td>Southland</td>\n",
       "      <td>1049.2200</td>\n",
       "      <td>-4 🟠@@-4.07635498</td>\n",
       "      <td>1049.2200</td>\n",
       "      <td>1218.143</td>\n",
       "      <td>47.22064</td>\n",
       "      <td>new orleans</td>\n",
       "      <td>100</td>\n",
       "    </tr>\n",
       "    <tr>\n",
       "      <th>363</th>\n",
       "      <td>Prairie View A&amp;M</td>\n",
       "      <td>SWAC</td>\n",
       "      <td>1027.2520</td>\n",
       "      <td>-8 🟠@@-8.157409668</td>\n",
       "      <td>1027.2520</td>\n",
       "      <td>1215.821</td>\n",
       "      <td>40.47441</td>\n",
       "      <td>prairie view a&amp;m</td>\n",
       "      <td>100</td>\n",
       "    </tr>\n",
       "    <tr>\n",
       "      <th>364</th>\n",
       "      <td>Mississippi Valley St.</td>\n",
       "      <td>SWAC</td>\n",
       "      <td>848.9012</td>\n",
       "      <td>-1 🟠@@-1.481994629</td>\n",
       "      <td>848.9012</td>\n",
       "      <td>1061.589</td>\n",
       "      <td>59.57902</td>\n",
       "      <td>mississippi valley state</td>\n",
       "      <td>93</td>\n",
       "    </tr>\n",
       "  </tbody>\n",
       "</table>\n",
       "<p>364 rows × 9 columns</p>\n",
       "</div>"
      ],
      "text/plain": [
       "                       Team      Conf.  Current Elo                 Last  \\\n",
       "1                      Duke        ACC    2089.3030   +14 🟢@@13.77758789   \n",
       "2                   Houston     Big 12    2074.5520    +7 🟢@@6.890441895   \n",
       "3                    Auburn        SEC    2049.7070  -18 🟠@@-17.93383789   \n",
       "4                   Florida        SEC    2040.3190    +7 🟢@@6.597717285   \n",
       "5                   Alabama        SEC    2031.7640   +18 🟢@@17.93389893   \n",
       "..                      ...        ...          ...                  ...   \n",
       "360             Chicago St.       NSEC    1082.9020   -3 🟠@@-2.836730957   \n",
       "361     Arkansas-Pine Bluff       SWAC    1055.6120   -7 🟠@@-6.626464844   \n",
       "362             New Orleans  Southland    1049.2200    -4 🟠@@-4.07635498   \n",
       "363        Prairie View A&M       SWAC    1027.2520   -8 🟠@@-8.157409668   \n",
       "364  Mississippi Valley St.       SWAC     848.9012   -1 🟠@@-1.481994629   \n",
       "\n",
       "     Season Min.  Season Max.  Home Court*               kaggle_name  \\\n",
       "1      1842.1330     2089.303     83.04591                      duke   \n",
       "2      1863.6680     2074.552     84.47469                   houston   \n",
       "3      1863.5830     2105.443     67.58400                    auburn   \n",
       "4      1799.1650     2040.319     62.82391                   florida   \n",
       "5      1903.5590     2086.004    100.50200                   alabama   \n",
       "..           ...          ...          ...                       ...   \n",
       "360    1082.9020     1293.097     23.51743                chicago st   \n",
       "361     995.7072     1209.382     29.78964       arkansas-pine bluff   \n",
       "362    1049.2200     1218.143     47.22064               new orleans   \n",
       "363    1027.2520     1215.821     40.47441          prairie view a&m   \n",
       "364     848.9012     1061.589     59.57902  mississippi valley state   \n",
       "\n",
       "     fuzz_score  \n",
       "1           100  \n",
       "2           100  \n",
       "3           100  \n",
       "4           100  \n",
       "5           100  \n",
       "..          ...  \n",
       "360         100  \n",
       "361         100  \n",
       "362         100  \n",
       "363         100  \n",
       "364          93  \n",
       "\n",
       "[364 rows x 9 columns]"
      ]
     },
     "execution_count": 107,
     "metadata": {},
     "output_type": "execute_result"
    }
   ],
   "source": [
    "nate"
   ]
  },
  {
   "cell_type": "code",
   "execution_count": null,
   "metadata": {},
   "outputs": [],
   "source": []
  },
  {
   "cell_type": "code",
   "execution_count": 108,
   "metadata": {},
   "outputs": [
    {
     "data": {
      "application/vnd.microsoft.datawrangler.viewer.v0+json": {
       "columns": [
        {
         "name": "index",
         "rawType": "int64",
         "type": "integer"
        },
        {
         "name": "Team",
         "rawType": "object",
         "type": "string"
        },
        {
         "name": "Conf.",
         "rawType": "object",
         "type": "string"
        },
        {
         "name": "Current Elo",
         "rawType": "float64",
         "type": "float"
        },
        {
         "name": "Last",
         "rawType": "object",
         "type": "string"
        },
        {
         "name": "Season Min.",
         "rawType": "float64",
         "type": "float"
        },
        {
         "name": "Season Max.",
         "rawType": "float64",
         "type": "float"
        },
        {
         "name": "Home Court*",
         "rawType": "float64",
         "type": "float"
        },
        {
         "name": "kaggle_name",
         "rawType": "object",
         "type": "string"
        },
        {
         "name": "fuzz_score",
         "rawType": "int64",
         "type": "integer"
        },
        {
         "name": "TeamNameSpelling",
         "rawType": "object",
         "type": "string"
        },
        {
         "name": "TeamID",
         "rawType": "int64",
         "type": "integer"
        }
       ],
       "conversionMethod": "pd.DataFrame",
       "ref": "91b01474-30b7-406d-9eed-6acf66565b06",
       "rows": [
        [
         "0",
         "Duke",
         "ACC",
         "2089.303",
         "+14 🟢@@13.77758789",
         "1842.133",
         "2089.303",
         "83.04591",
         "duke",
         "100",
         "duke",
         "1181"
        ],
        [
         "1",
         "Houston",
         "Big 12",
         "2074.552",
         "+7 🟢@@6.890441895",
         "1863.668",
         "2074.552",
         "84.47469",
         "houston",
         "100",
         "houston",
         "1222"
        ],
        [
         "2",
         "Auburn",
         "SEC",
         "2049.707",
         "-18 🟠@@-17.93383789",
         "1863.583",
         "2105.443",
         "67.584",
         "auburn",
         "100",
         "auburn",
         "1120"
        ],
        [
         "3",
         "Florida",
         "SEC",
         "2040.319",
         "+7 🟢@@6.597717285",
         "1799.165",
         "2040.319",
         "62.82391",
         "florida",
         "100",
         "florida",
         "1196"
        ],
        [
         "4",
         "Alabama",
         "SEC",
         "2031.764",
         "+18 🟢@@17.93389893",
         "1903.559",
         "2086.004",
         "100.502",
         "alabama",
         "100",
         "alabama",
         "1104"
        ],
        [
         "5",
         "Michigan St.",
         "Big Ten",
         "2009.002",
         "+7 🟢@@6.729248047",
         "1757.601",
         "2009.002",
         "81.57139",
         "michigan st",
         "100",
         "michigan st",
         "1277"
        ],
        [
         "6",
         "St. John's",
         "Big East",
         "1987.206",
         "+11 🟢@@10.93847656",
         "1791.322",
         "1987.206",
         "43.39108",
         "st. john's",
         "100",
         "st. john's",
         "1385"
        ],
        [
         "7",
         "Tennessee",
         "SEC",
         "1977.244",
         "+2 🟢@@2.040161133",
         "1847.643",
         "1987.138",
         "86.19893",
         "tennessee",
         "100",
         "tennessee",
         "1397"
        ],
        [
         "8",
         "Texas Tech",
         "Big 12",
         "1952.853",
         "+20 🟢@@20.43499756",
         "1770.406",
         "1952.853",
         "80.30434",
         "texas tech",
         "100",
         "texas tech",
         "1403"
        ],
        [
         "9",
         "Gonzaga",
         "WCC",
         "1952.656",
         "+4 🟢@@3.786499023",
         "1826.891",
         "1952.656",
         "71.56569",
         "gonzaga",
         "100",
         "gonzaga",
         "1211"
        ],
        [
         "10",
         "Louisville",
         "ACC",
         "1950.435",
         "+4 🟢@@3.525756836",
         "1534.851",
         "1950.435",
         "66.29934",
         "louisville",
         "100",
         "louisville",
         "1257"
        ],
        [
         "11",
         "Maryland",
         "Big Ten",
         "1940.398",
         "+7 🟢@@6.720581055",
         "1706.66",
         "1940.398",
         "74.57055",
         "maryland",
         "100",
         "maryland",
         "1268"
        ],
        [
         "12",
         "Saint Mary's (CA)",
         "WCC",
         "1936.807",
         "+2 🟢@@1.791687012",
         "1715.689",
         "1936.807",
         "51.3288",
         "saint mary's (ca)",
         "100",
         "saint mary's (ca)",
         "1388"
        ],
        [
         "13",
         "Clemson",
         "ACC",
         "1916.291",
         "+2 🟢@@1.703186035",
         "1736.343",
         "1916.291",
         "81.81437",
         "clemson",
         "100",
         "clemson",
         "1155"
        ],
        [
         "14",
         "Kansas",
         "Big 12",
         "1911.125",
         "+12 🟢@@11.94195557",
         "1885.905",
         "2033.955",
         "89.09142",
         "kansas",
         "100",
         "kansas",
         "1242"
        ],
        [
         "15",
         "Arizona",
         "Big 12",
         "1906.818",
         "-12 🟠@@-11.94195557",
         "1730.804",
         "1959.279",
         "83.74467",
         "arizona",
         "100",
         "arizona",
         "1112"
        ],
        [
         "16",
         "UConn",
         "Big East",
         "1899.5",
         "+2 🟢@@1.915405273",
         "1844.808",
         "1984.536",
         "54.18959",
         "uconn",
         "100",
         "uconn",
         "1163"
        ],
        [
         "17",
         "Iowa St.",
         "Big 12",
         "1895.161",
         "+28 🟢@@28.11676025",
         "1866.029",
         "2030.798",
         "77.82376",
         "iowa st",
         "100",
         "iowa st",
         "1235"
        ],
        [
         "18",
         "Texas A&M",
         "SEC",
         "1892.981",
         "+14 🟢@@13.61828613",
         "1800.151",
         "1927.092",
         "66.2533",
         "texas a&m",
         "100",
         "texas a&m",
         "1401"
        ],
        [
         "19",
         "BYU",
         "Big 12",
         "1884.394",
         "+4 🟢@@3.813232422",
         "1711.876",
         "1884.394",
         "98.47079",
         "byu",
         "100",
         "byu",
         "1140"
        ],
        [
         "20",
         "Wisconsin",
         "Big Ten",
         "1863.745",
         "-64 🟠@@-63.91217041",
         "1749.993",
         "1961.771",
         "76.58871",
         "wisconsin",
         "100",
         "wisconsin",
         "1458"
        ],
        [
         "21",
         "UCLA",
         "Big Ten",
         "1863.713",
         "+19 🟢@@19.2868042",
         "1709.99",
         "1863.713",
         "77.12961",
         "ucla",
         "100",
         "ucla",
         "1417"
        ],
        [
         "22",
         "Illinois",
         "Big Ten",
         "1861.005",
         "+13 🟢@@13.4743042",
         "1763.383",
         "1939.585",
         "71.86468",
         "illinois",
         "100",
         "illinois",
         "1228"
        ],
        [
         "23",
         "Ole Miss",
         "SEC",
         "1857.475",
         "-7 🟠@@-6.597717285",
         "1713.98",
         "1943.781",
         "73.00755",
         "ole miss",
         "100",
         "ole miss",
         "1279"
        ],
        [
         "24",
         "VCU",
         "A-10",
         "1857.215",
         "-25 🟠@@-25.11437988",
         "1673.667",
         "1882.33",
         "71.68198",
         "vcu",
         "100",
         "vcu",
         "1433"
        ],
        [
         "25",
         "Drake",
         "MVC",
         "1854.651",
         "+16 🟢@@15.56347656",
         "1677.405",
         "1854.651",
         "59.36783",
         "drake",
         "100",
         "drake",
         "1179"
        ],
        [
         "26",
         "Marquette",
         "Big East",
         "1851.853",
         "-11 🟠@@-10.93847656",
         "1825.318",
         "1944.018",
         "67.61778",
         "marquette",
         "100",
         "marquette",
         "1266"
        ],
        [
         "27",
         "Kentucky",
         "SEC",
         "1851.058",
         "+32 🟢@@32.34118652",
         "1775.307",
         "1851.058",
         "82.12686",
         "kentucky",
         "100",
         "kentucky",
         "1246"
        ],
        [
         "28",
         "New Mexico",
         "MWC",
         "1848.354",
         "+5 🟢@@5.30657959",
         "1669.645",
         "1865.114",
         "89.07415",
         "new mexico",
         "100",
         "new mexico",
         "1307"
        ],
        [
         "29",
         "UC San Diego",
         "Big West",
         "1844.898",
         "+5 🟢@@4.62902832",
         "1487.085",
         "1844.898",
         "59.54225",
         "uc san diego",
         "100",
         "uc san diego",
         "1471"
        ],
        [
         "30",
         "Baylor",
         "Big 12",
         "1836.109",
         "-7 🟠@@-6.890441895",
         "1791.445",
         "1886.188",
         "47.48352",
         "baylor",
         "100",
         "baylor",
         "1124"
        ],
        [
         "31",
         "Memphis",
         "AAC",
         "1834.618",
         "+2 🟢@@1.798217773",
         "1658.72",
         "1836.823",
         "86.32083",
         "memphis",
         "100",
         "memphis",
         "1272"
        ],
        [
         "32",
         "Purdue",
         "Big Ten",
         "1833.051",
         "-13 🟠@@-13.4743042",
         "1812.358",
         "1930.823",
         "109.2156",
         "purdue",
         "100",
         "purdue",
         "1345"
        ],
        [
         "33",
         "Xavier",
         "Big East",
         "1832.013",
         "+2 🟢@@2.465270996",
         "1666.344",
         "1832.013",
         "84.81494",
         "xavier",
         "100",
         "xavier",
         "1462"
        ],
        [
         "34",
         "Arkansas",
         "SEC",
         "1828.403",
         "+5 🟢@@4.746154785",
         "1709.021",
         "1828.403",
         "85.48567",
         "arkansas",
         "100",
         "arkansas",
         "1116"
        ],
        [
         "35",
         "Creighton",
         "Big East",
         "1827.128",
         "+5 🟢@@4.983703613",
         "1702.338",
         "1863.698",
         "74.16709",
         "creighton",
         "100",
         "creighton",
         "1166"
        ],
        [
         "36",
         "Colorado St.",
         "MWC",
         "1819.753",
         "+36 🟢@@36.07061768",
         "1613.687",
         "1819.753",
         "60.36858",
         "colorado st",
         "100",
         "colorado st",
         "1161"
        ],
        [
         "37",
         "Georgia",
         "SEC",
         "1815.588",
         "+10 🟢@@9.731262207",
         "1674.266",
         "1815.588",
         "58.92334",
         "georgia",
         "100",
         "georgia",
         "1208"
        ],
        [
         "38",
         "North Carolina",
         "ACC",
         "1814.202",
         "-14 🟠@@-13.77752686",
         "1746.949",
         "1874.644",
         "64.50067",
         "north carolina",
         "100",
         "north carolina",
         "1314"
        ],
        [
         "39",
         "Michigan",
         "Big Ten",
         "1812.236",
         "-7 🟠@@-6.729248047",
         "1618.011",
         "1928.393",
         "74.46034",
         "michigan",
         "100",
         "michigan",
         "1276"
        ],
        [
         "40",
         "Oregon",
         "Big Ten",
         "1810.116",
         "+8 🟢@@7.779174805",
         "1708.411",
         "1877.787",
         "51.82573",
         "oregon",
         "100",
         "oregon",
         "1332"
        ],
        [
         "41",
         "Missouri",
         "SEC",
         "1803.644",
         "-32 🟠@@-32.34118652",
         "1531.511",
         "1886.499",
         "85.52576",
         "missouri",
         "100",
         "missouri",
         "1281"
        ],
        [
         "42",
         "Indiana",
         "Big Ten",
         "1792.548",
         "+9 🟢@@9.36328125",
         "1652.479",
         "1792.548",
         "86.79526",
         "indiana",
         "100",
         "indiana",
         "1231"
        ],
        [
         "43",
         "San Diego St.",
         "MWC",
         "1790.632",
         "+8 🟢@@7.839660645",
         "1705.179",
         "1809.336",
         "62.84991",
         "san diego st",
         "100",
         "san diego st",
         "1361"
        ],
        [
         "44",
         "Boise St.",
         "MWC",
         "1775.204",
         "-36 🟠@@-36.07061768",
         "1703.89",
         "1811.275",
         "67.10416",
         "boise st",
         "100",
         "boise st",
         "1129"
        ],
        [
         "45",
         "Mississippi St.",
         "SEC",
         "1771.446",
         "-5 🟠@@-4.746154785",
         "1747.031",
         "1913.99",
         "65.56918",
         "mississippi st",
         "100",
         "mississippi st",
         "1280"
        ],
        [
         "46",
         "Liberty",
         "CUSA",
         "1760.209",
         "+32 🟢@@31.84851074",
         "1471.788",
         "1760.209",
         "51.31514",
         "liberty",
         "100",
         "liberty",
         "1251"
        ],
        [
         "47",
         "Yale",
         "Ivy",
         "1754.658",
         "+10 🟢@@9.705505371",
         "1601.448",
         "1779.087",
         "53.00887",
         "yale",
         "100",
         "yale",
         "1463"
        ],
        [
         "48",
         "Wake Forest",
         "ACC",
         "1754.622",
         "+15 🟢@@14.92687988",
         "1703.164",
         "1830.949",
         "75.85943",
         "wake forest",
         "100",
         "wake forest",
         "1448"
        ],
        [
         "49",
         "High Point",
         "Big South",
         "1753.002",
         "+15 🟢@@14.96960449",
         "1561.615",
         "1753.002",
         "64.58089",
         "high point",
         "100",
         "high point",
         "1219"
        ]
       ],
       "shape": {
        "columns": 11,
        "rows": 367
       }
      },
      "text/html": [
       "<div>\n",
       "<style scoped>\n",
       "    .dataframe tbody tr th:only-of-type {\n",
       "        vertical-align: middle;\n",
       "    }\n",
       "\n",
       "    .dataframe tbody tr th {\n",
       "        vertical-align: top;\n",
       "    }\n",
       "\n",
       "    .dataframe thead th {\n",
       "        text-align: right;\n",
       "    }\n",
       "</style>\n",
       "<table border=\"1\" class=\"dataframe\">\n",
       "  <thead>\n",
       "    <tr style=\"text-align: right;\">\n",
       "      <th></th>\n",
       "      <th>Team</th>\n",
       "      <th>Conf.</th>\n",
       "      <th>Current Elo</th>\n",
       "      <th>Last</th>\n",
       "      <th>Season Min.</th>\n",
       "      <th>Season Max.</th>\n",
       "      <th>Home Court*</th>\n",
       "      <th>kaggle_name</th>\n",
       "      <th>fuzz_score</th>\n",
       "      <th>TeamNameSpelling</th>\n",
       "      <th>TeamID</th>\n",
       "    </tr>\n",
       "  </thead>\n",
       "  <tbody>\n",
       "    <tr>\n",
       "      <th>0</th>\n",
       "      <td>Duke</td>\n",
       "      <td>ACC</td>\n",
       "      <td>2089.3030</td>\n",
       "      <td>+14 🟢@@13.77758789</td>\n",
       "      <td>1842.1330</td>\n",
       "      <td>2089.303</td>\n",
       "      <td>83.04591</td>\n",
       "      <td>duke</td>\n",
       "      <td>100</td>\n",
       "      <td>duke</td>\n",
       "      <td>1181</td>\n",
       "    </tr>\n",
       "    <tr>\n",
       "      <th>1</th>\n",
       "      <td>Houston</td>\n",
       "      <td>Big 12</td>\n",
       "      <td>2074.5520</td>\n",
       "      <td>+7 🟢@@6.890441895</td>\n",
       "      <td>1863.6680</td>\n",
       "      <td>2074.552</td>\n",
       "      <td>84.47469</td>\n",
       "      <td>houston</td>\n",
       "      <td>100</td>\n",
       "      <td>houston</td>\n",
       "      <td>1222</td>\n",
       "    </tr>\n",
       "    <tr>\n",
       "      <th>2</th>\n",
       "      <td>Auburn</td>\n",
       "      <td>SEC</td>\n",
       "      <td>2049.7070</td>\n",
       "      <td>-18 🟠@@-17.93383789</td>\n",
       "      <td>1863.5830</td>\n",
       "      <td>2105.443</td>\n",
       "      <td>67.58400</td>\n",
       "      <td>auburn</td>\n",
       "      <td>100</td>\n",
       "      <td>auburn</td>\n",
       "      <td>1120</td>\n",
       "    </tr>\n",
       "    <tr>\n",
       "      <th>3</th>\n",
       "      <td>Florida</td>\n",
       "      <td>SEC</td>\n",
       "      <td>2040.3190</td>\n",
       "      <td>+7 🟢@@6.597717285</td>\n",
       "      <td>1799.1650</td>\n",
       "      <td>2040.319</td>\n",
       "      <td>62.82391</td>\n",
       "      <td>florida</td>\n",
       "      <td>100</td>\n",
       "      <td>florida</td>\n",
       "      <td>1196</td>\n",
       "    </tr>\n",
       "    <tr>\n",
       "      <th>4</th>\n",
       "      <td>Alabama</td>\n",
       "      <td>SEC</td>\n",
       "      <td>2031.7640</td>\n",
       "      <td>+18 🟢@@17.93389893</td>\n",
       "      <td>1903.5590</td>\n",
       "      <td>2086.004</td>\n",
       "      <td>100.50200</td>\n",
       "      <td>alabama</td>\n",
       "      <td>100</td>\n",
       "      <td>alabama</td>\n",
       "      <td>1104</td>\n",
       "    </tr>\n",
       "    <tr>\n",
       "      <th>...</th>\n",
       "      <td>...</td>\n",
       "      <td>...</td>\n",
       "      <td>...</td>\n",
       "      <td>...</td>\n",
       "      <td>...</td>\n",
       "      <td>...</td>\n",
       "      <td>...</td>\n",
       "      <td>...</td>\n",
       "      <td>...</td>\n",
       "      <td>...</td>\n",
       "      <td>...</td>\n",
       "    </tr>\n",
       "    <tr>\n",
       "      <th>362</th>\n",
       "      <td>Arkansas-Pine Bluff</td>\n",
       "      <td>SWAC</td>\n",
       "      <td>1055.6120</td>\n",
       "      <td>-7 🟠@@-6.626464844</td>\n",
       "      <td>995.7072</td>\n",
       "      <td>1209.382</td>\n",
       "      <td>29.78964</td>\n",
       "      <td>arkansas-pine bluff</td>\n",
       "      <td>100</td>\n",
       "      <td>arkansas-pine bluff</td>\n",
       "      <td>1115</td>\n",
       "    </tr>\n",
       "    <tr>\n",
       "      <th>363</th>\n",
       "      <td>Arkansas-Pine Bluff</td>\n",
       "      <td>SWAC</td>\n",
       "      <td>1055.6120</td>\n",
       "      <td>-7 🟠@@-6.626464844</td>\n",
       "      <td>995.7072</td>\n",
       "      <td>1209.382</td>\n",
       "      <td>29.78964</td>\n",
       "      <td>arkansas-pine bluff</td>\n",
       "      <td>100</td>\n",
       "      <td>arkansas-pine bluff</td>\n",
       "      <td>1115</td>\n",
       "    </tr>\n",
       "    <tr>\n",
       "      <th>364</th>\n",
       "      <td>New Orleans</td>\n",
       "      <td>Southland</td>\n",
       "      <td>1049.2200</td>\n",
       "      <td>-4 🟠@@-4.07635498</td>\n",
       "      <td>1049.2200</td>\n",
       "      <td>1218.143</td>\n",
       "      <td>47.22064</td>\n",
       "      <td>new orleans</td>\n",
       "      <td>100</td>\n",
       "      <td>new orleans</td>\n",
       "      <td>1309</td>\n",
       "    </tr>\n",
       "    <tr>\n",
       "      <th>365</th>\n",
       "      <td>Prairie View A&amp;M</td>\n",
       "      <td>SWAC</td>\n",
       "      <td>1027.2520</td>\n",
       "      <td>-8 🟠@@-8.157409668</td>\n",
       "      <td>1027.2520</td>\n",
       "      <td>1215.821</td>\n",
       "      <td>40.47441</td>\n",
       "      <td>prairie view a&amp;m</td>\n",
       "      <td>100</td>\n",
       "      <td>prairie view a&amp;m</td>\n",
       "      <td>1341</td>\n",
       "    </tr>\n",
       "    <tr>\n",
       "      <th>366</th>\n",
       "      <td>Mississippi Valley St.</td>\n",
       "      <td>SWAC</td>\n",
       "      <td>848.9012</td>\n",
       "      <td>-1 🟠@@-1.481994629</td>\n",
       "      <td>848.9012</td>\n",
       "      <td>1061.589</td>\n",
       "      <td>59.57902</td>\n",
       "      <td>mississippi valley state</td>\n",
       "      <td>93</td>\n",
       "      <td>mississippi valley state</td>\n",
       "      <td>1290</td>\n",
       "    </tr>\n",
       "  </tbody>\n",
       "</table>\n",
       "<p>367 rows × 11 columns</p>\n",
       "</div>"
      ],
      "text/plain": [
       "                       Team      Conf.  Current Elo                 Last  \\\n",
       "0                      Duke        ACC    2089.3030   +14 🟢@@13.77758789   \n",
       "1                   Houston     Big 12    2074.5520    +7 🟢@@6.890441895   \n",
       "2                    Auburn        SEC    2049.7070  -18 🟠@@-17.93383789   \n",
       "3                   Florida        SEC    2040.3190    +7 🟢@@6.597717285   \n",
       "4                   Alabama        SEC    2031.7640   +18 🟢@@17.93389893   \n",
       "..                      ...        ...          ...                  ...   \n",
       "362     Arkansas-Pine Bluff       SWAC    1055.6120   -7 🟠@@-6.626464844   \n",
       "363     Arkansas-Pine Bluff       SWAC    1055.6120   -7 🟠@@-6.626464844   \n",
       "364             New Orleans  Southland    1049.2200    -4 🟠@@-4.07635498   \n",
       "365        Prairie View A&M       SWAC    1027.2520   -8 🟠@@-8.157409668   \n",
       "366  Mississippi Valley St.       SWAC     848.9012   -1 🟠@@-1.481994629   \n",
       "\n",
       "     Season Min.  Season Max.  Home Court*               kaggle_name  \\\n",
       "0      1842.1330     2089.303     83.04591                      duke   \n",
       "1      1863.6680     2074.552     84.47469                   houston   \n",
       "2      1863.5830     2105.443     67.58400                    auburn   \n",
       "3      1799.1650     2040.319     62.82391                   florida   \n",
       "4      1903.5590     2086.004    100.50200                   alabama   \n",
       "..           ...          ...          ...                       ...   \n",
       "362     995.7072     1209.382     29.78964       arkansas-pine bluff   \n",
       "363     995.7072     1209.382     29.78964       arkansas-pine bluff   \n",
       "364    1049.2200     1218.143     47.22064               new orleans   \n",
       "365    1027.2520     1215.821     40.47441          prairie view a&m   \n",
       "366     848.9012     1061.589     59.57902  mississippi valley state   \n",
       "\n",
       "     fuzz_score          TeamNameSpelling  TeamID  \n",
       "0           100                      duke    1181  \n",
       "1           100                   houston    1222  \n",
       "2           100                    auburn    1120  \n",
       "3           100                   florida    1196  \n",
       "4           100                   alabama    1104  \n",
       "..          ...                       ...     ...  \n",
       "362         100       arkansas-pine bluff    1115  \n",
       "363         100       arkansas-pine bluff    1115  \n",
       "364         100               new orleans    1309  \n",
       "365         100          prairie view a&m    1341  \n",
       "366          93  mississippi valley state    1290  \n",
       "\n",
       "[367 rows x 11 columns]"
      ]
     },
     "execution_count": 108,
     "metadata": {},
     "output_type": "execute_result"
    }
   ],
   "source": [
    "# Merge the two to get the team_id\n",
    "merged = pd.merge(nate, MTeamSpellings, left_on='kaggle_name', right_on='TeamNameSpelling', how='left')\n",
    "# Double check the df looks good\n",
    "merged"
   ]
  },
  {
   "cell_type": "markdown",
   "metadata": {},
   "source": [
    "## sample submission\n",
    "Now let's do a simple submission based on just nates elo scores"
   ]
  },
  {
   "cell_type": "code",
   "execution_count": 112,
   "metadata": {},
   "outputs": [
    {
     "data": {
      "text/plain": [
       "0         1101\n",
       "1         1101\n",
       "2         1101\n",
       "3         1101\n",
       "4         1101\n",
       "          ... \n",
       "131402    3477\n",
       "131403    3477\n",
       "131404    3478\n",
       "131405    3478\n",
       "131406    3479\n",
       "Name: TeamID1, Length: 131407, dtype: int64"
      ]
     },
     "execution_count": 112,
     "metadata": {},
     "output_type": "execute_result"
    }
   ],
   "source": [
    "# We need to join Current Elo with the submissions table, and calculate the expected outcome\n",
    "submission_df['TeamID1']\n",
    "# merged.set_index('TeamID')['Current Elo']"
   ]
  },
  {
   "cell_type": "code",
   "execution_count": 129,
   "metadata": {},
   "outputs": [
    {
     "name": "stderr",
     "output_type": "stream",
     "text": [
      "/var/folders/xb/mmrwx40x1xl_0gj4ldtrzqq40000gn/T/ipykernel_44963/4174457450.py:9: FutureWarning: A value is trying to be set on a copy of a DataFrame or Series through chained assignment using an inplace method.\n",
      "The behavior will change in pandas 3.0. This inplace method will never work because the intermediate object on which we are setting values always behaves as a copy.\n",
      "\n",
      "For example, when doing 'df[col].method(value, inplace=True)', try using 'df.method({col: value}, inplace=True)' or df[col] = df[col].method(value) instead, to perform the operation inplace on the original object.\n",
      "\n",
      "\n",
      "  submission_df['TeamID1_Elo'].fillna(1500, inplace=True)\n",
      "/var/folders/xb/mmrwx40x1xl_0gj4ldtrzqq40000gn/T/ipykernel_44963/4174457450.py:10: FutureWarning: A value is trying to be set on a copy of a DataFrame or Series through chained assignment using an inplace method.\n",
      "The behavior will change in pandas 3.0. This inplace method will never work because the intermediate object on which we are setting values always behaves as a copy.\n",
      "\n",
      "For example, when doing 'df[col].method(value, inplace=True)', try using 'df.method({col: value}, inplace=True)' or df[col] = df[col].method(value) instead, to perform the operation inplace on the original object.\n",
      "\n",
      "\n",
      "  submission_df['TeamID2_Elo'].fillna(1500, inplace=True)\n"
     ]
    },
    {
     "data": {
      "application/vnd.microsoft.datawrangler.viewer.v0+json": {
       "columns": [
        {
         "name": "index",
         "rawType": "int64",
         "type": "integer"
        },
        {
         "name": "ID",
         "rawType": "object",
         "type": "string"
        },
        {
         "name": "Pred",
         "rawType": "float64",
         "type": "float"
        },
        {
         "name": "Season",
         "rawType": "int64",
         "type": "integer"
        },
        {
         "name": "TeamID1",
         "rawType": "int64",
         "type": "integer"
        },
        {
         "name": "TeamID2",
         "rawType": "int64",
         "type": "integer"
        },
        {
         "name": "TeamID1_Elo",
         "rawType": "float64",
         "type": "float"
        },
        {
         "name": "TeamID2_Elo",
         "rawType": "float64",
         "type": "float"
        }
       ],
       "conversionMethod": "pd.DataFrame",
       "ref": "76d26af9-1242-46b1-aa85-d495dd2f840d",
       "rows": [
        [
         "0",
         "2025_1101_1102",
         "0.5",
         "2025",
         "1101",
         "1102",
         "1482.911",
         "1267.39"
        ],
        [
         "1",
         "2025_1101_1103",
         "0.5",
         "2025",
         "1101",
         "1103",
         "1482.911",
         "1635.409"
        ],
        [
         "2",
         "2025_1101_1104",
         "0.5",
         "2025",
         "1101",
         "1104",
         "1482.911",
         "2031.764"
        ],
        [
         "3",
         "2025_1101_1105",
         "0.5",
         "2025",
         "1101",
         "1105",
         "1482.911",
         "1109.851"
        ],
        [
         "4",
         "2025_1101_1106",
         "0.5",
         "2025",
         "1101",
         "1106",
         "1482.911",
         "1321.198"
        ],
        [
         "5",
         "2025_1101_1107",
         "0.5",
         "2025",
         "1101",
         "1107",
         "1482.911",
         "1408.501"
        ],
        [
         "6",
         "2025_1101_1108",
         "0.5",
         "2025",
         "1101",
         "1108",
         "1482.911",
         "1242.015"
        ],
        [
         "7",
         "2025_1101_1110",
         "0.5",
         "2025",
         "1101",
         "1110",
         "1482.911",
         "1424.999"
        ],
        [
         "8",
         "2025_1101_1111",
         "0.5",
         "2025",
         "1101",
         "1111",
         "1482.911",
         "1481.66"
        ],
        [
         "9",
         "2025_1101_1112",
         "0.5",
         "2025",
         "1101",
         "1112",
         "1482.911",
         "1906.818"
        ],
        [
         "10",
         "2025_1101_1113",
         "0.5",
         "2025",
         "1101",
         "1113",
         "1482.911",
         "1630.91"
        ],
        [
         "11",
         "2025_1101_1114",
         "0.5",
         "2025",
         "1101",
         "1114",
         "1482.911",
         "1407.63"
        ],
        [
         "12",
         "2025_1101_1115",
         "0.5",
         "2025",
         "1101",
         "1115",
         "1482.911",
         "1055.612"
        ],
        [
         "13",
         "2025_1101_1116",
         "0.5",
         "2025",
         "1101",
         "1116",
         "1482.911",
         "1828.403"
        ],
        [
         "14",
         "2025_1101_1117",
         "0.5",
         "2025",
         "1101",
         "1117",
         "1482.911",
         "1651.972"
        ],
        [
         "15",
         "2025_1101_1119",
         "0.5",
         "2025",
         "1101",
         "1119",
         "1482.911",
         "1233.946"
        ],
        [
         "16",
         "2025_1101_1120",
         "0.5",
         "2025",
         "1101",
         "1120",
         "1482.911",
         "2049.707"
        ],
        [
         "17",
         "2025_1101_1122",
         "0.5",
         "2025",
         "1101",
         "1122",
         "1482.911",
         "1354.132"
        ],
        [
         "18",
         "2025_1101_1123",
         "0.5",
         "2025",
         "1101",
         "1123",
         "1482.911",
         "1314.705"
        ],
        [
         "19",
         "2025_1101_1124",
         "0.5",
         "2025",
         "1101",
         "1124",
         "1482.911",
         "1836.109"
        ],
        [
         "20",
         "2025_1101_1125",
         "0.5",
         "2025",
         "1101",
         "1125",
         "1482.911",
         "1619.116"
        ],
        [
         "21",
         "2025_1101_1126",
         "0.5",
         "2025",
         "1101",
         "1126",
         "1482.911",
         "1348.693"
        ],
        [
         "22",
         "2025_1101_1127",
         "0.5",
         "2025",
         "1101",
         "1127",
         "1482.911",
         "1333.316"
        ],
        [
         "23",
         "2025_1101_1129",
         "0.5",
         "2025",
         "1101",
         "1129",
         "1482.911",
         "1775.204"
        ],
        [
         "24",
         "2025_1101_1130",
         "0.5",
         "2025",
         "1101",
         "1130",
         "1482.911",
         "1457.757"
        ],
        [
         "25",
         "2025_1101_1131",
         "0.5",
         "2025",
         "1101",
         "1131",
         "1482.911",
         "1319.519"
        ],
        [
         "26",
         "2025_1101_1132",
         "0.5",
         "2025",
         "1101",
         "1132",
         "1482.911",
         "1323.917"
        ],
        [
         "27",
         "2025_1101_1133",
         "0.5",
         "2025",
         "1101",
         "1133",
         "1482.911",
         "1677.441"
        ],
        [
         "28",
         "2025_1101_1135",
         "0.5",
         "2025",
         "1101",
         "1135",
         "1482.911",
         "1503.968"
        ],
        [
         "29",
         "2025_1101_1136",
         "0.5",
         "2025",
         "1101",
         "1136",
         "1482.911",
         "1603.466"
        ],
        [
         "30",
         "2025_1101_1137",
         "0.5",
         "2025",
         "1101",
         "1137",
         "1482.911",
         "1452.411"
        ],
        [
         "31",
         "2025_1101_1138",
         "0.5",
         "2025",
         "1101",
         "1138",
         "1482.911",
         "1158.515"
        ],
        [
         "32",
         "2025_1101_1139",
         "0.5",
         "2025",
         "1101",
         "1139",
         "1482.911",
         "1615.228"
        ],
        [
         "33",
         "2025_1101_1140",
         "0.5",
         "2025",
         "1101",
         "1140",
         "1482.911",
         "1884.394"
        ],
        [
         "34",
         "2025_1101_1141",
         "0.5",
         "2025",
         "1101",
         "1141",
         "1482.911",
         "1398.79"
        ],
        [
         "35",
         "2025_1101_1142",
         "0.5",
         "2025",
         "1101",
         "1142",
         "1482.911",
         "1469.885"
        ],
        [
         "36",
         "2025_1101_1143",
         "0.5",
         "2025",
         "1101",
         "1143",
         "1482.911",
         "1527.685"
        ],
        [
         "37",
         "2025_1101_1144",
         "0.5",
         "2025",
         "1101",
         "1144",
         "1482.911",
         "1416.89"
        ],
        [
         "38",
         "2025_1101_1145",
         "0.5",
         "2025",
         "1101",
         "1145",
         "1482.911",
         "1138.506"
        ],
        [
         "39",
         "2025_1101_1146",
         "0.5",
         "2025",
         "1101",
         "1146",
         "1482.911",
         "1205.89"
        ],
        [
         "40",
         "2025_1101_1148",
         "0.5",
         "2025",
         "1101",
         "1148",
         "1482.911",
         "1548.754"
        ],
        [
         "41",
         "2025_1101_1149",
         "0.5",
         "2025",
         "1101",
         "1149",
         "1482.911",
         "1247.076"
        ],
        [
         "42",
         "2025_1101_1150",
         "0.5",
         "2025",
         "1101",
         "1150",
         "1482.911",
         "1350.009"
        ],
        [
         "43",
         "2025_1101_1151",
         "0.5",
         "2025",
         "1101",
         "1151",
         "1482.911",
         "1684.482"
        ],
        [
         "44",
         "2025_1101_1152",
         "0.5",
         "2025",
         "1101",
         "1152",
         "1482.911",
         "1082.902"
        ],
        [
         "45",
         "2025_1101_1153",
         "0.5",
         "2025",
         "1101",
         "1153",
         "1482.911",
         "1685.248"
        ],
        [
         "46",
         "2025_1101_1154",
         "0.5",
         "2025",
         "1101",
         "1154",
         "1482.911",
         "1131.723"
        ],
        [
         "47",
         "2025_1101_1155",
         "0.5",
         "2025",
         "1101",
         "1155",
         "1482.911",
         "1916.291"
        ],
        [
         "48",
         "2025_1101_1156",
         "0.5",
         "2025",
         "1101",
         "1156",
         "1482.911",
         "1522.788"
        ],
        [
         "49",
         "2025_1101_1157",
         "0.5",
         "2025",
         "1101",
         "1157",
         "1482.911",
         "1221.812"
        ]
       ],
       "shape": {
        "columns": 7,
        "rows": 131407
       }
      },
      "text/html": [
       "<div>\n",
       "<style scoped>\n",
       "    .dataframe tbody tr th:only-of-type {\n",
       "        vertical-align: middle;\n",
       "    }\n",
       "\n",
       "    .dataframe tbody tr th {\n",
       "        vertical-align: top;\n",
       "    }\n",
       "\n",
       "    .dataframe thead th {\n",
       "        text-align: right;\n",
       "    }\n",
       "</style>\n",
       "<table border=\"1\" class=\"dataframe\">\n",
       "  <thead>\n",
       "    <tr style=\"text-align: right;\">\n",
       "      <th></th>\n",
       "      <th>ID</th>\n",
       "      <th>Pred</th>\n",
       "      <th>Season</th>\n",
       "      <th>TeamID1</th>\n",
       "      <th>TeamID2</th>\n",
       "      <th>TeamID1_Elo</th>\n",
       "      <th>TeamID2_Elo</th>\n",
       "    </tr>\n",
       "  </thead>\n",
       "  <tbody>\n",
       "    <tr>\n",
       "      <th>0</th>\n",
       "      <td>2025_1101_1102</td>\n",
       "      <td>0.5</td>\n",
       "      <td>2025</td>\n",
       "      <td>1101</td>\n",
       "      <td>1102</td>\n",
       "      <td>1482.911</td>\n",
       "      <td>1267.390</td>\n",
       "    </tr>\n",
       "    <tr>\n",
       "      <th>1</th>\n",
       "      <td>2025_1101_1103</td>\n",
       "      <td>0.5</td>\n",
       "      <td>2025</td>\n",
       "      <td>1101</td>\n",
       "      <td>1103</td>\n",
       "      <td>1482.911</td>\n",
       "      <td>1635.409</td>\n",
       "    </tr>\n",
       "    <tr>\n",
       "      <th>2</th>\n",
       "      <td>2025_1101_1104</td>\n",
       "      <td>0.5</td>\n",
       "      <td>2025</td>\n",
       "      <td>1101</td>\n",
       "      <td>1104</td>\n",
       "      <td>1482.911</td>\n",
       "      <td>2031.764</td>\n",
       "    </tr>\n",
       "    <tr>\n",
       "      <th>3</th>\n",
       "      <td>2025_1101_1105</td>\n",
       "      <td>0.5</td>\n",
       "      <td>2025</td>\n",
       "      <td>1101</td>\n",
       "      <td>1105</td>\n",
       "      <td>1482.911</td>\n",
       "      <td>1109.851</td>\n",
       "    </tr>\n",
       "    <tr>\n",
       "      <th>4</th>\n",
       "      <td>2025_1101_1106</td>\n",
       "      <td>0.5</td>\n",
       "      <td>2025</td>\n",
       "      <td>1101</td>\n",
       "      <td>1106</td>\n",
       "      <td>1482.911</td>\n",
       "      <td>1321.198</td>\n",
       "    </tr>\n",
       "    <tr>\n",
       "      <th>...</th>\n",
       "      <td>...</td>\n",
       "      <td>...</td>\n",
       "      <td>...</td>\n",
       "      <td>...</td>\n",
       "      <td>...</td>\n",
       "      <td>...</td>\n",
       "      <td>...</td>\n",
       "    </tr>\n",
       "    <tr>\n",
       "      <th>131402</th>\n",
       "      <td>2025_3477_3479</td>\n",
       "      <td>0.5</td>\n",
       "      <td>2025</td>\n",
       "      <td>3477</td>\n",
       "      <td>3479</td>\n",
       "      <td>1500.000</td>\n",
       "      <td>1500.000</td>\n",
       "    </tr>\n",
       "    <tr>\n",
       "      <th>131403</th>\n",
       "      <td>2025_3477_3480</td>\n",
       "      <td>0.5</td>\n",
       "      <td>2025</td>\n",
       "      <td>3477</td>\n",
       "      <td>3480</td>\n",
       "      <td>1500.000</td>\n",
       "      <td>1500.000</td>\n",
       "    </tr>\n",
       "    <tr>\n",
       "      <th>131404</th>\n",
       "      <td>2025_3478_3479</td>\n",
       "      <td>0.5</td>\n",
       "      <td>2025</td>\n",
       "      <td>3478</td>\n",
       "      <td>3479</td>\n",
       "      <td>1500.000</td>\n",
       "      <td>1500.000</td>\n",
       "    </tr>\n",
       "    <tr>\n",
       "      <th>131405</th>\n",
       "      <td>2025_3478_3480</td>\n",
       "      <td>0.5</td>\n",
       "      <td>2025</td>\n",
       "      <td>3478</td>\n",
       "      <td>3480</td>\n",
       "      <td>1500.000</td>\n",
       "      <td>1500.000</td>\n",
       "    </tr>\n",
       "    <tr>\n",
       "      <th>131406</th>\n",
       "      <td>2025_3479_3480</td>\n",
       "      <td>0.5</td>\n",
       "      <td>2025</td>\n",
       "      <td>3479</td>\n",
       "      <td>3480</td>\n",
       "      <td>1500.000</td>\n",
       "      <td>1500.000</td>\n",
       "    </tr>\n",
       "  </tbody>\n",
       "</table>\n",
       "<p>131407 rows × 7 columns</p>\n",
       "</div>"
      ],
      "text/plain": [
       "                    ID  Pred  Season  TeamID1  TeamID2  TeamID1_Elo  \\\n",
       "0       2025_1101_1102   0.5    2025     1101     1102     1482.911   \n",
       "1       2025_1101_1103   0.5    2025     1101     1103     1482.911   \n",
       "2       2025_1101_1104   0.5    2025     1101     1104     1482.911   \n",
       "3       2025_1101_1105   0.5    2025     1101     1105     1482.911   \n",
       "4       2025_1101_1106   0.5    2025     1101     1106     1482.911   \n",
       "...                ...   ...     ...      ...      ...          ...   \n",
       "131402  2025_3477_3479   0.5    2025     3477     3479     1500.000   \n",
       "131403  2025_3477_3480   0.5    2025     3477     3480     1500.000   \n",
       "131404  2025_3478_3479   0.5    2025     3478     3479     1500.000   \n",
       "131405  2025_3478_3480   0.5    2025     3478     3480     1500.000   \n",
       "131406  2025_3479_3480   0.5    2025     3479     3480     1500.000   \n",
       "\n",
       "        TeamID2_Elo  \n",
       "0          1267.390  \n",
       "1          1635.409  \n",
       "2          2031.764  \n",
       "3          1109.851  \n",
       "4          1321.198  \n",
       "...             ...  \n",
       "131402     1500.000  \n",
       "131403     1500.000  \n",
       "131404     1500.000  \n",
       "131405     1500.000  \n",
       "131406     1500.000  \n",
       "\n",
       "[131407 rows x 7 columns]"
      ]
     },
     "execution_count": 129,
     "metadata": {},
     "output_type": "execute_result"
    }
   ],
   "source": [
    "# Create a dictionary for quick lookup of ELO ratings by TeamID\n",
    "elo_dict = merged.set_index('TeamID')['Current Elo'].to_dict()\n",
    "\n",
    "# Map the ELO ratings to the TeamID1 column in the submission_df\n",
    "submission_df['TeamID1_Elo'] = submission_df['TeamID1'].map(elo_dict)\n",
    "submission_df['TeamID2_Elo'] = submission_df['TeamID2'].map(elo_dict)\n",
    "\n",
    "# Fill missing values with 1500 - these are mostly womens teams that are not in the dataset yet\n",
    "submission_df['TeamID1_Elo'].fillna(1500, inplace=True)\n",
    "submission_df['TeamID2_Elo'].fillna(1500, inplace=True)\n",
    "\n",
    "# Check the result\n",
    "submission_df\n"
   ]
  },
  {
   "cell_type": "code",
   "execution_count": 147,
   "metadata": {},
   "outputs": [],
   "source": [
    "# This should be replaced with goto conversion thing\n",
    "def calc_elo_win(A, B):\n",
    "    awin = 1 / (1 + 10**( (B - A) / 400))\n",
    "    return(awin)\n",
    "submission_df['Team1_win_prob'] = submission_df.apply(lambda x: calc_elo_win(x['TeamID1_Elo'], x['TeamID2_Elo']), axis=1)"
   ]
  },
  {
   "cell_type": "code",
   "execution_count": 148,
   "metadata": {},
   "outputs": [],
   "source": [
    "finalsub = submission_df[['ID', 'Team1_win_prob']]"
   ]
  },
  {
   "cell_type": "code",
   "execution_count": 149,
   "metadata": {},
   "outputs": [
    {
     "data": {
      "application/vnd.microsoft.datawrangler.viewer.v0+json": {
       "columns": [
        {
         "name": "index",
         "rawType": "int64",
         "type": "integer"
        },
        {
         "name": "ID",
         "rawType": "object",
         "type": "string"
        },
        {
         "name": "Team1_win_prob",
         "rawType": "float64",
         "type": "float"
        }
       ],
       "conversionMethod": "pd.DataFrame",
       "ref": "24c3e577-d7bf-4e3d-bc53-5b6e2eab6085",
       "rows": [
        [
         "0",
         "2025_1101_1102",
         "0.7756751530757202"
        ],
        [
         "1",
         "2025_1101_1103",
         "0.29362370601458165"
        ],
        [
         "2",
         "2025_1101_1104",
         "0.040720460570056585"
        ],
        [
         "3",
         "2025_1101_1105",
         "0.8954354907076304"
        ],
        [
         "4",
         "2025_1101_1106",
         "0.7172567974812066"
        ],
        [
         "5",
         "2025_1101_1107",
         "0.6054768220438738"
        ],
        [
         "6",
         "2025_1101_1108",
         "0.8000663093993444"
        ],
        [
         "7",
         "2025_1101_1110",
         "0.5825787023544347"
        ],
        [
         "8",
         "2025_1101_1111",
         "0.5018003259392992"
        ],
        [
         "9",
         "2025_1101_1112",
         "0.0801578069458036"
        ],
        [
         "10",
         "2025_1101_1113",
         "0.2990238079924191"
        ],
        [
         "11",
         "2025_1101_1114",
         "0.606673875027781"
        ],
        [
         "12",
         "2025_1101_1115",
         "0.9212701373328647"
        ],
        [
         "13",
         "2025_1101_1116",
         "0.12038262262603845"
        ],
        [
         "14",
         "2025_1101_1117",
         "0.2742444583952218"
        ],
        [
         "15",
         "2025_1101_1119",
         "0.8073928521221609"
        ],
        [
         "16",
         "2025_1101_1120",
         "0.0368717803415372"
        ],
        [
         "17",
         "2025_1101_1122",
         "0.6772825816903976"
        ],
        [
         "18",
         "2025_1101_1123",
         "0.7247748510863428"
        ],
        [
         "19",
         "2025_1101_1124",
         "0.11576392170986369"
        ],
        [
         "20",
         "2025_1101_1125",
         "0.3134457372594176"
        ],
        [
         "21",
         "2025_1101_1126",
         "0.6840875773940159"
        ],
        [
         "22",
         "2025_1101_1127",
         "0.7028983691799092"
        ],
        [
         "23",
         "2025_1101_1129",
         "0.15675496114978033"
        ],
        [
         "24",
         "2025_1101_1130",
         "0.536136400188213"
        ],
        [
         "25",
         "2025_1101_1131",
         "0.7192127526036179"
        ],
        [
         "26",
         "2025_1101_1132",
         "0.7140718507435148"
        ],
        [
         "27",
         "2025_1101_1133",
         "0.24604751235518255"
        ],
        [
         "28",
         "2025_1101_1135",
         "0.4697335901659011"
        ],
        [
         "29",
         "2025_1101_1136",
         "0.3331504286255277"
        ],
        [
         "30",
         "2025_1101_1137",
         "0.5437806225293383"
        ],
        [
         "31",
         "2025_1101_1138",
         "0.8661540751276403"
        ],
        [
         "32",
         "2025_1101_1139",
         "0.31828209133883256"
        ],
        [
         "33",
         "2025_1101_1140",
         "0.09020602702762563"
        ],
        [
         "34",
         "2025_1101_1141",
         "0.61874844673923"
        ],
        [
         "35",
         "2025_1101_1142",
         "0.5187371424965049"
        ],
        [
         "36",
         "2025_1101_1143",
         "0.43591938102445543"
        ],
        [
         "37",
         "2025_1101_1144",
         "0.5938845414725503"
        ],
        [
         "38",
         "2025_1101_1145",
         "0.8789532150135314"
        ],
        [
         "39",
         "2025_1101_1146",
         "0.8312708717145676"
        ],
        [
         "40",
         "2025_1101_1148",
         "0.4063626132903926"
        ],
        [
         "41",
         "2025_1101_1149",
         "0.7953653522290589"
        ],
        [
         "42",
         "2025_1101_1150",
         "0.6824481432129323"
        ],
        [
         "43",
         "2025_1101_1151",
         "0.23860624675046443"
        ],
        [
         "44",
         "2025_1101_1152",
         "0.9090951906666587"
        ],
        [
         "45",
         "2025_1101_1153",
         "0.23780609086844043"
        ],
        [
         "46",
         "2025_1101_1154",
         "0.8830464166979166"
        ],
        [
         "47",
         "2025_1101_1155",
         "0.07622804363590405"
        ],
        [
         "48",
         "2025_1101_1156",
         "0.4428630588874484"
        ],
        [
         "49",
         "2025_1101_1157",
         "0.8180224812007031"
        ]
       ],
       "shape": {
        "columns": 2,
        "rows": 131407
       }
      },
      "text/html": [
       "<div>\n",
       "<style scoped>\n",
       "    .dataframe tbody tr th:only-of-type {\n",
       "        vertical-align: middle;\n",
       "    }\n",
       "\n",
       "    .dataframe tbody tr th {\n",
       "        vertical-align: top;\n",
       "    }\n",
       "\n",
       "    .dataframe thead th {\n",
       "        text-align: right;\n",
       "    }\n",
       "</style>\n",
       "<table border=\"1\" class=\"dataframe\">\n",
       "  <thead>\n",
       "    <tr style=\"text-align: right;\">\n",
       "      <th></th>\n",
       "      <th>ID</th>\n",
       "      <th>Team1_win_prob</th>\n",
       "    </tr>\n",
       "  </thead>\n",
       "  <tbody>\n",
       "    <tr>\n",
       "      <th>0</th>\n",
       "      <td>2025_1101_1102</td>\n",
       "      <td>0.775675</td>\n",
       "    </tr>\n",
       "    <tr>\n",
       "      <th>1</th>\n",
       "      <td>2025_1101_1103</td>\n",
       "      <td>0.293624</td>\n",
       "    </tr>\n",
       "    <tr>\n",
       "      <th>2</th>\n",
       "      <td>2025_1101_1104</td>\n",
       "      <td>0.040720</td>\n",
       "    </tr>\n",
       "    <tr>\n",
       "      <th>3</th>\n",
       "      <td>2025_1101_1105</td>\n",
       "      <td>0.895435</td>\n",
       "    </tr>\n",
       "    <tr>\n",
       "      <th>4</th>\n",
       "      <td>2025_1101_1106</td>\n",
       "      <td>0.717257</td>\n",
       "    </tr>\n",
       "    <tr>\n",
       "      <th>...</th>\n",
       "      <td>...</td>\n",
       "      <td>...</td>\n",
       "    </tr>\n",
       "    <tr>\n",
       "      <th>131402</th>\n",
       "      <td>2025_3477_3479</td>\n",
       "      <td>0.500000</td>\n",
       "    </tr>\n",
       "    <tr>\n",
       "      <th>131403</th>\n",
       "      <td>2025_3477_3480</td>\n",
       "      <td>0.500000</td>\n",
       "    </tr>\n",
       "    <tr>\n",
       "      <th>131404</th>\n",
       "      <td>2025_3478_3479</td>\n",
       "      <td>0.500000</td>\n",
       "    </tr>\n",
       "    <tr>\n",
       "      <th>131405</th>\n",
       "      <td>2025_3478_3480</td>\n",
       "      <td>0.500000</td>\n",
       "    </tr>\n",
       "    <tr>\n",
       "      <th>131406</th>\n",
       "      <td>2025_3479_3480</td>\n",
       "      <td>0.500000</td>\n",
       "    </tr>\n",
       "  </tbody>\n",
       "</table>\n",
       "<p>131407 rows × 2 columns</p>\n",
       "</div>"
      ],
      "text/plain": [
       "                    ID  Team1_win_prob\n",
       "0       2025_1101_1102        0.775675\n",
       "1       2025_1101_1103        0.293624\n",
       "2       2025_1101_1104        0.040720\n",
       "3       2025_1101_1105        0.895435\n",
       "4       2025_1101_1106        0.717257\n",
       "...                ...             ...\n",
       "131402  2025_3477_3479        0.500000\n",
       "131403  2025_3477_3480        0.500000\n",
       "131404  2025_3478_3479        0.500000\n",
       "131405  2025_3478_3480        0.500000\n",
       "131406  2025_3479_3480        0.500000\n",
       "\n",
       "[131407 rows x 2 columns]"
      ]
     },
     "execution_count": 149,
     "metadata": {},
     "output_type": "execute_result"
    }
   ],
   "source": [
    "finalsub"
   ]
  }
 ],
 "metadata": {
  "kernelspec": {
   "display_name": "ballenvy",
   "language": "python",
   "name": "python3"
  },
  "language_info": {
   "codemirror_mode": {
    "name": "ipython",
    "version": 3
   },
   "file_extension": ".py",
   "mimetype": "text/x-python",
   "name": "python",
   "nbconvert_exporter": "python",
   "pygments_lexer": "ipython3",
   "version": "3.11.11"
  }
 },
 "nbformat": 4,
 "nbformat_minor": 2
}
