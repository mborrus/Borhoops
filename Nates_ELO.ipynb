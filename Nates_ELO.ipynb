{
 "cells": [
  {
   "cell_type": "markdown",
   "metadata": {},
   "source": [
    "# Nate Silver Elo Predicitons\n",
    "\n",
    "Use's Nate Silver's elo values and predicts off that, no input of my own.\n",
    "\n",
    "Predictions to act as a benchmark."
   ]
  },
  {
   "cell_type": "code",
   "execution_count": 7,
   "metadata": {},
   "outputs": [],
   "source": [
    "import pandas as pd\n",
    "import yaml\n",
    "import duckdb as db\n",
    "import warnings\n",
    "from fuzzywuzzy import process\n",
    "warnings.filterwarnings('ignore')\n",
    "\n",
    "with open('config.yaml', 'r') as file:\n",
    "    config_file = yaml.safe_load(file)\n",
    "data_dir = config_file.get(\"data_dir\")\n",
    "output_dir = config_file.get(\"output_dir\")"
   ]
  },
  {
   "cell_type": "code",
   "execution_count": 5,
   "metadata": {},
   "outputs": [],
   "source": [
    "submission_df = pd.read_csv(f'{data_dir}/Kaggle/SampleSubmissionStage2.csv')\n",
    "\n",
    "def extract_game_info(id_str):\n",
    "    # Extract year and team_ids\n",
    "    parts = id_str.split('_')\n",
    "    year = int(parts[0])\n",
    "    teamID1 = int(parts[1])\n",
    "    teamID2 = int(parts[2])\n",
    "    return year, teamID1, teamID2\n",
    "\n",
    "submission_df[['Season', 'TeamID1', 'TeamID2']] = submission_df['ID'].apply(extract_game_info).tolist()"
   ]
  },
  {
   "cell_type": "code",
   "execution_count": 8,
   "metadata": {},
   "outputs": [],
   "source": [
    "nate_men = pd.read_csv(f'{data_dir}/Nate/Mens.csv', index_col=0)\n",
    "nate_women = pd.read_csv(f'{data_dir}/Nate/Womens.csv', index_col=0)\n",
    "\n",
    "MTeamSpellings = pd.read_csv(f\"{data_dir}/Kaggle/MTeamSpellings.csv\")\n",
    "WTeamSpellings = pd.read_csv(f\"{data_dir}/Kaggle/WTeamSpellings.csv\")"
   ]
  },
  {
   "cell_type": "code",
   "execution_count": 9,
   "metadata": {},
   "outputs": [],
   "source": [
    "def name_match(nate_df, names_df):\n",
    "    ''' input should be nate's df and the path to ncaa name choices'''\n",
    "    choices = list(names_df[\"TeamNameSpelling\"])\n",
    "    nate_df['kaggle_name'] = nate_df['Team'].apply(lambda x: process.extractOne(x, choices)[0])\n",
    "    nate_df['fuzz_score'] = nate_df['Team'].apply(lambda x: process.extractOne(x, choices)[1])\n",
    "    return nate_df"
   ]
  },
  {
   "cell_type": "code",
   "execution_count": 13,
   "metadata": {},
   "outputs": [
    {
     "data": {
      "application/vnd.microsoft.datawrangler.viewer.v0+json": {
       "columns": [
        {
         "name": "index",
         "rawType": "int64",
         "type": "integer"
        },
        {
         "name": "kaggle_name",
         "rawType": "object",
         "type": "string"
        },
        {
         "name": "Team",
         "rawType": "object",
         "type": "string"
        },
        {
         "name": "fuzz_score",
         "rawType": "int64",
         "type": "integer"
        }
       ],
       "conversionMethod": "pd.DataFrame",
       "ref": "f27c5b2f-1d57-47e9-8267-bb63450a7b7a",
       "rows": [
        [
         "300",
         "texas rio grande valley",
         "UT Rio Grande Valley",
         "88"
        ],
        [
         "211",
         "umass",
         "UMass (Amherst)",
         "90"
        ],
        [
         "167",
         "uni",
         "Miami University (OH)",
         "90"
        ],
        [
         "215",
         "queens (nc)",
         "Queens",
         "90"
        ],
        [
         "364",
         "mississippi valley state",
         "Mississippi Valley St.",
         "93"
        ],
        [
         "208",
         "southeast missouri state",
         "Southeast Missouri St.",
         "93"
        ],
        [
         "297",
         "saint francis (ny)",
         "Saint Francis",
         "95"
        ],
        [
         "216",
         "mount st. mary's",
         "Mount St. Mary's (MD)",
         "95"
        ],
        [
         "242",
         "miami (fl)",
         "U Miami (FL)",
         "95"
        ],
        [
         "303",
         "louisiana-lafayette",
         "Louisiana (Lafayette)",
         "97"
        ],
        [
         "356",
         "md. eastern shore",
         "MD Eastern Shore",
         "97"
        ],
        [
         "241",
         "georgia southern",
         "Georgia Southern",
         "100"
        ],
        [
         "239",
         "northwestern st.",
         "Northwestern St.",
         "100"
        ],
        [
         "238",
         "william & mary",
         "William & Mary",
         "100"
        ],
        [
         "237",
         "little rock",
         "Little Rock",
         "100"
        ],
        [
         "236",
         "albany",
         "Albany",
         "100"
        ],
        [
         "243",
         "uc davis",
         "UC Davis",
         "100"
        ],
        [
         "235",
         "presbyterian",
         "Presbyterian",
         "100"
        ],
        [
         "244",
         "central michigan",
         "Central Michigan",
         "100"
        ],
        [
         "234",
         "richmond",
         "Richmond",
         "100"
        ],
        [
         "245",
         "tarleton st",
         "Tarleton St.",
         "100"
        ],
        [
         "233",
         "evansville",
         "Evansville",
         "100"
        ],
        [
         "240",
         "georgia st",
         "Georgia St.",
         "100"
        ],
        [
         "246",
         "south dakota",
         "South Dakota",
         "100"
        ],
        [
         "248",
         "hawaii",
         "Hawaii",
         "100"
        ],
        [
         "232",
         "portland",
         "Portland",
         "100"
        ],
        [
         "268",
         "austin peay",
         "Austin Peay",
         "100"
        ],
        [
         "267",
         "texas southern",
         "Texas Southern",
         "100"
        ],
        [
         "266",
         "penn",
         "Penn",
         "100"
        ],
        [
         "265",
         "fordham",
         "Fordham",
         "100"
        ],
        [
         "264",
         "fiu",
         "FIU",
         "100"
        ],
        [
         "263",
         "old dominion",
         "Old Dominion",
         "100"
        ],
        [
         "262",
         "toledo",
         "Toledo",
         "100"
        ],
        [
         "261",
         "se louisiana",
         "SE Louisiana",
         "100"
        ],
        [
         "260",
         "jackson st",
         "Jackson St.",
         "100"
        ],
        [
         "247",
         "la salle",
         "La Salle",
         "100"
        ],
        [
         "259",
         "wright st",
         "Wright St.",
         "100"
        ],
        [
         "257",
         "tulsa",
         "Tulsa",
         "100"
        ],
        [
         "256",
         "eastern michigan",
         "Eastern Michigan",
         "100"
        ],
        [
         "255",
         "seton hall",
         "Seton Hall",
         "100"
        ],
        [
         "254",
         "longwood",
         "Longwood",
         "100"
        ],
        [
         "253",
         "idaho",
         "Idaho",
         "100"
        ],
        [
         "252",
         "cal state bakersfield",
         "Cal State Bakersfield",
         "100"
        ],
        [
         "251",
         "tennessee st",
         "Tennessee St.",
         "100"
        ],
        [
         "250",
         "marist",
         "Marist",
         "100"
        ],
        [
         "249",
         "sacred heart",
         "Sacred Heart",
         "100"
        ],
        [
         "258",
         "siena",
         "Siena",
         "100"
        ],
        [
         "231",
         "hofstra",
         "Hofstra",
         "100"
        ],
        [
         "227",
         "campbell",
         "Campbell",
         "100"
        ],
        [
         "229",
         "rice",
         "Rice",
         "100"
        ]
       ],
       "shape": {
        "columns": 3,
        "rows": 364
       }
      },
      "text/html": [
       "<div>\n",
       "<style scoped>\n",
       "    .dataframe tbody tr th:only-of-type {\n",
       "        vertical-align: middle;\n",
       "    }\n",
       "\n",
       "    .dataframe tbody tr th {\n",
       "        vertical-align: top;\n",
       "    }\n",
       "\n",
       "    .dataframe thead th {\n",
       "        text-align: right;\n",
       "    }\n",
       "</style>\n",
       "<table border=\"1\" class=\"dataframe\">\n",
       "  <thead>\n",
       "    <tr style=\"text-align: right;\">\n",
       "      <th></th>\n",
       "      <th>kaggle_name</th>\n",
       "      <th>Team</th>\n",
       "      <th>fuzz_score</th>\n",
       "    </tr>\n",
       "  </thead>\n",
       "  <tbody>\n",
       "    <tr>\n",
       "      <th>300</th>\n",
       "      <td>texas rio grande valley</td>\n",
       "      <td>UT Rio Grande Valley</td>\n",
       "      <td>88</td>\n",
       "    </tr>\n",
       "    <tr>\n",
       "      <th>211</th>\n",
       "      <td>umass</td>\n",
       "      <td>UMass (Amherst)</td>\n",
       "      <td>90</td>\n",
       "    </tr>\n",
       "    <tr>\n",
       "      <th>167</th>\n",
       "      <td>uni</td>\n",
       "      <td>Miami University (OH)</td>\n",
       "      <td>90</td>\n",
       "    </tr>\n",
       "    <tr>\n",
       "      <th>215</th>\n",
       "      <td>queens (nc)</td>\n",
       "      <td>Queens</td>\n",
       "      <td>90</td>\n",
       "    </tr>\n",
       "    <tr>\n",
       "      <th>364</th>\n",
       "      <td>mississippi valley state</td>\n",
       "      <td>Mississippi Valley St.</td>\n",
       "      <td>93</td>\n",
       "    </tr>\n",
       "    <tr>\n",
       "      <th>...</th>\n",
       "      <td>...</td>\n",
       "      <td>...</td>\n",
       "      <td>...</td>\n",
       "    </tr>\n",
       "    <tr>\n",
       "      <th>118</th>\n",
       "      <td>middle tennessee</td>\n",
       "      <td>Middle Tennessee</td>\n",
       "      <td>100</td>\n",
       "    </tr>\n",
       "    <tr>\n",
       "      <th>117</th>\n",
       "      <td>tcu</td>\n",
       "      <td>TCU</td>\n",
       "      <td>100</td>\n",
       "    </tr>\n",
       "    <tr>\n",
       "      <th>116</th>\n",
       "      <td>uab</td>\n",
       "      <td>UAB</td>\n",
       "      <td>100</td>\n",
       "    </tr>\n",
       "    <tr>\n",
       "      <th>114</th>\n",
       "      <td>furman</td>\n",
       "      <td>Furman</td>\n",
       "      <td>100</td>\n",
       "    </tr>\n",
       "    <tr>\n",
       "      <th>182</th>\n",
       "      <td>maine</td>\n",
       "      <td>Maine</td>\n",
       "      <td>100</td>\n",
       "    </tr>\n",
       "  </tbody>\n",
       "</table>\n",
       "<p>364 rows × 3 columns</p>\n",
       "</div>"
      ],
      "text/plain": [
       "                  kaggle_name                    Team  fuzz_score\n",
       "300   texas rio grande valley    UT Rio Grande Valley          88\n",
       "211                     umass         UMass (Amherst)          90\n",
       "167                       uni   Miami University (OH)          90\n",
       "215               queens (nc)                  Queens          90\n",
       "364  mississippi valley state  Mississippi Valley St.          93\n",
       "..                        ...                     ...         ...\n",
       "118          middle tennessee        Middle Tennessee         100\n",
       "117                       tcu                     TCU         100\n",
       "116                       uab                     UAB         100\n",
       "114                    furman                  Furman         100\n",
       "182                     maine                   Maine         100\n",
       "\n",
       "[364 rows x 3 columns]"
      ]
     },
     "metadata": {},
     "output_type": "display_data"
    }
   ],
   "source": [
    "nate_men = name_match(nate_men, MTeamSpellings)\n",
    "# check for erroneous matches by going worst to best\n",
    "display(nate_men[['kaggle_name','Team','fuzz_score']].sort_values(by='fuzz_score', ascending=True))\n",
    "# In my case, the only errors were that Miami University (OH), which got matches with 'uni'\n",
    "# and saint francis in the nate elo is for PA, but it matches to ny\n",
    "nate_men.loc[nate_men['kaggle_name'] == 'uni', 'kaggle_name'] = 'miami (oh)'\n",
    "nate_men.loc[nate_men['kaggle_name'] == 'saint francis (ny)', 'kaggle_name'] = 'saint francis (pa)'"
   ]
  },
  {
   "cell_type": "code",
   "execution_count": 10,
   "metadata": {},
   "outputs": [
    {
     "data": {
      "application/vnd.microsoft.datawrangler.viewer.v0+json": {
       "columns": [
        {
         "name": "index",
         "rawType": "int64",
         "type": "integer"
        },
        {
         "name": "kaggle_name",
         "rawType": "object",
         "type": "string"
        },
        {
         "name": "Team",
         "rawType": "object",
         "type": "string"
        },
        {
         "name": "fuzz_score",
         "rawType": "int64",
         "type": "integer"
        }
       ],
       "conversionMethod": "pd.DataFrame",
       "ref": "626f8aaa-e6ab-48a3-8e2e-8fa3e03b2d83",
       "rows": [
        [
         "267",
         "texas rio grande valley",
         "UT Rio Grande Valley",
         "88"
        ],
        [
         "154",
         "uni",
         "Miami University (OH)",
         "90"
        ],
        [
         "153",
         "umass",
         "UMass (Amherst)",
         "90"
        ],
        [
         "317",
         "queens (nc)",
         "Queens",
         "90"
        ],
        [
         "334",
         "southeast missouri state",
         "Southeast Missouri St.",
         "93"
        ],
        [
         "340",
         "mississippi valley state",
         "Mississippi Valley St.",
         "93"
        ],
        [
         "90",
         "miami (fl)",
         "U Miami (FL)",
         "95"
        ],
        [
         "188",
         "mount st. mary's",
         "Mount St. Mary's (MD)",
         "95"
        ],
        [
         "190",
         "louisiana-lafayette",
         "Louisiana (Lafayette)",
         "97"
        ],
        [
         "256",
         "md. eastern shore",
         "MD Eastern Shore",
         "97"
        ],
        [
         "244",
         "xavier",
         "Xavier",
         "100"
        ],
        [
         "243",
         "sam houston",
         "Sam Houston",
         "100"
        ],
        [
         "242",
         "cal poly",
         "Cal Poly",
         "100"
        ],
        [
         "241",
         "western illinois",
         "Western Illinois",
         "100"
        ],
        [
         "240",
         "coppin st",
         "Coppin St.",
         "100"
        ],
        [
         "239",
         "elon",
         "Elon",
         "100"
        ],
        [
         "1",
         "uconn",
         "UConn",
         "100"
        ],
        [
         "245",
         "california baptist",
         "California Baptist",
         "100"
        ],
        [
         "236",
         "appalachian st",
         "Appalachian St.",
         "100"
        ],
        [
         "235",
         "florida atlantic",
         "Florida Atlantic",
         "100"
        ],
        [
         "234",
         "texas st",
         "Texas St.",
         "100"
        ],
        [
         "233",
         "north dakota",
         "North Dakota",
         "100"
        ],
        [
         "232",
         "bradley",
         "Bradley",
         "100"
        ],
        [
         "231",
         "western michigan",
         "Western Michigan",
         "100"
        ],
        [
         "230",
         "bryant",
         "Bryant",
         "100"
        ],
        [
         "238",
         "towson",
         "Towson",
         "100"
        ],
        [
         "237",
         "kansas city",
         "Kansas City",
         "100"
        ],
        [
         "248",
         "austin peay",
         "Austin Peay",
         "100"
        ],
        [
         "247",
         "nevada",
         "Nevada",
         "100"
        ],
        [
         "266",
         "njit",
         "NJIT",
         "100"
        ],
        [
         "265",
         "cornell",
         "Cornell",
         "100"
        ],
        [
         "264",
         "hofstra",
         "Hofstra",
         "100"
        ],
        [
         "263",
         "stony brook",
         "Stony Brook",
         "100"
        ],
        [
         "262",
         "detroit mercy",
         "Detroit Mercy",
         "100"
        ],
        [
         "261",
         "samford",
         "Samford",
         "100"
        ],
        [
         "260",
         "northwestern st.",
         "Northwestern St.",
         "100"
        ],
        [
         "259",
         "southern miss",
         "Southern Miss",
         "100"
        ],
        [
         "246",
         "jacksonville",
         "Jacksonville",
         "100"
        ],
        [
         "258",
         "william & mary",
         "William & Mary",
         "100"
        ],
        [
         "255",
         "merrimack",
         "Merrimack",
         "100"
        ],
        [
         "254",
         "fiu",
         "FIU",
         "100"
        ],
        [
         "253",
         "marist",
         "Marist",
         "100"
        ],
        [
         "252",
         "little rock",
         "Little Rock",
         "100"
        ],
        [
         "251",
         "stetson",
         "Stetson",
         "100"
        ],
        [
         "250",
         "longwood",
         "Longwood",
         "100"
        ],
        [
         "249",
         "northern kentucky",
         "Northern Kentucky",
         "100"
        ],
        [
         "229",
         "valparaiso",
         "Valparaiso",
         "100"
        ],
        [
         "257",
         "boston university",
         "Boston University",
         "100"
        ],
        [
         "228",
         "omaha",
         "Omaha",
         "100"
        ],
        [
         "224",
         "maine",
         "Maine",
         "100"
        ]
       ],
       "shape": {
        "columns": 3,
        "rows": 362
       }
      },
      "text/html": [
       "<div>\n",
       "<style scoped>\n",
       "    .dataframe tbody tr th:only-of-type {\n",
       "        vertical-align: middle;\n",
       "    }\n",
       "\n",
       "    .dataframe tbody tr th {\n",
       "        vertical-align: top;\n",
       "    }\n",
       "\n",
       "    .dataframe thead th {\n",
       "        text-align: right;\n",
       "    }\n",
       "</style>\n",
       "<table border=\"1\" class=\"dataframe\">\n",
       "  <thead>\n",
       "    <tr style=\"text-align: right;\">\n",
       "      <th></th>\n",
       "      <th>kaggle_name</th>\n",
       "      <th>Team</th>\n",
       "      <th>fuzz_score</th>\n",
       "    </tr>\n",
       "  </thead>\n",
       "  <tbody>\n",
       "    <tr>\n",
       "      <th>267</th>\n",
       "      <td>texas rio grande valley</td>\n",
       "      <td>UT Rio Grande Valley</td>\n",
       "      <td>88</td>\n",
       "    </tr>\n",
       "    <tr>\n",
       "      <th>154</th>\n",
       "      <td>uni</td>\n",
       "      <td>Miami University (OH)</td>\n",
       "      <td>90</td>\n",
       "    </tr>\n",
       "    <tr>\n",
       "      <th>153</th>\n",
       "      <td>umass</td>\n",
       "      <td>UMass (Amherst)</td>\n",
       "      <td>90</td>\n",
       "    </tr>\n",
       "    <tr>\n",
       "      <th>317</th>\n",
       "      <td>queens (nc)</td>\n",
       "      <td>Queens</td>\n",
       "      <td>90</td>\n",
       "    </tr>\n",
       "    <tr>\n",
       "      <th>334</th>\n",
       "      <td>southeast missouri state</td>\n",
       "      <td>Southeast Missouri St.</td>\n",
       "      <td>93</td>\n",
       "    </tr>\n",
       "    <tr>\n",
       "      <th>...</th>\n",
       "      <td>...</td>\n",
       "      <td>...</td>\n",
       "      <td>...</td>\n",
       "    </tr>\n",
       "    <tr>\n",
       "      <th>117</th>\n",
       "      <td>bowling green</td>\n",
       "      <td>Bowling Green</td>\n",
       "      <td>100</td>\n",
       "    </tr>\n",
       "    <tr>\n",
       "      <th>116</th>\n",
       "      <td>byu</td>\n",
       "      <td>BYU</td>\n",
       "      <td>100</td>\n",
       "    </tr>\n",
       "    <tr>\n",
       "      <th>115</th>\n",
       "      <td>rhode island</td>\n",
       "      <td>Rhode Island</td>\n",
       "      <td>100</td>\n",
       "    </tr>\n",
       "    <tr>\n",
       "      <th>135</th>\n",
       "      <td>georgetown</td>\n",
       "      <td>Georgetown</td>\n",
       "      <td>100</td>\n",
       "    </tr>\n",
       "    <tr>\n",
       "      <th>362</th>\n",
       "      <td>south carolina st.</td>\n",
       "      <td>South Carolina St.</td>\n",
       "      <td>100</td>\n",
       "    </tr>\n",
       "  </tbody>\n",
       "</table>\n",
       "<p>362 rows × 3 columns</p>\n",
       "</div>"
      ],
      "text/plain": [
       "                  kaggle_name                    Team  fuzz_score\n",
       "267   texas rio grande valley    UT Rio Grande Valley          88\n",
       "154                       uni   Miami University (OH)          90\n",
       "153                     umass         UMass (Amherst)          90\n",
       "317               queens (nc)                  Queens          90\n",
       "334  southeast missouri state  Southeast Missouri St.          93\n",
       "..                        ...                     ...         ...\n",
       "117             bowling green           Bowling Green         100\n",
       "116                       byu                     BYU         100\n",
       "115              rhode island            Rhode Island         100\n",
       "135                georgetown              Georgetown         100\n",
       "362        south carolina st.      South Carolina St.         100\n",
       "\n",
       "[362 rows x 3 columns]"
      ]
     },
     "metadata": {},
     "output_type": "display_data"
    }
   ],
   "source": [
    "nate_women = name_match(nate_women, WTeamSpellings)\n",
    "# check for erroneous matches by going worst to best\n",
    "display(nate_women[['kaggle_name','Team','fuzz_score']].sort_values(by='fuzz_score', ascending=True))\n",
    "# In my case, the only error was Miami University (OH), which got matches with 'uni' again, same as men\n",
    "nate_women.loc[nate_women['kaggle_name'] == 'uni', 'kaggle_name'] = 'miami (oh)'"
   ]
  },
  {
   "cell_type": "code",
   "execution_count": 14,
   "metadata": {},
   "outputs": [],
   "source": [
    "# Merge the two to get the team_id\n",
    "M_merged = pd.merge(nate_men, MTeamSpellings, left_on='kaggle_name', right_on='TeamNameSpelling', how='left')\n",
    "M_merged['gender'] = 'M'\n",
    "W_merged = pd.merge(nate_women, WTeamSpellings, left_on='kaggle_name', right_on='TeamNameSpelling', how='left')\n",
    "W_merged['gender'] = 'W'\n",
    "# Merge the two dataframes to get all team_ids\n",
    "All_merged = pd.concat([M_merged, W_merged], ignore_index=True)"
   ]
  },
  {
   "cell_type": "code",
   "execution_count": 15,
   "metadata": {},
   "outputs": [],
   "source": [
    "# Create a dictionary for quick lookup of ELO ratings by TeamID\n",
    "elo_dict = All_merged.set_index('TeamID')['Current Elo'].to_dict()\n",
    "\n",
    "# Map the ELO ratings to the TeamID1 column in the submission_df\n",
    "submission_df['TeamID1_Elo'] = submission_df['TeamID1'].map(elo_dict)\n",
    "submission_df['TeamID2_Elo'] = submission_df['TeamID2'].map(elo_dict)\n",
    "\n",
    "# Fill missing values with 9999 - these would be teams that aren't in the nate database of mismatches in names\n",
    "submission_df['TeamID1_Elo'].fillna(9999, inplace=True)\n",
    "submission_df['TeamID2_Elo'].fillna(9999, inplace=True)\n",
    "\n",
    "# Check the result, this should be 0\n",
    "assert len(submission_df.query('TeamID1_Elo == 9999 or TeamID2_Elo == 9999')) == 0, \"There are teams with missing ELO ratings\""
   ]
  },
  {
   "cell_type": "code",
   "execution_count": 16,
   "metadata": {},
   "outputs": [],
   "source": [
    "# This should be replaced with goto conversion thing\n",
    "def calc_elo_win(A, B):\n",
    "    awin = 1 / (1 + 10**( (B - A) / 400))\n",
    "    return(awin)\n",
    "submission_df['Team1_win_prob'] = submission_df.apply(lambda x: calc_elo_win(x['TeamID1_Elo'], x['TeamID2_Elo']), axis=1)"
   ]
  },
  {
   "cell_type": "code",
   "execution_count": 17,
   "metadata": {},
   "outputs": [
    {
     "data": {
      "application/vnd.microsoft.datawrangler.viewer.v0+json": {
       "columns": [
        {
         "name": "index",
         "rawType": "int64",
         "type": "integer"
        },
        {
         "name": "ID",
         "rawType": "object",
         "type": "string"
        },
        {
         "name": "TeamName1",
         "rawType": "object",
         "type": "string"
        },
        {
         "name": "TeamName2",
         "rawType": "object",
         "type": "string"
        },
        {
         "name": "TeamID1_Elo",
         "rawType": "float64",
         "type": "float"
        },
        {
         "name": "TeamID2_Elo",
         "rawType": "float64",
         "type": "float"
        },
        {
         "name": "Team1_win_prob",
         "rawType": "float64",
         "type": "float"
        }
       ],
       "conversionMethod": "pd.DataFrame",
       "ref": "7a532e90-f646-491a-a236-5d61602c28a1",
       "rows": [
        [
         "0",
         "2025_1101_1102",
         "abilene christian",
         "air force",
         "1482.911",
         "1267.39",
         "0.7756751530757202"
        ],
        [
         "1",
         "2025_1101_1103",
         "abilene christian",
         "akron",
         "1482.911",
         "1635.409",
         "0.29362370601458165"
        ],
        [
         "2",
         "2025_1101_1104",
         "abilene christian",
         "alabama",
         "1482.911",
         "2031.764",
         "0.040720460570056585"
        ],
        [
         "3",
         "2025_1101_1105",
         "abilene christian",
         "alabama a&m",
         "1482.911",
         "1109.851",
         "0.8954354907076304"
        ],
        [
         "4",
         "2025_1101_1106",
         "abilene christian",
         "alabama st",
         "1482.911",
         "1321.198",
         "0.7172567974812066"
        ]
       ],
       "shape": {
        "columns": 6,
        "rows": 5
       }
      },
      "text/html": [
       "<div>\n",
       "<style scoped>\n",
       "    .dataframe tbody tr th:only-of-type {\n",
       "        vertical-align: middle;\n",
       "    }\n",
       "\n",
       "    .dataframe tbody tr th {\n",
       "        vertical-align: top;\n",
       "    }\n",
       "\n",
       "    .dataframe thead th {\n",
       "        text-align: right;\n",
       "    }\n",
       "</style>\n",
       "<table border=\"1\" class=\"dataframe\">\n",
       "  <thead>\n",
       "    <tr style=\"text-align: right;\">\n",
       "      <th></th>\n",
       "      <th>ID</th>\n",
       "      <th>TeamName1</th>\n",
       "      <th>TeamName2</th>\n",
       "      <th>TeamID1_Elo</th>\n",
       "      <th>TeamID2_Elo</th>\n",
       "      <th>Team1_win_prob</th>\n",
       "    </tr>\n",
       "  </thead>\n",
       "  <tbody>\n",
       "    <tr>\n",
       "      <th>0</th>\n",
       "      <td>2025_1101_1102</td>\n",
       "      <td>abilene christian</td>\n",
       "      <td>air force</td>\n",
       "      <td>1482.911</td>\n",
       "      <td>1267.390</td>\n",
       "      <td>0.775675</td>\n",
       "    </tr>\n",
       "    <tr>\n",
       "      <th>1</th>\n",
       "      <td>2025_1101_1103</td>\n",
       "      <td>abilene christian</td>\n",
       "      <td>akron</td>\n",
       "      <td>1482.911</td>\n",
       "      <td>1635.409</td>\n",
       "      <td>0.293624</td>\n",
       "    </tr>\n",
       "    <tr>\n",
       "      <th>2</th>\n",
       "      <td>2025_1101_1104</td>\n",
       "      <td>abilene christian</td>\n",
       "      <td>alabama</td>\n",
       "      <td>1482.911</td>\n",
       "      <td>2031.764</td>\n",
       "      <td>0.040720</td>\n",
       "    </tr>\n",
       "    <tr>\n",
       "      <th>3</th>\n",
       "      <td>2025_1101_1105</td>\n",
       "      <td>abilene christian</td>\n",
       "      <td>alabama a&amp;m</td>\n",
       "      <td>1482.911</td>\n",
       "      <td>1109.851</td>\n",
       "      <td>0.895435</td>\n",
       "    </tr>\n",
       "    <tr>\n",
       "      <th>4</th>\n",
       "      <td>2025_1101_1106</td>\n",
       "      <td>abilene christian</td>\n",
       "      <td>alabama st</td>\n",
       "      <td>1482.911</td>\n",
       "      <td>1321.198</td>\n",
       "      <td>0.717257</td>\n",
       "    </tr>\n",
       "  </tbody>\n",
       "</table>\n",
       "</div>"
      ],
      "text/plain": [
       "               ID          TeamName1    TeamName2  TeamID1_Elo  TeamID2_Elo  \\\n",
       "0  2025_1101_1102  abilene christian    air force     1482.911     1267.390   \n",
       "1  2025_1101_1103  abilene christian        akron     1482.911     1635.409   \n",
       "2  2025_1101_1104  abilene christian      alabama     1482.911     2031.764   \n",
       "3  2025_1101_1105  abilene christian  alabama a&m     1482.911     1109.851   \n",
       "4  2025_1101_1106  abilene christian   alabama st     1482.911     1321.198   \n",
       "\n",
       "   Team1_win_prob  \n",
       "0        0.775675  \n",
       "1        0.293624  \n",
       "2        0.040720  \n",
       "3        0.895435  \n",
       "4        0.717257  "
      ]
     },
     "execution_count": 17,
     "metadata": {},
     "output_type": "execute_result"
    }
   ],
   "source": [
    "finalsub = submission_df[['ID', 'Team1_win_prob']]\n",
    "readable_finalsub = submission_df[['ID','TeamID1', 'TeamID2', 'TeamID1_Elo', 'TeamID2_Elo', 'Team1_win_prob']]\n",
    "readable_finalsub['TeamName1'] = readable_finalsub['TeamID1'].map(All_merged.set_index('TeamID')['TeamNameSpelling'].to_dict())\n",
    "readable_finalsub['TeamName2'] = readable_finalsub['TeamID2'].map(All_merged.set_index('TeamID')['TeamNameSpelling'].to_dict())\n",
    "readable_finalsub.drop(['TeamID1', 'TeamID2'], axis=1, inplace=True)\n",
    "readable_finalsub[['ID', 'TeamName1', 'TeamName2', 'TeamID1_Elo', 'TeamID2_Elo', 'Team1_win_prob']].head()"
   ]
  },
  {
   "cell_type": "code",
   "execution_count": 19,
   "metadata": {},
   "outputs": [],
   "source": [
    "Output = submission_df[['ID', 'Team1_win_prob']].rename(columns={'Team1_win_prob': 'Pred'})\n",
    "Output.to_csv(f'{output_dir}/NateEloProbs.csv', index=False)"
   ]
  }
 ],
 "metadata": {
  "kernelspec": {
   "display_name": "ballenvy",
   "language": "python",
   "name": "python3"
  },
  "language_info": {
   "codemirror_mode": {
    "name": "ipython",
    "version": 3
   },
   "file_extension": ".py",
   "mimetype": "text/x-python",
   "name": "python",
   "nbconvert_exporter": "python",
   "pygments_lexer": "ipython3",
   "version": "3.11.11"
  }
 },
 "nbformat": 4,
 "nbformat_minor": 2
}
