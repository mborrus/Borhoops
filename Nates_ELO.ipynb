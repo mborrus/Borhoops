{
 "cells": [
  {
   "cell_type": "markdown",
   "metadata": {},
   "source": [
    "# Nate Silver Elo Predicitons\n",
    "\n",
    "Use's Nate Silver's elo values and predicts off that, no input of my own.\n",
    "\n",
    "Predictions to act as a benchmark."
   ]
  },
  {
   "cell_type": "code",
   "execution_count": 1,
   "metadata": {},
   "outputs": [
    {
     "name": "stderr",
     "output_type": "stream",
     "text": [
      "/Users/marshallborrus/Desktop/OfficialRepos/Borhoops/ballenvy/lib/python3.11/site-packages/fuzzywuzzy/fuzz.py:11: UserWarning: Using slow pure-python SequenceMatcher. Install python-Levenshtein to remove this warning\n",
      "  warnings.warn('Using slow pure-python SequenceMatcher. Install python-Levenshtein to remove this warning')\n"
     ]
    }
   ],
   "source": [
    "import pandas as pd\n",
    "import yaml\n",
    "import duckdb as db\n",
    "import warnings\n",
    "from fuzzywuzzy import process\n",
    "warnings.filterwarnings('ignore')\n",
    "\n",
    "with open('config.yaml', 'r') as file:\n",
    "    config_file = yaml.safe_load(file)\n",
    "data_dir = config_file.get(\"data_dir\")\n",
    "output_dir = config_file.get(\"output_dir\")"
   ]
  },
  {
   "cell_type": "code",
   "execution_count": 2,
   "metadata": {},
   "outputs": [],
   "source": [
    "submission_df = pd.read_csv(f'{data_dir}/Kaggle/SampleSubmissionStage2.csv')\n",
    "\n",
    "def extract_game_info(id_str):\n",
    "    # Extract year and team_ids\n",
    "    parts = id_str.split('_')\n",
    "    year = int(parts[0])\n",
    "    teamID1 = int(parts[1])\n",
    "    teamID2 = int(parts[2])\n",
    "    return year, teamID1, teamID2\n",
    "\n",
    "submission_df[['Season', 'TeamID1', 'TeamID2']] = submission_df['ID'].apply(extract_game_info).tolist()"
   ]
  },
  {
   "cell_type": "code",
   "execution_count": 31,
   "metadata": {},
   "outputs": [],
   "source": [
    "# nate_men = pd.read_csv(f'{data_dir}/Nate/Mens.csv', index_col=0)\n",
    "# nate_women = pd.read_csv(f'{data_dir}/Nate/Womens.csv', index_col=0)\n",
    "\n",
    "nate_men = pd.read_csv(f'{data_dir}/Nate/Mens_Combined.csv')\n",
    "nate_women = pd.read_csv(f'{data_dir}/Nate/Womens_Combined.csv')\n",
    "\n",
    "MTeamSpellings = pd.read_csv(f\"{data_dir}/Kaggle/MTeamSpellings.csv\")\n",
    "WTeamSpellings = pd.read_csv(f\"{data_dir}/Kaggle/WTeamSpellings.csv\")"
   ]
  },
  {
   "cell_type": "code",
   "execution_count": 32,
   "metadata": {},
   "outputs": [],
   "source": [
    "def name_match(nate_df, names_df):\n",
    "    ''' input should be nate's df and the path to ncaa name choices'''\n",
    "    choices = list(names_df[\"TeamNameSpelling\"])\n",
    "    nate_df['kaggle_name'] = nate_df['Team'].apply(lambda x: process.extractOne(x, choices)[0])\n",
    "    nate_df['fuzz_score'] = nate_df['Team'].apply(lambda x: process.extractOne(x, choices)[1])\n",
    "    return nate_df"
   ]
  },
  {
   "cell_type": "code",
   "execution_count": 33,
   "metadata": {},
   "outputs": [
    {
     "data": {
      "application/vnd.microsoft.datawrangler.viewer.v0+json": {
       "columns": [
        {
         "name": "index",
         "rawType": "int64",
         "type": "integer"
        },
        {
         "name": "kaggle_name",
         "rawType": "object",
         "type": "string"
        },
        {
         "name": "Team",
         "rawType": "object",
         "type": "string"
        },
        {
         "name": "fuzz_score",
         "rawType": "int64",
         "type": "integer"
        }
       ],
       "conversionMethod": "pd.DataFrame",
       "ref": "657abd91-52bc-4fe5-8029-3fdec60336c3",
       "rows": [
        [
         "284",
         "texas rio grande valley",
         "UT Rio Grande Valley",
         "88"
        ],
        [
         "148",
         "uni",
         "Miami University (OH)",
         "90"
        ],
        [
         "223",
         "queens (nc)",
         "Queens",
         "90"
        ],
        [
         "209",
         "umass",
         "UMass (Amherst)",
         "90"
        ],
        [
         "363",
         "mississippi valley state",
         "Mississippi Valley St.",
         "93"
        ],
        [
         "219",
         "southeast missouri state",
         "Southeast Missouri St.",
         "93"
        ],
        [
         "201",
         "mount st. mary's",
         "Mount St. Mary's (MD)",
         "95"
        ],
        [
         "196",
         "miami (fl)",
         "U Miami (FL)",
         "95"
        ],
        [
         "303",
         "louisiana-lafayette",
         "Louisiana (Lafayette)",
         "97"
        ],
        [
         "356",
         "md. eastern shore",
         "MD Eastern Shore",
         "97"
        ],
        [
         "238",
         "southern",
         "Southern",
         "100"
        ],
        [
         "246",
         "georgia st",
         "Georgia St.",
         "100"
        ],
        [
         "245",
         "tulsa",
         "Tulsa",
         "100"
        ],
        [
         "244",
         "georgia southern",
         "Georgia Southern",
         "100"
        ],
        [
         "243",
         "little rock",
         "Little Rock",
         "100"
        ],
        [
         "232",
         "richmond",
         "Richmond",
         "100"
        ],
        [
         "242",
         "wright st",
         "Wright St.",
         "100"
        ],
        [
         "233",
         "longwood",
         "Longwood",
         "100"
        ],
        [
         "241",
         "evansville",
         "Evansville",
         "100"
        ],
        [
         "240",
         "northern arizona",
         "Northern Arizona",
         "100"
        ],
        [
         "234",
         "central michigan",
         "Central Michigan",
         "100"
        ],
        [
         "235",
         "william & mary",
         "William & Mary",
         "100"
        ],
        [
         "239",
         "toledo",
         "Toledo",
         "100"
        ],
        [
         "236",
         "presbyterian",
         "Presbyterian",
         "100"
        ],
        [
         "237",
         "hawaii",
         "Hawaii",
         "100"
        ],
        [
         "247",
         "se louisiana",
         "SE Louisiana",
         "100"
        ],
        [
         "249",
         "northwestern st.",
         "Northwestern St.",
         "100"
        ],
        [
         "231",
         "campbell",
         "Campbell",
         "100"
        ],
        [
         "268",
         "mercer",
         "Mercer",
         "100"
        ],
        [
         "267",
         "siena",
         "Siena",
         "100"
        ],
        [
         "266",
         "idaho",
         "Idaho",
         "100"
        ],
        [
         "265",
         "alabama st",
         "Alabama St.",
         "100"
        ],
        [
         "264",
         "tarleton st",
         "Tarleton St.",
         "100"
        ],
        [
         "263",
         "colgate",
         "Colgate",
         "100"
        ],
        [
         "262",
         "marist",
         "Marist",
         "100"
        ],
        [
         "261",
         "fiu",
         "FIU",
         "100"
        ],
        [
         "260",
         "missouri st",
         "Missouri St.",
         "100"
        ],
        [
         "259",
         "navy",
         "Navy",
         "100"
        ],
        [
         "258",
         "portland",
         "Portland",
         "100"
        ],
        [
         "257",
         "kansas city",
         "Kansas City",
         "100"
        ],
        [
         "256",
         "albany",
         "Albany",
         "100"
        ],
        [
         "255",
         "jackson st",
         "Jackson St.",
         "100"
        ],
        [
         "254",
         "tennessee st",
         "Tennessee St.",
         "100"
        ],
        [
         "253",
         "uc davis",
         "UC Davis",
         "100"
        ],
        [
         "252",
         "sacred heart",
         "Sacred Heart",
         "100"
        ],
        [
         "251",
         "charlotte",
         "Charlotte",
         "100"
        ],
        [
         "250",
         "cal state bakersfield",
         "Cal State Bakersfield",
         "100"
        ],
        [
         "248",
         "south dakota",
         "South Dakota",
         "100"
        ],
        [
         "230",
         "manhattan",
         "Manhattan",
         "100"
        ],
        [
         "226",
         "idaho st",
         "Idaho St.",
         "100"
        ]
       ],
       "shape": {
        "columns": 3,
        "rows": 364
       }
      },
      "text/html": [
       "<div>\n",
       "<style scoped>\n",
       "    .dataframe tbody tr th:only-of-type {\n",
       "        vertical-align: middle;\n",
       "    }\n",
       "\n",
       "    .dataframe tbody tr th {\n",
       "        vertical-align: top;\n",
       "    }\n",
       "\n",
       "    .dataframe thead th {\n",
       "        text-align: right;\n",
       "    }\n",
       "</style>\n",
       "<table border=\"1\" class=\"dataframe\">\n",
       "  <thead>\n",
       "    <tr style=\"text-align: right;\">\n",
       "      <th></th>\n",
       "      <th>kaggle_name</th>\n",
       "      <th>Team</th>\n",
       "      <th>fuzz_score</th>\n",
       "    </tr>\n",
       "  </thead>\n",
       "  <tbody>\n",
       "    <tr>\n",
       "      <th>284</th>\n",
       "      <td>texas rio grande valley</td>\n",
       "      <td>UT Rio Grande Valley</td>\n",
       "      <td>88</td>\n",
       "    </tr>\n",
       "    <tr>\n",
       "      <th>148</th>\n",
       "      <td>uni</td>\n",
       "      <td>Miami University (OH)</td>\n",
       "      <td>90</td>\n",
       "    </tr>\n",
       "    <tr>\n",
       "      <th>223</th>\n",
       "      <td>queens (nc)</td>\n",
       "      <td>Queens</td>\n",
       "      <td>90</td>\n",
       "    </tr>\n",
       "    <tr>\n",
       "      <th>209</th>\n",
       "      <td>umass</td>\n",
       "      <td>UMass (Amherst)</td>\n",
       "      <td>90</td>\n",
       "    </tr>\n",
       "    <tr>\n",
       "      <th>363</th>\n",
       "      <td>mississippi valley state</td>\n",
       "      <td>Mississippi Valley St.</td>\n",
       "      <td>93</td>\n",
       "    </tr>\n",
       "    <tr>\n",
       "      <th>...</th>\n",
       "      <td>...</td>\n",
       "      <td>...</td>\n",
       "      <td>...</td>\n",
       "    </tr>\n",
       "    <tr>\n",
       "      <th>117</th>\n",
       "      <td>bryant</td>\n",
       "      <td>Bryant</td>\n",
       "      <td>100</td>\n",
       "    </tr>\n",
       "    <tr>\n",
       "      <th>116</th>\n",
       "      <td>wofford</td>\n",
       "      <td>Wofford</td>\n",
       "      <td>100</td>\n",
       "    </tr>\n",
       "    <tr>\n",
       "      <th>115</th>\n",
       "      <td>cal state northridge</td>\n",
       "      <td>Cal State Northridge</td>\n",
       "      <td>100</td>\n",
       "    </tr>\n",
       "    <tr>\n",
       "      <th>113</th>\n",
       "      <td>notre dame</td>\n",
       "      <td>Notre Dame</td>\n",
       "      <td>100</td>\n",
       "    </tr>\n",
       "    <tr>\n",
       "      <th>181</th>\n",
       "      <td>utep</td>\n",
       "      <td>UTEP</td>\n",
       "      <td>100</td>\n",
       "    </tr>\n",
       "  </tbody>\n",
       "</table>\n",
       "<p>364 rows × 3 columns</p>\n",
       "</div>"
      ],
      "text/plain": [
       "                  kaggle_name                    Team  fuzz_score\n",
       "284   texas rio grande valley    UT Rio Grande Valley          88\n",
       "148                       uni   Miami University (OH)          90\n",
       "223               queens (nc)                  Queens          90\n",
       "209                     umass         UMass (Amherst)          90\n",
       "363  mississippi valley state  Mississippi Valley St.          93\n",
       "..                        ...                     ...         ...\n",
       "117                    bryant                  Bryant         100\n",
       "116                   wofford                 Wofford         100\n",
       "115      cal state northridge    Cal State Northridge         100\n",
       "113                notre dame              Notre Dame         100\n",
       "181                      utep                    UTEP         100\n",
       "\n",
       "[364 rows x 3 columns]"
      ]
     },
     "metadata": {},
     "output_type": "display_data"
    }
   ],
   "source": [
    "nate_men = name_match(nate_men, MTeamSpellings)\n",
    "# check for erroneous matches by going worst to best\n",
    "display(nate_men[['kaggle_name','Team','fuzz_score']].sort_values(by='fuzz_score', ascending=True))\n",
    "# In my case, the only errors were that Miami University (OH), which got matches with 'uni'\n",
    "# and saint francis in the nate elo is for PA, but it matches to ny\n",
    "nate_men.loc[nate_men['kaggle_name'] == 'uni', 'kaggle_name'] = 'miami (oh)'\n",
    "nate_men.loc[nate_men['kaggle_name'] == 'saint francis (ny)', 'kaggle_name'] = 'saint francis (pa)'"
   ]
  },
  {
   "cell_type": "code",
   "execution_count": 34,
   "metadata": {},
   "outputs": [
    {
     "data": {
      "application/vnd.microsoft.datawrangler.viewer.v0+json": {
       "columns": [
        {
         "name": "index",
         "rawType": "int64",
         "type": "integer"
        },
        {
         "name": "kaggle_name",
         "rawType": "object",
         "type": "string"
        },
        {
         "name": "Team",
         "rawType": "object",
         "type": "string"
        },
        {
         "name": "fuzz_score",
         "rawType": "int64",
         "type": "integer"
        }
       ],
       "conversionMethod": "pd.DataFrame",
       "ref": "f2b43341-1450-47df-b3b9-66bd7356a35c",
       "rows": [
        [
         "257",
         "texas rio grande valley",
         "UT Rio Grande Valley",
         "88"
        ],
        [
         "322",
         "queens (nc)",
         "Queens",
         "90"
        ],
        [
         "154",
         "umass",
         "UMass (Amherst)",
         "90"
        ],
        [
         "157",
         "uni",
         "Miami University (OH)",
         "90"
        ],
        [
         "334",
         "southeast missouri state",
         "Southeast Missouri St.",
         "93"
        ],
        [
         "341",
         "mississippi valley state",
         "Mississippi Valley St.",
         "93"
        ],
        [
         "83",
         "miami (fl)",
         "U Miami (FL)",
         "95"
        ],
        [
         "193",
         "mount st. mary's",
         "Mount St. Mary's (MD)",
         "95"
        ],
        [
         "262",
         "md. eastern shore",
         "MD Eastern Shore",
         "97"
        ],
        [
         "183",
         "louisiana-lafayette",
         "Louisiana (Lafayette)",
         "97"
        ],
        [
         "245",
         "omaha",
         "Omaha",
         "100"
        ],
        [
         "244",
         "fiu",
         "FIU",
         "100"
        ],
        [
         "243",
         "western michigan",
         "Western Michigan",
         "100"
        ],
        [
         "242",
         "coppin st",
         "Coppin St.",
         "100"
        ],
        [
         "241",
         "northern kentucky",
         "Northern Kentucky",
         "100"
        ],
        [
         "240",
         "northwestern st.",
         "Northwestern St.",
         "100"
        ],
        [
         "239",
         "texas st",
         "Texas St.",
         "100"
        ],
        [
         "231",
         "northern illinois",
         "Northern Illinois",
         "100"
        ],
        [
         "230",
         "monmouth",
         "Monmouth",
         "100"
        ],
        [
         "229",
         "siena",
         "Siena",
         "100"
        ],
        [
         "236",
         "towson",
         "Towson",
         "100"
        ],
        [
         "235",
         "california baptist",
         "California Baptist",
         "100"
        ],
        [
         "234",
         "jacksonville",
         "Jacksonville",
         "100"
        ],
        [
         "233",
         "western illinois",
         "Western Illinois",
         "100"
        ],
        [
         "232",
         "weber st",
         "Weber St.",
         "100"
        ],
        [
         "238",
         "cal poly",
         "Cal Poly",
         "100"
        ],
        [
         "237",
         "north dakota",
         "North Dakota",
         "100"
        ],
        [
         "0",
         "south carolina",
         "South Carolina",
         "100"
        ],
        [
         "247",
         "austin peay",
         "Austin Peay",
         "100"
        ],
        [
         "266",
         "cornell",
         "Cornell",
         "100"
        ],
        [
         "265",
         "a&m-corpus christi",
         "A&M-Corpus Christi",
         "100"
        ],
        [
         "264",
         "nicholls st",
         "Nicholls St.",
         "100"
        ],
        [
         "263",
         "furman",
         "Furman",
         "100"
        ],
        [
         "261",
         "marist",
         "Marist",
         "100"
        ],
        [
         "260",
         "southern miss",
         "Southern Miss",
         "100"
        ],
        [
         "259",
         "san diego",
         "San Diego",
         "100"
        ],
        [
         "258",
         "kansas city",
         "Kansas City",
         "100"
        ],
        [
         "246",
         "ut martin",
         "UT Martin",
         "100"
        ],
        [
         "256",
         "jacksonville st",
         "Jacksonville St.",
         "100"
        ],
        [
         "254",
         "sam houston",
         "Sam Houston",
         "100"
        ],
        [
         "253",
         "stetson",
         "Stetson",
         "100"
        ],
        [
         "252",
         "longwood",
         "Longwood",
         "100"
        ],
        [
         "251",
         "xavier",
         "Xavier",
         "100"
        ],
        [
         "250",
         "little rock",
         "Little Rock",
         "100"
        ],
        [
         "249",
         "bryant",
         "Bryant",
         "100"
        ],
        [
         "248",
         "elon",
         "Elon",
         "100"
        ],
        [
         "228",
         "florida atlantic",
         "Florida Atlantic",
         "100"
        ],
        [
         "255",
         "stony brook",
         "Stony Brook",
         "100"
        ],
        [
         "227",
         "valparaiso",
         "Valparaiso",
         "100"
        ],
        [
         "224",
         "nevada",
         "Nevada",
         "100"
        ]
       ],
       "shape": {
        "columns": 3,
        "rows": 362
       }
      },
      "text/html": [
       "<div>\n",
       "<style scoped>\n",
       "    .dataframe tbody tr th:only-of-type {\n",
       "        vertical-align: middle;\n",
       "    }\n",
       "\n",
       "    .dataframe tbody tr th {\n",
       "        vertical-align: top;\n",
       "    }\n",
       "\n",
       "    .dataframe thead th {\n",
       "        text-align: right;\n",
       "    }\n",
       "</style>\n",
       "<table border=\"1\" class=\"dataframe\">\n",
       "  <thead>\n",
       "    <tr style=\"text-align: right;\">\n",
       "      <th></th>\n",
       "      <th>kaggle_name</th>\n",
       "      <th>Team</th>\n",
       "      <th>fuzz_score</th>\n",
       "    </tr>\n",
       "  </thead>\n",
       "  <tbody>\n",
       "    <tr>\n",
       "      <th>257</th>\n",
       "      <td>texas rio grande valley</td>\n",
       "      <td>UT Rio Grande Valley</td>\n",
       "      <td>88</td>\n",
       "    </tr>\n",
       "    <tr>\n",
       "      <th>322</th>\n",
       "      <td>queens (nc)</td>\n",
       "      <td>Queens</td>\n",
       "      <td>90</td>\n",
       "    </tr>\n",
       "    <tr>\n",
       "      <th>154</th>\n",
       "      <td>umass</td>\n",
       "      <td>UMass (Amherst)</td>\n",
       "      <td>90</td>\n",
       "    </tr>\n",
       "    <tr>\n",
       "      <th>157</th>\n",
       "      <td>uni</td>\n",
       "      <td>Miami University (OH)</td>\n",
       "      <td>90</td>\n",
       "    </tr>\n",
       "    <tr>\n",
       "      <th>334</th>\n",
       "      <td>southeast missouri state</td>\n",
       "      <td>Southeast Missouri St.</td>\n",
       "      <td>93</td>\n",
       "    </tr>\n",
       "    <tr>\n",
       "      <th>...</th>\n",
       "      <td>...</td>\n",
       "      <td>...</td>\n",
       "      <td>...</td>\n",
       "    </tr>\n",
       "    <tr>\n",
       "      <th>116</th>\n",
       "      <td>lamar</td>\n",
       "      <td>Lamar</td>\n",
       "      <td>100</td>\n",
       "    </tr>\n",
       "    <tr>\n",
       "      <th>115</th>\n",
       "      <td>illinois st</td>\n",
       "      <td>Illinois St.</td>\n",
       "      <td>100</td>\n",
       "    </tr>\n",
       "    <tr>\n",
       "      <th>114</th>\n",
       "      <td>vermont</td>\n",
       "      <td>Vermont</td>\n",
       "      <td>100</td>\n",
       "    </tr>\n",
       "    <tr>\n",
       "      <th>134</th>\n",
       "      <td>albany</td>\n",
       "      <td>Albany</td>\n",
       "      <td>100</td>\n",
       "    </tr>\n",
       "    <tr>\n",
       "      <th>361</th>\n",
       "      <td>south carolina st.</td>\n",
       "      <td>South Carolina St.</td>\n",
       "      <td>100</td>\n",
       "    </tr>\n",
       "  </tbody>\n",
       "</table>\n",
       "<p>362 rows × 3 columns</p>\n",
       "</div>"
      ],
      "text/plain": [
       "                  kaggle_name                    Team  fuzz_score\n",
       "257   texas rio grande valley    UT Rio Grande Valley          88\n",
       "322               queens (nc)                  Queens          90\n",
       "154                     umass         UMass (Amherst)          90\n",
       "157                       uni   Miami University (OH)          90\n",
       "334  southeast missouri state  Southeast Missouri St.          93\n",
       "..                        ...                     ...         ...\n",
       "116                     lamar                   Lamar         100\n",
       "115               illinois st            Illinois St.         100\n",
       "114                   vermont                 Vermont         100\n",
       "134                    albany                  Albany         100\n",
       "361        south carolina st.      South Carolina St.         100\n",
       "\n",
       "[362 rows x 3 columns]"
      ]
     },
     "metadata": {},
     "output_type": "display_data"
    }
   ],
   "source": [
    "nate_women = name_match(nate_women, WTeamSpellings)\n",
    "# check for erroneous matches by going worst to best\n",
    "display(nate_women[['kaggle_name','Team','fuzz_score']].sort_values(by='fuzz_score', ascending=True))\n",
    "# In my case, the only error was Miami University (OH), which got matches with 'uni' again, same as men\n",
    "nate_women.loc[nate_women['kaggle_name'] == 'uni', 'kaggle_name'] = 'miami (oh)'"
   ]
  },
  {
   "cell_type": "code",
   "execution_count": 35,
   "metadata": {},
   "outputs": [],
   "source": [
    "# Merge the two to get the team_id\n",
    "M_merged = pd.merge(nate_men, MTeamSpellings, left_on='kaggle_name', right_on='TeamNameSpelling', how='left')\n",
    "M_merged['gender'] = 'M'\n",
    "W_merged = pd.merge(nate_women, WTeamSpellings, left_on='kaggle_name', right_on='TeamNameSpelling', how='left')\n",
    "W_merged['gender'] = 'W'\n",
    "# Merge the two dataframes to get all team_ids\n",
    "All_merged = pd.concat([M_merged, W_merged], ignore_index=True)"
   ]
  },
  {
   "cell_type": "code",
   "execution_count": 36,
   "metadata": {},
   "outputs": [],
   "source": [
    "# Optional if you have the combined\n",
    "All_merged.rename(columns={'SBCB (Bayesian)': 'Current Elo'}, inplace=True)"
   ]
  },
  {
   "cell_type": "code",
   "execution_count": 37,
   "metadata": {},
   "outputs": [],
   "source": [
    "# Create a dictionary for quick lookup of ELO ratings by TeamID\n",
    "# elo_dict = All_merged.set_index('TeamID')['Current Elo'].to_dict()\n",
    "elo_dict = All_merged.set_index('TeamID')['Current Elo'].to_dict()\n",
    "\n",
    "# Map the ELO ratings to the TeamID1 column in the submission_df\n",
    "submission_df['TeamID1_Elo'] = submission_df['TeamID1'].map(elo_dict)\n",
    "submission_df['TeamID2_Elo'] = submission_df['TeamID2'].map(elo_dict)\n",
    "\n",
    "# Fill missing values with 9999 - these would be teams that aren't in the nate database of mismatches in names\n",
    "submission_df['TeamID1_Elo'].fillna(9999, inplace=True)\n",
    "submission_df['TeamID2_Elo'].fillna(9999, inplace=True)\n",
    "\n",
    "# Check the result, this should be 0\n",
    "assert len(submission_df.query('TeamID1_Elo == 9999 or TeamID2_Elo == 9999')) == 0, \"There are teams with missing ELO ratings\""
   ]
  },
  {
   "cell_type": "code",
   "execution_count": 38,
   "metadata": {},
   "outputs": [],
   "source": [
    "# This should be replaced with goto conversion thing\n",
    "def calc_elo_win(A, B):\n",
    "    awin = 1 / (1 + 10**( (B - A) / 400))\n",
    "    return(awin)\n",
    "\n",
    "# differences in team strength are typically more apparent in the tournament, \n",
    "# and the model accounts for this, too. An additional multiplier of 1.07x is applied \n",
    "# to the Elo ratings difference between the teams in forecasting margins of \n",
    "# victory and win probabilities in the tournament.\n",
    "def calc_elo_win_tourney(A, B, boost=1.07):\n",
    "    awin = 1 / (1 + 10**( (B - A) * boost / 400))\n",
    "    return(awin)\n",
    "\n",
    "submission_df['Team1_win_prob'] = submission_df.apply(lambda x: calc_elo_win_tourney(x['TeamID1_Elo'], x['TeamID2_Elo']), axis=1)"
   ]
  },
  {
   "cell_type": "code",
   "execution_count": 39,
   "metadata": {},
   "outputs": [
    {
     "data": {
      "application/vnd.microsoft.datawrangler.viewer.v0+json": {
       "columns": [
        {
         "name": "index",
         "rawType": "int64",
         "type": "integer"
        },
        {
         "name": "ID",
         "rawType": "object",
         "type": "string"
        },
        {
         "name": "TeamName1",
         "rawType": "object",
         "type": "string"
        },
        {
         "name": "TeamName2",
         "rawType": "object",
         "type": "string"
        },
        {
         "name": "TeamID1_Elo",
         "rawType": "float64",
         "type": "float"
        },
        {
         "name": "TeamID2_Elo",
         "rawType": "float64",
         "type": "float"
        },
        {
         "name": "Team1_win_prob",
         "rawType": "float64",
         "type": "float"
        }
       ],
       "conversionMethod": "pd.DataFrame",
       "ref": "433eaca6-e241-44bb-b542-648c01d1881e",
       "rows": [
        [
         "0",
         "2025_1101_1102",
         "abilene christian",
         "air force",
         "1467.915",
         "1266.23",
         "0.7759574399520776"
        ],
        [
         "1",
         "2025_1101_1103",
         "abilene christian",
         "akron",
         "1467.915",
         "1651.156",
         "0.24440896053587627"
        ],
        [
         "2",
         "2025_1101_1104",
         "abilene christian",
         "alabama",
         "1467.915",
         "2035.864",
         "0.029362530267699746"
        ],
        [
         "3",
         "2025_1101_1105",
         "abilene christian",
         "alabama a&m",
         "1467.915",
         "1078.902",
         "0.9165288556212428"
        ],
        [
         "4",
         "2025_1101_1106",
         "abilene christian",
         "alabama st",
         "1467.915",
         "1353.811",
         "0.6688113552189057"
        ]
       ],
       "shape": {
        "columns": 6,
        "rows": 5
       }
      },
      "text/html": [
       "<div>\n",
       "<style scoped>\n",
       "    .dataframe tbody tr th:only-of-type {\n",
       "        vertical-align: middle;\n",
       "    }\n",
       "\n",
       "    .dataframe tbody tr th {\n",
       "        vertical-align: top;\n",
       "    }\n",
       "\n",
       "    .dataframe thead th {\n",
       "        text-align: right;\n",
       "    }\n",
       "</style>\n",
       "<table border=\"1\" class=\"dataframe\">\n",
       "  <thead>\n",
       "    <tr style=\"text-align: right;\">\n",
       "      <th></th>\n",
       "      <th>ID</th>\n",
       "      <th>TeamName1</th>\n",
       "      <th>TeamName2</th>\n",
       "      <th>TeamID1_Elo</th>\n",
       "      <th>TeamID2_Elo</th>\n",
       "      <th>Team1_win_prob</th>\n",
       "    </tr>\n",
       "  </thead>\n",
       "  <tbody>\n",
       "    <tr>\n",
       "      <th>0</th>\n",
       "      <td>2025_1101_1102</td>\n",
       "      <td>abilene christian</td>\n",
       "      <td>air force</td>\n",
       "      <td>1467.915</td>\n",
       "      <td>1266.230</td>\n",
       "      <td>0.775957</td>\n",
       "    </tr>\n",
       "    <tr>\n",
       "      <th>1</th>\n",
       "      <td>2025_1101_1103</td>\n",
       "      <td>abilene christian</td>\n",
       "      <td>akron</td>\n",
       "      <td>1467.915</td>\n",
       "      <td>1651.156</td>\n",
       "      <td>0.244409</td>\n",
       "    </tr>\n",
       "    <tr>\n",
       "      <th>2</th>\n",
       "      <td>2025_1101_1104</td>\n",
       "      <td>abilene christian</td>\n",
       "      <td>alabama</td>\n",
       "      <td>1467.915</td>\n",
       "      <td>2035.864</td>\n",
       "      <td>0.029363</td>\n",
       "    </tr>\n",
       "    <tr>\n",
       "      <th>3</th>\n",
       "      <td>2025_1101_1105</td>\n",
       "      <td>abilene christian</td>\n",
       "      <td>alabama a&amp;m</td>\n",
       "      <td>1467.915</td>\n",
       "      <td>1078.902</td>\n",
       "      <td>0.916529</td>\n",
       "    </tr>\n",
       "    <tr>\n",
       "      <th>4</th>\n",
       "      <td>2025_1101_1106</td>\n",
       "      <td>abilene christian</td>\n",
       "      <td>alabama st</td>\n",
       "      <td>1467.915</td>\n",
       "      <td>1353.811</td>\n",
       "      <td>0.668811</td>\n",
       "    </tr>\n",
       "  </tbody>\n",
       "</table>\n",
       "</div>"
      ],
      "text/plain": [
       "               ID          TeamName1    TeamName2  TeamID1_Elo  TeamID2_Elo  \\\n",
       "0  2025_1101_1102  abilene christian    air force     1467.915     1266.230   \n",
       "1  2025_1101_1103  abilene christian        akron     1467.915     1651.156   \n",
       "2  2025_1101_1104  abilene christian      alabama     1467.915     2035.864   \n",
       "3  2025_1101_1105  abilene christian  alabama a&m     1467.915     1078.902   \n",
       "4  2025_1101_1106  abilene christian   alabama st     1467.915     1353.811   \n",
       "\n",
       "   Team1_win_prob  \n",
       "0        0.775957  \n",
       "1        0.244409  \n",
       "2        0.029363  \n",
       "3        0.916529  \n",
       "4        0.668811  "
      ]
     },
     "execution_count": 39,
     "metadata": {},
     "output_type": "execute_result"
    }
   ],
   "source": [
    "finalsub = submission_df[['ID', 'Team1_win_prob']]\n",
    "readable_finalsub = submission_df[['ID','TeamID1', 'TeamID2', 'TeamID1_Elo', 'TeamID2_Elo', 'Team1_win_prob']]\n",
    "readable_finalsub['TeamName1'] = readable_finalsub['TeamID1'].map(All_merged.set_index('TeamID')['TeamNameSpelling'].to_dict())\n",
    "readable_finalsub['TeamName2'] = readable_finalsub['TeamID2'].map(All_merged.set_index('TeamID')['TeamNameSpelling'].to_dict())\n",
    "readable_finalsub.drop(['TeamID1', 'TeamID2'], axis=1, inplace=True)\n",
    "readable_finalsub[['ID', 'TeamName1', 'TeamName2', 'TeamID1_Elo', 'TeamID2_Elo', 'Team1_win_prob']].head()"
   ]
  },
  {
   "cell_type": "code",
   "execution_count": 40,
   "metadata": {},
   "outputs": [],
   "source": [
    "Output = submission_df[['ID', 'Team1_win_prob']].rename(columns={'Team1_win_prob': 'Pred'})\n",
    "Output.to_csv(f'{output_dir}/NateEloProbs_SCBC.csv', index=False)"
   ]
  },
  {
   "cell_type": "code",
   "execution_count": 54,
   "metadata": {},
   "outputs": [],
   "source": [
    "top3seedsM = [1120, 1277, 1235, 1181, 1104, 1458, 1222, 1397, 1246, 1196, 1385, 1403]\n",
    "submission_df.loc[submission_df.query('TeamID1 in @top3seedsM and TeamID2 not in @top3seedsM').index, 'Team1_win_prob'] = 1\n",
    "submission_df.loc[submission_df.query('TeamID2 in @top3seedsM and TeamID1 not in @top3seedsM').index, 'Team1_win_prob'] = 0"
   ]
  },
  {
   "cell_type": "code",
   "execution_count": 55,
   "metadata": {},
   "outputs": [],
   "source": [
    "top3seedsW = womens_team_ids = [3417, 3301, 3261, 3376, 3181, 3314, 3400, 3395, 3323, 3425, 3328, 3163]\n",
    "submission_df.loc[submission_df.query('TeamID1 in @top3seedsW and TeamID2 not in @top3seedsW').index, 'Team1_win_prob'] = 1\n",
    "submission_df.loc[submission_df.query('TeamID2 in @top3seedsW and TeamID1 not in @top3seedsW').index, 'Team1_win_prob'] = 0"
   ]
  },
  {
   "cell_type": "code",
   "execution_count": 59,
   "metadata": {},
   "outputs": [],
   "source": [
    "Output = submission_df[['ID', 'Team1_win_prob']].rename(columns={'Team1_win_prob': 'Pred'})\n",
    "Output.to_csv(f'{output_dir}/NateEloProbs_SCBC_top3win.csv', index=False)"
   ]
  },
  {
   "cell_type": "code",
   "execution_count": null,
   "metadata": {},
   "outputs": [],
   "source": []
  }
 ],
 "metadata": {
  "kernelspec": {
   "display_name": "ballenvy",
   "language": "python",
   "name": "python3"
  },
  "language_info": {
   "codemirror_mode": {
    "name": "ipython",
    "version": 3
   },
   "file_extension": ".py",
   "mimetype": "text/x-python",
   "name": "python",
   "nbconvert_exporter": "python",
   "pygments_lexer": "ipython3",
   "version": "3.11.11"
  }
 },
 "nbformat": 4,
 "nbformat_minor": 2
}
