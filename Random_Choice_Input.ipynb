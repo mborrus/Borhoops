{
 "cells": [
  {
   "cell_type": "markdown",
   "metadata": {},
   "source": [
    "# Random and 50-50 predictions\n",
    "\n",
    "I want to be able to compare how my models perform against noise and no-information\n",
    "\n",
    "There's one portfolio with all 50% win probabilities\n",
    "\n",
    "There's a second with random values\n",
    "\n",
    "This is just to be used on the kaggle site so I can cross compare easily without running anything myself. "
   ]
  },
  {
   "cell_type": "code",
   "execution_count": 58,
   "metadata": {},
   "outputs": [
    {
     "name": "stdout",
     "output_type": "stream",
     "text": [
      "The mean should be .5:  0.4990174057147584\n"
     ]
    }
   ],
   "source": [
    "import pandas as pd\n",
    "import yaml\n",
    "import numpy as np\n",
    "\n",
    "with open('config.yaml', 'r') as file:\n",
    "    config_file = yaml.safe_load(file)\n",
    "data_dir = config_file.get(\"data_dir\")\n",
    "output_dir = config_file.get(\"output_dir\")\n",
    "\n",
    "# Import the submission file\n",
    "submission_df = pd.read_csv(f'{data_dir}/Kaggle/SampleSubmissionStage2.csv')\n",
    "\n",
    "# Save just the anajusted values (all 50/50)\n",
    "submission_df.to_csv(f'{output_dir}/Equal_values.csv', index=False)\n",
    "\n",
    "# Produce random values\n",
    "submission_df['Pred'] = submission_df['Pred'].apply(lambda x: np.random.rand())\n",
    "print(\"The mean should be .5: \" , submission_df['Pred'].mean())"
   ]
  },
  {
   "cell_type": "code",
   "execution_count": 59,
   "metadata": {},
   "outputs": [],
   "source": [
    "# Save the random values for submission\n",
    "submission_df.to_csv(f'{output_dir}/Random_values.csv', index=False)"
   ]
  }
 ],
 "metadata": {
  "kernelspec": {
   "display_name": "ballenvy",
   "language": "python",
   "name": "python3"
  },
  "language_info": {
   "codemirror_mode": {
    "name": "ipython",
    "version": 3
   },
   "file_extension": ".py",
   "mimetype": "text/x-python",
   "name": "python",
   "nbconvert_exporter": "python",
   "pygments_lexer": "ipython3",
   "version": "3.11.11"
  }
 },
 "nbformat": 4,
 "nbformat_minor": 2
}
